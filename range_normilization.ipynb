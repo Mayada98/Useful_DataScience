{
 "cells": [
  {
   "cell_type": "code",
   "execution_count": 1,
   "metadata": {},
   "outputs": [],
   "source": [
    "def normalize(values, bounds):\n",
    "    \n",
    "    \"\"\"\n",
    "    the used formula is:\n",
    "        al + (xi - bl)*(au - al)/ bu-bl\n",
    "    where:\n",
    "        al - desired lower limit/bound\n",
    "        au- desired upper limit/bound\n",
    "        bl- actual lower limit/bound\n",
    "        bu- actual upper limit/bound\n",
    "        xi- value from vector  \n",
    "        \n",
    "    The upper formula written in another way could be:\n",
    "        \n",
    "        X_std = (X - X.min)/ (X.max - X.min)\n",
    "        Scale = (max - min) + min\n",
    "        Scaled_X = X_std * Scale \n",
    "        \n",
    "    Bounds is expected to be a dictionary. Example:\n",
    "        {'actual': {'lower': 0, 'upper': 1}, 'desired': {'lower': 0.3, 'upper': 0.5}}\n",
    "    \n",
    "    \"\"\"\n",
    "    result = [bounds['desired']['lower'] + (x - bounds['actual']['lower']) * (bounds['desired']['upper'] - bounds['desired']['lower']) / (bounds['actual']['upper'] - bounds['actual']['lower']) for x in values] \n",
    "    return result"
   ]
  },
  {
   "cell_type": "code",
   "execution_count": 2,
   "metadata": {},
   "outputs": [
    {
     "name": "stdout",
     "output_type": "stream",
     "text": [
      "[700.0, 686.4, 671.2, 784.0, 1000.0]\n"
     ]
    }
   ],
   "source": [
    "sample =  [500, 432, 356, 920, 2000]\n",
    "\n",
    "test = normalize( [500, 432, 356, 920, 1000],\n",
    "    {'actual': {'lower': 0, 'upper': 1000}, 'desired': {'lower': 600, 'upper':800}})\n",
    "print(test)"
   ]
  },
  {
   "cell_type": "code",
   "execution_count": null,
   "metadata": {},
   "outputs": [],
   "source": []
  }
 ],
 "metadata": {
  "kernelspec": {
   "display_name": "Python 3 (ipykernel)",
   "language": "python",
   "name": "python3"
  },
  "language_info": {
   "codemirror_mode": {
    "name": "ipython",
    "version": 3
   },
   "file_extension": ".py",
   "mimetype": "text/x-python",
   "name": "python",
   "nbconvert_exporter": "python",
   "pygments_lexer": "ipython3",
   "version": "3.9.7"
  }
 },
 "nbformat": 4,
 "nbformat_minor": 4
}
