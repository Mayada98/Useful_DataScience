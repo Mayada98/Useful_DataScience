{
 "cells": [
  {
   "cell_type": "markdown",
   "metadata": {},
   "source": [
    "#### WOE function for categorical variables"
   ]
  },
  {
   "cell_type": "code",
   "execution_count": 1,
   "metadata": {},
   "outputs": [],
   "source": [
    "import pandas as pd\n",
    "import numpy as np\n",
    "data = pd.read_csv(\"C:/Users/User/Desktop/Mayada Kh/University/Дипломна/materials/datasets/application_train.csv\")"
   ]
  },
  {
   "cell_type": "code",
   "execution_count": 2,
   "metadata": {},
   "outputs": [
    {
     "data": {
      "text/plain": [
       "0         1\n",
       "1         0\n",
       "2         0\n",
       "3         0\n",
       "4         0\n",
       "         ..\n",
       "307506    0\n",
       "307507    0\n",
       "307508    0\n",
       "307509    1\n",
       "307510    0\n",
       "Name: TARGET, Length: 307511, dtype: int64"
      ]
     },
     "execution_count": 2,
     "metadata": {},
     "output_type": "execute_result"
    }
   ],
   "source": [
    "data.TARGET"
   ]
  },
  {
   "cell_type": "code",
   "execution_count": 3,
   "metadata": {},
   "outputs": [],
   "source": [
    "def WOE(df, var, target):\n",
    "    df[var] = df[var].fillna('missing')\n",
    "    k = df[[var,target]].groupby(var)[target].agg(['count','sum']).reset_index()\n",
    "    k.columns = [var,'Count','Good']\n",
    "    k['Bad'] = k['Count'] - k['Good']\n",
    "    k['Good %'] = (k['Good'] / k['Good'].sum()*100).round(2)\n",
    "    k['Bad %'] = (k['Bad'] / k['Bad'].sum()*100).round(2)\n",
    "    k[var+'_WOE'] = np.log(k['Good %'] / k['Bad %']).round(2)\n",
    "    k = k.sort_values(by=var+'_WOE')\n",
    "    return(k)"
   ]
  },
  {
   "cell_type": "markdown",
   "metadata": {},
   "source": [
    "Testing on the **OCCUPATION_TYPE** column"
   ]
  },
  {
   "cell_type": "code",
   "execution_count": 4,
   "metadata": {},
   "outputs": [
    {
     "data": {
      "text/html": [
       "<div>\n",
       "<style scoped>\n",
       "    .dataframe tbody tr th:only-of-type {\n",
       "        vertical-align: middle;\n",
       "    }\n",
       "\n",
       "    .dataframe tbody tr th {\n",
       "        vertical-align: top;\n",
       "    }\n",
       "\n",
       "    .dataframe thead th {\n",
       "        text-align: right;\n",
       "    }\n",
       "</style>\n",
       "<table border=\"1\" class=\"dataframe\">\n",
       "  <thead>\n",
       "    <tr style=\"text-align: right;\">\n",
       "      <th></th>\n",
       "      <th>OCCUPATION_TYPE</th>\n",
       "      <th>Count</th>\n",
       "      <th>Good</th>\n",
       "      <th>Bad</th>\n",
       "      <th>Good %</th>\n",
       "      <th>Bad %</th>\n",
       "      <th>OCCUPATION_TYPE_WOE</th>\n",
       "    </tr>\n",
       "  </thead>\n",
       "  <tbody>\n",
       "    <tr>\n",
       "      <th>0</th>\n",
       "      <td>Accountants</td>\n",
       "      <td>9813</td>\n",
       "      <td>474</td>\n",
       "      <td>9339</td>\n",
       "      <td>1.91</td>\n",
       "      <td>3.30</td>\n",
       "      <td>-0.55</td>\n",
       "    </tr>\n",
       "    <tr>\n",
       "      <th>6</th>\n",
       "      <td>High skill tech staff</td>\n",
       "      <td>11380</td>\n",
       "      <td>701</td>\n",
       "      <td>10679</td>\n",
       "      <td>2.82</td>\n",
       "      <td>3.78</td>\n",
       "      <td>-0.29</td>\n",
       "    </tr>\n",
       "    <tr>\n",
       "      <th>10</th>\n",
       "      <td>Managers</td>\n",
       "      <td>21371</td>\n",
       "      <td>1328</td>\n",
       "      <td>20043</td>\n",
       "      <td>5.35</td>\n",
       "      <td>7.09</td>\n",
       "      <td>-0.28</td>\n",
       "    </tr>\n",
       "    <tr>\n",
       "      <th>3</th>\n",
       "      <td>Core staff</td>\n",
       "      <td>27570</td>\n",
       "      <td>1738</td>\n",
       "      <td>25832</td>\n",
       "      <td>7.00</td>\n",
       "      <td>9.14</td>\n",
       "      <td>-0.27</td>\n",
       "    </tr>\n",
       "    <tr>\n",
       "      <th>5</th>\n",
       "      <td>HR staff</td>\n",
       "      <td>563</td>\n",
       "      <td>36</td>\n",
       "      <td>527</td>\n",
       "      <td>0.15</td>\n",
       "      <td>0.19</td>\n",
       "      <td>-0.24</td>\n",
       "    </tr>\n",
       "    <tr>\n",
       "      <th>12</th>\n",
       "      <td>Private service staff</td>\n",
       "      <td>2652</td>\n",
       "      <td>175</td>\n",
       "      <td>2477</td>\n",
       "      <td>0.70</td>\n",
       "      <td>0.88</td>\n",
       "      <td>-0.23</td>\n",
       "    </tr>\n",
       "    <tr>\n",
       "      <th>18</th>\n",
       "      <td>missing</td>\n",
       "      <td>96391</td>\n",
       "      <td>6278</td>\n",
       "      <td>90113</td>\n",
       "      <td>25.29</td>\n",
       "      <td>31.88</td>\n",
       "      <td>-0.23</td>\n",
       "    </tr>\n",
       "    <tr>\n",
       "      <th>11</th>\n",
       "      <td>Medicine staff</td>\n",
       "      <td>8537</td>\n",
       "      <td>572</td>\n",
       "      <td>7965</td>\n",
       "      <td>2.30</td>\n",
       "      <td>2.82</td>\n",
       "      <td>-0.20</td>\n",
       "    </tr>\n",
       "    <tr>\n",
       "      <th>7</th>\n",
       "      <td>IT staff</td>\n",
       "      <td>526</td>\n",
       "      <td>34</td>\n",
       "      <td>492</td>\n",
       "      <td>0.14</td>\n",
       "      <td>0.17</td>\n",
       "      <td>-0.19</td>\n",
       "    </tr>\n",
       "    <tr>\n",
       "      <th>15</th>\n",
       "      <td>Secretaries</td>\n",
       "      <td>1305</td>\n",
       "      <td>92</td>\n",
       "      <td>1213</td>\n",
       "      <td>0.37</td>\n",
       "      <td>0.43</td>\n",
       "      <td>-0.15</td>\n",
       "    </tr>\n",
       "    <tr>\n",
       "      <th>13</th>\n",
       "      <td>Realty agents</td>\n",
       "      <td>751</td>\n",
       "      <td>59</td>\n",
       "      <td>692</td>\n",
       "      <td>0.24</td>\n",
       "      <td>0.24</td>\n",
       "      <td>0.00</td>\n",
       "    </tr>\n",
       "    <tr>\n",
       "      <th>1</th>\n",
       "      <td>Cleaning staff</td>\n",
       "      <td>4653</td>\n",
       "      <td>447</td>\n",
       "      <td>4206</td>\n",
       "      <td>1.80</td>\n",
       "      <td>1.49</td>\n",
       "      <td>0.19</td>\n",
       "    </tr>\n",
       "    <tr>\n",
       "      <th>14</th>\n",
       "      <td>Sales staff</td>\n",
       "      <td>32102</td>\n",
       "      <td>3092</td>\n",
       "      <td>29010</td>\n",
       "      <td>12.46</td>\n",
       "      <td>10.26</td>\n",
       "      <td>0.19</td>\n",
       "    </tr>\n",
       "    <tr>\n",
       "      <th>2</th>\n",
       "      <td>Cooking staff</td>\n",
       "      <td>5946</td>\n",
       "      <td>621</td>\n",
       "      <td>5325</td>\n",
       "      <td>2.50</td>\n",
       "      <td>1.88</td>\n",
       "      <td>0.29</td>\n",
       "    </tr>\n",
       "    <tr>\n",
       "      <th>8</th>\n",
       "      <td>Laborers</td>\n",
       "      <td>55186</td>\n",
       "      <td>5838</td>\n",
       "      <td>49348</td>\n",
       "      <td>23.52</td>\n",
       "      <td>17.46</td>\n",
       "      <td>0.30</td>\n",
       "    </tr>\n",
       "    <tr>\n",
       "      <th>16</th>\n",
       "      <td>Security staff</td>\n",
       "      <td>6721</td>\n",
       "      <td>722</td>\n",
       "      <td>5999</td>\n",
       "      <td>2.91</td>\n",
       "      <td>2.12</td>\n",
       "      <td>0.32</td>\n",
       "    </tr>\n",
       "    <tr>\n",
       "      <th>17</th>\n",
       "      <td>Waiters/barmen staff</td>\n",
       "      <td>1348</td>\n",
       "      <td>152</td>\n",
       "      <td>1196</td>\n",
       "      <td>0.61</td>\n",
       "      <td>0.42</td>\n",
       "      <td>0.37</td>\n",
       "    </tr>\n",
       "    <tr>\n",
       "      <th>4</th>\n",
       "      <td>Drivers</td>\n",
       "      <td>18603</td>\n",
       "      <td>2107</td>\n",
       "      <td>16496</td>\n",
       "      <td>8.49</td>\n",
       "      <td>5.84</td>\n",
       "      <td>0.37</td>\n",
       "    </tr>\n",
       "    <tr>\n",
       "      <th>9</th>\n",
       "      <td>Low-skill Laborers</td>\n",
       "      <td>2093</td>\n",
       "      <td>359</td>\n",
       "      <td>1734</td>\n",
       "      <td>1.45</td>\n",
       "      <td>0.61</td>\n",
       "      <td>0.87</td>\n",
       "    </tr>\n",
       "  </tbody>\n",
       "</table>\n",
       "</div>"
      ],
      "text/plain": [
       "          OCCUPATION_TYPE  Count  Good    Bad  Good %  Bad %  \\\n",
       "0             Accountants   9813   474   9339    1.91   3.30   \n",
       "6   High skill tech staff  11380   701  10679    2.82   3.78   \n",
       "10               Managers  21371  1328  20043    5.35   7.09   \n",
       "3              Core staff  27570  1738  25832    7.00   9.14   \n",
       "5                HR staff    563    36    527    0.15   0.19   \n",
       "12  Private service staff   2652   175   2477    0.70   0.88   \n",
       "18                missing  96391  6278  90113   25.29  31.88   \n",
       "11         Medicine staff   8537   572   7965    2.30   2.82   \n",
       "7                IT staff    526    34    492    0.14   0.17   \n",
       "15            Secretaries   1305    92   1213    0.37   0.43   \n",
       "13          Realty agents    751    59    692    0.24   0.24   \n",
       "1          Cleaning staff   4653   447   4206    1.80   1.49   \n",
       "14            Sales staff  32102  3092  29010   12.46  10.26   \n",
       "2           Cooking staff   5946   621   5325    2.50   1.88   \n",
       "8                Laborers  55186  5838  49348   23.52  17.46   \n",
       "16         Security staff   6721   722   5999    2.91   2.12   \n",
       "17   Waiters/barmen staff   1348   152   1196    0.61   0.42   \n",
       "4                 Drivers  18603  2107  16496    8.49   5.84   \n",
       "9      Low-skill Laborers   2093   359   1734    1.45   0.61   \n",
       "\n",
       "    OCCUPATION_TYPE_WOE  \n",
       "0                 -0.55  \n",
       "6                 -0.29  \n",
       "10                -0.28  \n",
       "3                 -0.27  \n",
       "5                 -0.24  \n",
       "12                -0.23  \n",
       "18                -0.23  \n",
       "11                -0.20  \n",
       "7                 -0.19  \n",
       "15                -0.15  \n",
       "13                 0.00  \n",
       "1                  0.19  \n",
       "14                 0.19  \n",
       "2                  0.29  \n",
       "8                  0.30  \n",
       "16                 0.32  \n",
       "17                 0.37  \n",
       "4                  0.37  \n",
       "9                  0.87  "
      ]
     },
     "execution_count": 4,
     "metadata": {},
     "output_type": "execute_result"
    }
   ],
   "source": [
    "df_woe = WOE(data, 'OCCUPATION_TYPE', 'TARGET') \n",
    "df_woe"
   ]
  },
  {
   "cell_type": "markdown",
   "metadata": {},
   "source": [
    "In the above result we can see each unique value in the **OCCUPATION_TYPE** column, its value counts, number of Good and Bad customers and the corresponding WOE value. We can then use the resulting WOE values in our models."
   ]
  },
  {
   "cell_type": "code",
   "execution_count": 5,
   "metadata": {},
   "outputs": [
    {
     "name": "stdout",
     "output_type": "stream",
     "text": [
      "{'Accountants': -0.55, 'High skill tech staff': -0.29, 'Managers': -0.28, 'Core staff': -0.27, 'HR staff': -0.24, 'Private service staff': -0.23, 'missing': -0.23, 'Medicine staff': -0.2, 'IT staff': -0.19, 'Secretaries': -0.15, 'Realty agents': 0.0, 'Cleaning staff': 0.19, 'Sales staff': 0.19, 'Cooking staff': 0.29, 'Laborers': 0.3, 'Security staff': 0.32, 'Waiters/barmen staff': 0.37, 'Drivers': 0.37, 'Low-skill Laborers': 0.87}\n"
     ]
    }
   ],
   "source": [
    "#Creating a mapping dictionary\n",
    "a = df_woe.OCCUPATION_TYPE.values\n",
    "b =  df_woe.OCCUPATION_TYPE_WOE.values\n",
    "mapping_dict = dict(zip(a,b))\n",
    "print(mapping_dict)"
   ]
  },
  {
   "cell_type": "code",
   "execution_count": 6,
   "metadata": {},
   "outputs": [],
   "source": [
    "#Add mapped column to dataset\n",
    "data['OCCUPATION_TYPE_WOE'] = data.OCCUPATION_TYPE.replace(mapping_dict)"
   ]
  },
  {
   "cell_type": "code",
   "execution_count": 7,
   "metadata": {},
   "outputs": [
    {
     "data": {
      "text/plain": [
       "0    0.30\n",
       "1   -0.27\n",
       "2    0.30\n",
       "3    0.30\n",
       "4   -0.27\n",
       "Name: OCCUPATION_TYPE_WOE, dtype: float64"
      ]
     },
     "execution_count": 7,
     "metadata": {},
     "output_type": "execute_result"
    }
   ],
   "source": [
    "data.OCCUPATION_TYPE_WOE.head()"
   ]
  },
  {
   "cell_type": "markdown",
   "metadata": {},
   "source": [
    "#### Target encoding "
   ]
  },
  {
   "cell_type": "code",
   "execution_count": 8,
   "metadata": {},
   "outputs": [],
   "source": [
    "def target_encoder(df, column, target, index=None, method='mean'):\n",
    "\n",
    "    index = df.index if index is None else index # Encode the entire input df if no specific indices is supplied\n",
    "\n",
    "    if method == 'mean':\n",
    "        encoded_column = df[column].map(df.iloc[index].groupby(column)[target].mean())\n",
    "    elif method == 'median':\n",
    "        encoded_column = df[column].map(df.iloc[index].groupby(column)[target].median())\n",
    "    elif method == 'std':\n",
    "        encoded_column = df[column].map(df.iloc[index].groupby(column)[target].std())\n",
    "    else:\n",
    "        raise ValueError(\"Incorrect method supplied: '{}'. Must be one of 'mean', 'median', 'std'\".format(method))\n",
    "\n",
    "    return encoded_column"
   ]
  },
  {
   "cell_type": "markdown",
   "metadata": {},
   "source": [
    "Testing on the same column"
   ]
  },
  {
   "cell_type": "code",
   "execution_count": 9,
   "metadata": {},
   "outputs": [],
   "source": [
    "data['OCCUPATION_TYPE'] = data['OCCUPATION_TYPE'].fillna('NoData')"
   ]
  },
  {
   "cell_type": "code",
   "execution_count": 10,
   "metadata": {},
   "outputs": [],
   "source": [
    "data['OCCUPATION_TYPE_Target'] = target_encoder(data, 'OCCUPATION_TYPE', 'TARGET')"
   ]
  },
  {
   "cell_type": "code",
   "execution_count": 11,
   "metadata": {},
   "outputs": [
    {
     "data": {
      "text/plain": [
       "0    0.105788\n",
       "1    0.063040\n",
       "2    0.105788\n",
       "3    0.105788\n",
       "4    0.063040\n",
       "Name: OCCUPATION_TYPE_Target, dtype: float64"
      ]
     },
     "execution_count": 11,
     "metadata": {},
     "output_type": "execute_result"
    }
   ],
   "source": [
    "data.OCCUPATION_TYPE_Target.head()"
   ]
  },
  {
   "cell_type": "markdown",
   "metadata": {},
   "source": [
    "#### ENCODING FUNCTION"
   ]
  },
  {
   "cell_type": "code",
   "execution_count": 12,
   "metadata": {},
   "outputs": [],
   "source": [
    "def encode(var, target, df, method = \"WoE\", index=None):\n",
    "    \n",
    "    index = df.index \n",
    "    if method == 'WoE':\n",
    "        df[var] = df[var].fillna('missing')\n",
    "        k = df[[var,target]].groupby(var)[target].agg(['count','sum']).reset_index()\n",
    "        k.columns = [var,'Count','Good']\n",
    "        k['Bad'] = k['Count'] - k['Good']\n",
    "        k['Good %'] = (k['Good'] / k['Good'].sum()*100).round(2)\n",
    "        k['Bad %'] = (k['Bad'] / k['Bad'].sum()*100).round(2)\n",
    "        k[var+'_WOE'] = np.log(k['Good %'] / k['Bad %']).round(2)\n",
    "        k = k.sort_values(by=var+'_WOE')\n",
    "        dictionary = dict(zip(k[var], k[var+'_WOE']))\n",
    "\n",
    "    elif method == 'target_enc':\n",
    "        k = df.iloc[index].groupby(var)[target].mean().reset_index()\n",
    "        k.columns = [var, var+'_DepMean']\n",
    "        k = k.sort_values(by=var+'_DepMean')\n",
    "        dictionary = dict(zip(k[var], k[var+'_DepMean']))\n",
    "    \n",
    "    return dictionary"
   ]
  },
  {
   "cell_type": "code",
   "execution_count": 13,
   "metadata": {},
   "outputs": [],
   "source": [
    "mapping_dictionary = encode(var ='OCCUPATION_TYPE', method ='target_enc', df =data, target = 'TARGET' )"
   ]
  },
  {
   "cell_type": "code",
   "execution_count": 14,
   "metadata": {},
   "outputs": [
    {
     "data": {
      "text/plain": [
       "{'Accountants': 0.04830327117089575,\n",
       " 'High skill tech staff': 0.06159929701230228,\n",
       " 'Managers': 0.06214028356183613,\n",
       " 'Core staff': 0.06303953572723975,\n",
       " 'HR staff': 0.06394316163410302,\n",
       " 'IT staff': 0.06463878326996197,\n",
       " 'missing': 0.06513056198192778,\n",
       " 'Private service staff': 0.06598793363499246,\n",
       " 'Medicine staff': 0.06700245988052009,\n",
       " 'Secretaries': 0.07049808429118774,\n",
       " 'Realty agents': 0.07856191744340879,\n",
       " 'Cleaning staff': 0.09606705351386202,\n",
       " 'Sales staff': 0.0963179864182917,\n",
       " 'Cooking staff': 0.10443995963673057,\n",
       " 'Laborers': 0.10578769977892943,\n",
       " 'Security staff': 0.10742449040321381,\n",
       " 'Waiters/barmen staff': 0.11275964391691394,\n",
       " 'Drivers': 0.11326130194054722,\n",
       " 'Low-skill Laborers': 0.17152412804586717}"
      ]
     },
     "execution_count": 14,
     "metadata": {},
     "output_type": "execute_result"
    }
   ],
   "source": [
    "mapping_dictionary"
   ]
  },
  {
   "cell_type": "code",
   "execution_count": null,
   "metadata": {},
   "outputs": [],
   "source": []
  }
 ],
 "metadata": {
  "kernelspec": {
   "display_name": "Python 3 (ipykernel)",
   "language": "python",
   "name": "python3"
  },
  "language_info": {
   "codemirror_mode": {
    "name": "ipython",
    "version": 3
   },
   "file_extension": ".py",
   "mimetype": "text/x-python",
   "name": "python",
   "nbconvert_exporter": "python",
   "pygments_lexer": "ipython3",
   "version": "3.9.7"
  }
 },
 "nbformat": 4,
 "nbformat_minor": 4
}
