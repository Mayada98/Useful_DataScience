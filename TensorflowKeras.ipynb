{
  "nbformat": 4,
  "nbformat_minor": 0,
  "metadata": {
    "colab": {
      "name": "TensorflowKeras.ipynb",
      "provenance": [],
      "collapsed_sections": [],
      "authorship_tag": "ABX9TyPGNVvqRWXc0Sri8FNbDSE3",
      "include_colab_link": true
    },
    "kernelspec": {
      "name": "python3",
      "display_name": "Python 3"
    },
    "language_info": {
      "name": "python"
    }
  },
  "cells": [
    {
      "cell_type": "markdown",
      "metadata": {
        "id": "view-in-github",
        "colab_type": "text"
      },
      "source": [
        "<a href=\"https://colab.research.google.com/github/Mayada98/GoogleColabProjects/blob/main/TensorflowKeras.ipynb\" target=\"_parent\"><img src=\"https://colab.research.google.com/assets/colab-badge.svg\" alt=\"Open In Colab\"/></a>"
      ]
    },
    {
      "cell_type": "code",
      "execution_count": 11,
      "metadata": {
        "id": "3wiCmwnDuetC"
      },
      "outputs": [],
      "source": [
        "import tensorflow as tf\n",
        "import numpy as np \n",
        "import pandas as pd\n",
        "from keras.models import Sequential\n",
        "from keras.layers import Dense, Activation\n",
        "from keras.optimizers import adam_v2\n",
        "from keras.metrics import categorical_crossentropy\n",
        "from sklearn.utils import shuffle\n",
        "from sklearn.preprocessing import MinMaxScaler"
      ]
    },
    {
      "cell_type": "markdown",
      "source": [
        "#### Here is how to install libraries and packages in colab notebook"
      ],
      "metadata": {
        "id": "L_lKh5hC0Qy8"
      }
    },
    {
      "cell_type": "code",
      "source": [
        "!pip install pydot"
      ],
      "metadata": {
        "colab": {
          "base_uri": "https://localhost:8080/"
        },
        "id": "CjLXkzOByZBs",
        "outputId": "ca67ec00-0dc1-46ae-d759-524bc84cd6bc"
      },
      "execution_count": 8,
      "outputs": [
        {
          "output_type": "stream",
          "name": "stdout",
          "text": [
            "Requirement already satisfied: pydot in /usr/local/lib/python3.7/dist-packages (1.3.0)\n",
            "Requirement already satisfied: pyparsing>=2.1.4 in /usr/local/lib/python3.7/dist-packages (from pydot) (3.0.7)\n"
          ]
        }
      ]
    },
    {
      "cell_type": "markdown",
      "source": [
        "Generating our oun data using numpy to train out neural network.\n",
        "\n",
        "\n",
        "---\n",
        "\n",
        "\n",
        "Background story:\n"
      ],
      "metadata": {
        "id": "EqhiZ05qiFVq"
      }
    },
    {
      "cell_type": "code",
      "source": [
        "train_samples = []\n",
        "train_labels = []\n",
        "for i in range(50): #50 iterations since we are generatin 2 random values - random_younger and random_older, which will end up with a total of 100\n",
        "  # the ~5% of young  individuals who did experience side effects\n",
        "  random_younger = np.random.randint(13,64)\n",
        "  train_samples.append(random_younger)\n",
        "  train_labels.append(1)\n",
        "\n",
        "  # the ~5% of old  individuals who did not experience side effects\n",
        "  random_older = np.random.randint(65,100)\n",
        "  train_samples.append(random_older)\n",
        "  train_labels.append(0)\n",
        "\n",
        "for i in range(1000): #1000 iterations since we are generatin 2 random values - random_younger and random_older, which will end up with a total of 2000\n",
        "  # the ~95% of young  individuals who did not experience side effects\n",
        "  random_younger = np.random.randint(13,64)\n",
        "  train_samples.append(random_younger)\n",
        "  train_labels.append(0)\n",
        "\n",
        "  # the ~95% of young  individuals who did experience side effects\n",
        "  random_older = np.random.randint(65,100)\n",
        "  train_samples.append(random_older)\n",
        "  train_labels.append(1)"
      ],
      "metadata": {
        "id": "egRzYEoG0LA3"
      },
      "execution_count": 2,
      "outputs": []
    },
    {
      "cell_type": "code",
      "source": [
        "train_labels = np.array(train_labels)\n",
        "train_samples = np.array(train_samples)\n",
        "train_labels, train_samples = shuffle(train_labels, train_samples) # we do this to get rid of any imposed order from the data generation process "
      ],
      "metadata": {
        "id": "gPhblbOqkCPh"
      },
      "execution_count": 3,
      "outputs": []
    },
    {
      "cell_type": "code",
      "source": [
        "# We do this step to normalize/standardize our data so the training of our neural network becomes more efficient\n",
        "scaler = MinMaxScaler(feature_range= (0,1))\n",
        "scaled_train_samples = scaler.fit_transform(train_samples.reshape(-1,1)) # rescaling data from scale 13 to 100 down to 0 to 1. We also convert the array into 2D array."
      ],
      "metadata": {
        "id": "GRF0apwEl18A"
      },
      "execution_count": 4,
      "outputs": []
    },
    {
      "cell_type": "code",
      "source": [
        "from keras.engine import input_layer\n",
        "model = Sequential([Dense(units = 16, input_shape = (1,), activation = 'relu'), \n",
        "                    Dense(units = 32, activation = 'relu'), \n",
        "                    Dense(units = 2, activation = 'softmax')]) # 2 units corresponding to the class 1 and 0 - probability of experiencing side effects\n",
        "                    #Dense is the densely (fully) connected  layer"
      ],
      "metadata": {
        "id": "YlBdqcEvl2VU"
      },
      "execution_count": 41,
      "outputs": []
    },
    {
      "cell_type": "code",
      "source": [
        "model.summary()"
      ],
      "metadata": {
        "colab": {
          "base_uri": "https://localhost:8080/"
        },
        "id": "7Lf-8p4Otm1F",
        "outputId": "a51e7deb-651a-4b39-fceb-b1bb8aeab7de"
      },
      "execution_count": 42,
      "outputs": [
        {
          "output_type": "stream",
          "name": "stdout",
          "text": [
            "Model: \"sequential_6\"\n",
            "_________________________________________________________________\n",
            " Layer (type)                Output Shape              Param #   \n",
            "=================================================================\n",
            " dense_17 (Dense)            (None, 16)                32        \n",
            "                                                                 \n",
            " dense_18 (Dense)            (None, 32)                544       \n",
            "                                                                 \n",
            " dense_19 (Dense)            (None, 2)                 66        \n",
            "                                                                 \n",
            "=================================================================\n",
            "Total params: 642\n",
            "Trainable params: 642\n",
            "Non-trainable params: 0\n",
            "_________________________________________________________________\n"
          ]
        }
      ]
    },
    {
      "cell_type": "code",
      "source": [
        "model.compile(optimizer = adam_v2.Adam(learning_rate = 0.0001), loss = 'sparse_categorical_crossentropy', metrics = ['accuracy'])"
      ],
      "metadata": {
        "id": "n88Mt5ZZtm7w"
      },
      "execution_count": 43,
      "outputs": []
    },
    {
      "cell_type": "code",
      "source": [
        "model.fit(x = scaled_train_samples, y = train_labels, batch_size = 10, epochs = 30, shuffle = True, verbose = 2)"
      ],
      "metadata": {
        "colab": {
          "base_uri": "https://localhost:8080/"
        },
        "id": "U_rSD5LztnFM",
        "outputId": "13f579e6-21dd-48c3-e5ed-4094f03f7444"
      },
      "execution_count": 44,
      "outputs": [
        {
          "output_type": "stream",
          "name": "stdout",
          "text": [
            "Epoch 1/30\n",
            "210/210 - 1s - loss: 0.6761 - accuracy: 0.5519 - 676ms/epoch - 3ms/step\n",
            "Epoch 2/30\n",
            "210/210 - 0s - loss: 0.6366 - accuracy: 0.6510 - 302ms/epoch - 1ms/step\n",
            "Epoch 3/30\n",
            "210/210 - 0s - loss: 0.5928 - accuracy: 0.7567 - 291ms/epoch - 1ms/step\n",
            "Epoch 4/30\n",
            "210/210 - 0s - loss: 0.5541 - accuracy: 0.7919 - 308ms/epoch - 1ms/step\n",
            "Epoch 5/30\n",
            "210/210 - 0s - loss: 0.5147 - accuracy: 0.8224 - 302ms/epoch - 1ms/step\n",
            "Epoch 6/30\n",
            "210/210 - 0s - loss: 0.4768 - accuracy: 0.8576 - 291ms/epoch - 1ms/step\n",
            "Epoch 7/30\n",
            "210/210 - 0s - loss: 0.4411 - accuracy: 0.8767 - 289ms/epoch - 1ms/step\n",
            "Epoch 8/30\n",
            "210/210 - 0s - loss: 0.4093 - accuracy: 0.8876 - 297ms/epoch - 1ms/step\n",
            "Epoch 9/30\n",
            "210/210 - 0s - loss: 0.3815 - accuracy: 0.9010 - 294ms/epoch - 1ms/step\n",
            "Epoch 10/30\n",
            "210/210 - 0s - loss: 0.3579 - accuracy: 0.9152 - 310ms/epoch - 1ms/step\n",
            "Epoch 11/30\n",
            "210/210 - 0s - loss: 0.3384 - accuracy: 0.9157 - 296ms/epoch - 1ms/step\n",
            "Epoch 12/30\n",
            "210/210 - 0s - loss: 0.3221 - accuracy: 0.9229 - 293ms/epoch - 1ms/step\n",
            "Epoch 13/30\n",
            "210/210 - 0s - loss: 0.3092 - accuracy: 0.9281 - 286ms/epoch - 1ms/step\n",
            "Epoch 14/30\n",
            "210/210 - 0s - loss: 0.2988 - accuracy: 0.9281 - 299ms/epoch - 1ms/step\n",
            "Epoch 15/30\n",
            "210/210 - 0s - loss: 0.2902 - accuracy: 0.9281 - 302ms/epoch - 1ms/step\n",
            "Epoch 16/30\n",
            "210/210 - 0s - loss: 0.2836 - accuracy: 0.9338 - 287ms/epoch - 1ms/step\n",
            "Epoch 17/30\n",
            "210/210 - 0s - loss: 0.2777 - accuracy: 0.9381 - 277ms/epoch - 1ms/step\n",
            "Epoch 18/30\n",
            "210/210 - 0s - loss: 0.2734 - accuracy: 0.9362 - 284ms/epoch - 1ms/step\n",
            "Epoch 19/30\n",
            "210/210 - 0s - loss: 0.2696 - accuracy: 0.9348 - 488ms/epoch - 2ms/step\n",
            "Epoch 20/30\n",
            "210/210 - 1s - loss: 0.2665 - accuracy: 0.9405 - 609ms/epoch - 3ms/step\n",
            "Epoch 21/30\n",
            "210/210 - 0s - loss: 0.2637 - accuracy: 0.9386 - 290ms/epoch - 1ms/step\n",
            "Epoch 22/30\n",
            "210/210 - 1s - loss: 0.2612 - accuracy: 0.9419 - 816ms/epoch - 4ms/step\n",
            "Epoch 23/30\n",
            "210/210 - 0s - loss: 0.2595 - accuracy: 0.9381 - 309ms/epoch - 1ms/step\n",
            "Epoch 24/30\n",
            "210/210 - 1s - loss: 0.2576 - accuracy: 0.9410 - 852ms/epoch - 4ms/step\n",
            "Epoch 25/30\n",
            "210/210 - 0s - loss: 0.2561 - accuracy: 0.9400 - 488ms/epoch - 2ms/step\n",
            "Epoch 26/30\n",
            "210/210 - 0s - loss: 0.2544 - accuracy: 0.9410 - 392ms/epoch - 2ms/step\n",
            "Epoch 27/30\n",
            "210/210 - 0s - loss: 0.2530 - accuracy: 0.9410 - 424ms/epoch - 2ms/step\n",
            "Epoch 28/30\n",
            "210/210 - 0s - loss: 0.2516 - accuracy: 0.9429 - 293ms/epoch - 1ms/step\n",
            "Epoch 29/30\n",
            "210/210 - 0s - loss: 0.2503 - accuracy: 0.9400 - 297ms/epoch - 1ms/step\n",
            "Epoch 30/30\n",
            "210/210 - 0s - loss: 0.2492 - accuracy: 0.9414 - 278ms/epoch - 1ms/step\n"
          ]
        },
        {
          "output_type": "execute_result",
          "data": {
            "text/plain": [
              "<keras.callbacks.History at 0x7f2860576ed0>"
            ]
          },
          "metadata": {},
          "execution_count": 44
        }
      ]
    },
    {
      "cell_type": "code",
      "source": [
        "def baseline_model():\n",
        "  # create model\n",
        "  model = Sequential()\n",
        "  model.add(Dense(18,input_dim=1,kernel_initializer='normal',activation='relu'))\n",
        "  model.add(Dense(32, activation='relu'))\n",
        "  model.add(Dense(1, activation='sigmoid'))\n",
        "  # Compile model\n",
        "  model.compile(loss='mean_squared_error', optimizer= adam_v2.Adam(learning_rate = 0.0001), metrics = ['accuracy'])    \n",
        "  return model"
      ],
      "metadata": {
        "id": "OjpzlkJlrR8E"
      },
      "execution_count": 22,
      "outputs": []
    },
    {
      "cell_type": "code",
      "source": [
        "model = baseline_model()"
      ],
      "metadata": {
        "id": "NlKtkfQyrSAf"
      },
      "execution_count": 23,
      "outputs": []
    },
    {
      "cell_type": "code",
      "source": [
        "model.summary()"
      ],
      "metadata": {
        "colab": {
          "base_uri": "https://localhost:8080/"
        },
        "id": "k6H2cQQWyNcH",
        "outputId": "1b20b8c9-fa46-4c59-fe73-60d5d6465eb2"
      },
      "execution_count": 24,
      "outputs": [
        {
          "output_type": "stream",
          "name": "stdout",
          "text": [
            "Model: \"sequential_5\"\n",
            "_________________________________________________________________\n",
            " Layer (type)                Output Shape              Param #   \n",
            "=================================================================\n",
            " dense_14 (Dense)            (None, 18)                36        \n",
            "                                                                 \n",
            " dense_15 (Dense)            (None, 32)                608       \n",
            "                                                                 \n",
            " dense_16 (Dense)            (None, 1)                 33        \n",
            "                                                                 \n",
            "=================================================================\n",
            "Total params: 677\n",
            "Trainable params: 677\n",
            "Non-trainable params: 0\n",
            "_________________________________________________________________\n"
          ]
        }
      ]
    },
    {
      "cell_type": "code",
      "source": [
        "model.fit(x = scaled_train_samples, y = train_labels, batch_size = 10, epochs = 30, shuffle = True, verbose =2)"
      ],
      "metadata": {
        "colab": {
          "base_uri": "https://localhost:8080/"
        },
        "id": "WCxLa6mPyhrj",
        "outputId": "d3d6a08b-c74d-4871-dcd8-234741007e32"
      },
      "execution_count": 25,
      "outputs": [
        {
          "output_type": "stream",
          "name": "stdout",
          "text": [
            "Epoch 1/30\n",
            "210/210 - 1s - loss: 0.2510 - accuracy: 0.5376 - 955ms/epoch - 5ms/step\n",
            "Epoch 2/30\n",
            "210/210 - 0s - loss: 0.2470 - accuracy: 0.6767 - 291ms/epoch - 1ms/step\n",
            "Epoch 3/30\n",
            "210/210 - 0s - loss: 0.2428 - accuracy: 0.7019 - 314ms/epoch - 1ms/step\n",
            "Epoch 4/30\n",
            "210/210 - 0s - loss: 0.2365 - accuracy: 0.7138 - 286ms/epoch - 1ms/step\n",
            "Epoch 5/30\n",
            "210/210 - 0s - loss: 0.2280 - accuracy: 0.7590 - 290ms/epoch - 1ms/step\n",
            "Epoch 6/30\n",
            "210/210 - 0s - loss: 0.2179 - accuracy: 0.7848 - 288ms/epoch - 1ms/step\n",
            "Epoch 7/30\n",
            "210/210 - 0s - loss: 0.2065 - accuracy: 0.8081 - 286ms/epoch - 1ms/step\n",
            "Epoch 8/30\n",
            "210/210 - 0s - loss: 0.1942 - accuracy: 0.8310 - 287ms/epoch - 1ms/step\n",
            "Epoch 9/30\n",
            "210/210 - 0s - loss: 0.1817 - accuracy: 0.8548 - 284ms/epoch - 1ms/step\n",
            "Epoch 10/30\n",
            "210/210 - 0s - loss: 0.1694 - accuracy: 0.8643 - 294ms/epoch - 1ms/step\n",
            "Epoch 11/30\n",
            "210/210 - 0s - loss: 0.1576 - accuracy: 0.8800 - 281ms/epoch - 1ms/step\n",
            "Epoch 12/30\n",
            "210/210 - 0s - loss: 0.1467 - accuracy: 0.8876 - 281ms/epoch - 1ms/step\n",
            "Epoch 13/30\n",
            "210/210 - 0s - loss: 0.1367 - accuracy: 0.9000 - 316ms/epoch - 2ms/step\n",
            "Epoch 14/30\n",
            "210/210 - 0s - loss: 0.1280 - accuracy: 0.9033 - 280ms/epoch - 1ms/step\n",
            "Epoch 15/30\n",
            "210/210 - 0s - loss: 0.1202 - accuracy: 0.9152 - 301ms/epoch - 1ms/step\n",
            "Epoch 16/30\n",
            "210/210 - 0s - loss: 0.1134 - accuracy: 0.9171 - 288ms/epoch - 1ms/step\n",
            "Epoch 17/30\n",
            "210/210 - 0s - loss: 0.1075 - accuracy: 0.9171 - 297ms/epoch - 1ms/step\n",
            "Epoch 18/30\n",
            "210/210 - 0s - loss: 0.1024 - accuracy: 0.9252 - 283ms/epoch - 1ms/step\n",
            "Epoch 19/30\n",
            "210/210 - 0s - loss: 0.0980 - accuracy: 0.9248 - 282ms/epoch - 1ms/step\n",
            "Epoch 20/30\n",
            "210/210 - 0s - loss: 0.0942 - accuracy: 0.9310 - 291ms/epoch - 1ms/step\n",
            "Epoch 21/30\n",
            "210/210 - 0s - loss: 0.0908 - accuracy: 0.9281 - 280ms/epoch - 1ms/step\n",
            "Epoch 22/30\n",
            "210/210 - 0s - loss: 0.0879 - accuracy: 0.9310 - 284ms/epoch - 1ms/step\n",
            "Epoch 23/30\n",
            "210/210 - 0s - loss: 0.0854 - accuracy: 0.9343 - 295ms/epoch - 1ms/step\n",
            "Epoch 24/30\n",
            "210/210 - 0s - loss: 0.0831 - accuracy: 0.9338 - 287ms/epoch - 1ms/step\n",
            "Epoch 25/30\n",
            "210/210 - 0s - loss: 0.0811 - accuracy: 0.9338 - 280ms/epoch - 1ms/step\n",
            "Epoch 26/30\n",
            "210/210 - 0s - loss: 0.0793 - accuracy: 0.9343 - 283ms/epoch - 1ms/step\n",
            "Epoch 27/30\n",
            "210/210 - 0s - loss: 0.0777 - accuracy: 0.9405 - 307ms/epoch - 1ms/step\n",
            "Epoch 28/30\n",
            "210/210 - 0s - loss: 0.0762 - accuracy: 0.9343 - 308ms/epoch - 1ms/step\n",
            "Epoch 29/30\n",
            "210/210 - 0s - loss: 0.0750 - accuracy: 0.9424 - 291ms/epoch - 1ms/step\n",
            "Epoch 30/30\n",
            "210/210 - 0s - loss: 0.0739 - accuracy: 0.9376 - 308ms/epoch - 1ms/step\n"
          ]
        },
        {
          "output_type": "execute_result",
          "data": {
            "text/plain": [
              "<keras.callbacks.History at 0x7f286097c710>"
            ]
          },
          "metadata": {},
          "execution_count": 25
        }
      ]
    },
    {
      "cell_type": "markdown",
      "source": [
        "Adding validation sets to our model\n",
        "\n",
        "\n",
        "---\n",
        "\n",
        "\n",
        "There are 2 ways to do this. Firs one would be to pass a validation set in the form of a tuple of arrays x and y like so: validation_set = (x_val, y_val). The second way is to specify a split threshold like in the scikit learn train_test_split function where we specify test_size to be a percent of the data."
      ],
      "metadata": {
        "id": "STsu0Zpp0MlY"
      }
    },
    {
      "cell_type": "code",
      "source": [
        "model.fit(x=scaled_train_samples, y=train_labels, validation_split=0.1, batch_size=10, epochs=30, shuffle=True, verbose=2)"
      ],
      "metadata": {
        "colab": {
          "base_uri": "https://localhost:8080/"
        },
        "id": "g2NZh4Yn0PhX",
        "outputId": "eb004bd0-2451-41c4-ceb8-9b870f083362"
      },
      "execution_count": 45,
      "outputs": [
        {
          "output_type": "stream",
          "name": "stdout",
          "text": [
            "Epoch 1/30\n",
            "189/189 - 0s - loss: 0.2533 - accuracy: 0.9397 - val_loss: 0.2001 - val_accuracy: 0.9571 - 472ms/epoch - 2ms/step\n",
            "Epoch 2/30\n",
            "189/189 - 0s - loss: 0.2525 - accuracy: 0.9418 - val_loss: 0.1988 - val_accuracy: 0.9571 - 299ms/epoch - 2ms/step\n",
            "Epoch 3/30\n",
            "189/189 - 0s - loss: 0.2516 - accuracy: 0.9423 - val_loss: 0.1973 - val_accuracy: 0.9571 - 342ms/epoch - 2ms/step\n",
            "Epoch 4/30\n",
            "189/189 - 0s - loss: 0.2508 - accuracy: 0.9392 - val_loss: 0.1966 - val_accuracy: 0.9571 - 338ms/epoch - 2ms/step\n",
            "Epoch 5/30\n",
            "189/189 - 0s - loss: 0.2502 - accuracy: 0.9423 - val_loss: 0.1951 - val_accuracy: 0.9571 - 341ms/epoch - 2ms/step\n",
            "Epoch 6/30\n",
            "189/189 - 0s - loss: 0.2494 - accuracy: 0.9392 - val_loss: 0.1944 - val_accuracy: 0.9571 - 334ms/epoch - 2ms/step\n",
            "Epoch 7/30\n",
            "189/189 - 0s - loss: 0.2487 - accuracy: 0.9439 - val_loss: 0.1937 - val_accuracy: 0.9571 - 346ms/epoch - 2ms/step\n",
            "Epoch 8/30\n",
            "189/189 - 0s - loss: 0.2481 - accuracy: 0.9397 - val_loss: 0.1929 - val_accuracy: 0.9571 - 306ms/epoch - 2ms/step\n",
            "Epoch 9/30\n",
            "189/189 - 0s - loss: 0.2475 - accuracy: 0.9439 - val_loss: 0.1918 - val_accuracy: 0.9571 - 346ms/epoch - 2ms/step\n",
            "Epoch 10/30\n",
            "189/189 - 0s - loss: 0.2468 - accuracy: 0.9407 - val_loss: 0.1914 - val_accuracy: 0.9571 - 356ms/epoch - 2ms/step\n",
            "Epoch 11/30\n",
            "189/189 - 0s - loss: 0.2463 - accuracy: 0.9439 - val_loss: 0.1905 - val_accuracy: 0.9571 - 331ms/epoch - 2ms/step\n",
            "Epoch 12/30\n",
            "189/189 - 0s - loss: 0.2457 - accuracy: 0.9413 - val_loss: 0.1898 - val_accuracy: 0.9571 - 327ms/epoch - 2ms/step\n",
            "Epoch 13/30\n",
            "189/189 - 0s - loss: 0.2451 - accuracy: 0.9434 - val_loss: 0.1891 - val_accuracy: 0.9571 - 309ms/epoch - 2ms/step\n",
            "Epoch 14/30\n",
            "189/189 - 0s - loss: 0.2447 - accuracy: 0.9434 - val_loss: 0.1886 - val_accuracy: 0.9571 - 329ms/epoch - 2ms/step\n",
            "Epoch 15/30\n",
            "189/189 - 0s - loss: 0.2441 - accuracy: 0.9439 - val_loss: 0.1884 - val_accuracy: 0.9571 - 326ms/epoch - 2ms/step\n",
            "Epoch 16/30\n",
            "189/189 - 0s - loss: 0.2437 - accuracy: 0.9439 - val_loss: 0.1877 - val_accuracy: 0.9571 - 301ms/epoch - 2ms/step\n",
            "Epoch 17/30\n",
            "189/189 - 0s - loss: 0.2431 - accuracy: 0.9418 - val_loss: 0.1881 - val_accuracy: 0.9571 - 313ms/epoch - 2ms/step\n",
            "Epoch 18/30\n",
            "189/189 - 0s - loss: 0.2430 - accuracy: 0.9444 - val_loss: 0.1869 - val_accuracy: 0.9571 - 289ms/epoch - 2ms/step\n",
            "Epoch 19/30\n",
            "189/189 - 0s - loss: 0.2426 - accuracy: 0.9444 - val_loss: 0.1861 - val_accuracy: 0.9571 - 310ms/epoch - 2ms/step\n",
            "Epoch 20/30\n",
            "189/189 - 0s - loss: 0.2422 - accuracy: 0.9444 - val_loss: 0.1856 - val_accuracy: 0.9571 - 303ms/epoch - 2ms/step\n",
            "Epoch 21/30\n",
            "189/189 - 0s - loss: 0.2417 - accuracy: 0.9444 - val_loss: 0.1853 - val_accuracy: 0.9571 - 332ms/epoch - 2ms/step\n",
            "Epoch 22/30\n",
            "189/189 - 0s - loss: 0.2415 - accuracy: 0.9439 - val_loss: 0.1849 - val_accuracy: 0.9571 - 306ms/epoch - 2ms/step\n",
            "Epoch 23/30\n",
            "189/189 - 0s - loss: 0.2411 - accuracy: 0.9444 - val_loss: 0.1845 - val_accuracy: 0.9571 - 347ms/epoch - 2ms/step\n",
            "Epoch 24/30\n",
            "189/189 - 0s - loss: 0.2407 - accuracy: 0.9444 - val_loss: 0.1841 - val_accuracy: 0.9571 - 335ms/epoch - 2ms/step\n",
            "Epoch 25/30\n",
            "189/189 - 0s - loss: 0.2403 - accuracy: 0.9444 - val_loss: 0.1838 - val_accuracy: 0.9571 - 345ms/epoch - 2ms/step\n",
            "Epoch 26/30\n",
            "189/189 - 0s - loss: 0.2401 - accuracy: 0.9434 - val_loss: 0.1835 - val_accuracy: 0.9571 - 311ms/epoch - 2ms/step\n",
            "Epoch 27/30\n",
            "189/189 - 0s - loss: 0.2397 - accuracy: 0.9444 - val_loss: 0.1832 - val_accuracy: 0.9571 - 300ms/epoch - 2ms/step\n",
            "Epoch 28/30\n",
            "189/189 - 0s - loss: 0.2393 - accuracy: 0.9444 - val_loss: 0.1829 - val_accuracy: 0.9571 - 311ms/epoch - 2ms/step\n",
            "Epoch 29/30\n",
            "189/189 - 0s - loss: 0.2391 - accuracy: 0.9444 - val_loss: 0.1823 - val_accuracy: 0.9571 - 311ms/epoch - 2ms/step\n",
            "Epoch 30/30\n",
            "189/189 - 0s - loss: 0.2388 - accuracy: 0.9444 - val_loss: 0.1820 - val_accuracy: 0.9571 - 329ms/epoch - 2ms/step\n"
          ]
        },
        {
          "output_type": "execute_result",
          "data": {
            "text/plain": [
              "<keras.callbacks.History at 0x7f2860682410>"
            ]
          },
          "metadata": {},
          "execution_count": 45
        }
      ]
    },
    {
      "cell_type": "markdown",
      "source": [
        "Creating a test set to check wheher the model can generalize well with unseen data"
      ],
      "metadata": {
        "id": "SF-FDrzB4p1R"
      }
    },
    {
      "cell_type": "code",
      "source": [
        "test_samples = []\n",
        "test_labels = []"
      ],
      "metadata": {
        "id": "mDi7LLFh3su3"
      },
      "execution_count": 58,
      "outputs": []
    },
    {
      "cell_type": "code",
      "source": [
        "for i in range(50): #50 iterations since we are generatin 2 random values - random_younger and random_older, which will end up with a total of 100\n",
        "  # the ~5% of young  individuals who did experience side effects\n",
        "  random_younger = np.random.randint(13,64)\n",
        "  test_samples.append(random_younger)\n",
        "  test_labels.append(1)\n",
        "\n",
        "  # the ~5% of old  individuals who did not experience side effects\n",
        "  random_older = np.random.randint(65,100)\n",
        "  test_samples.append(random_older)\n",
        "  test_labels.append(0)\n",
        "\n",
        "for i in range(1000): #1000 iterations since we are generatin 2 random values - random_younger and random_older, which will end up with a total of 2000\n",
        "  # the ~95% of young  individuals who did not experience side effects\n",
        "  random_younger = np.random.randint(13,64)\n",
        "  test_samples.append(random_younger)\n",
        "  test_labels.append(0)\n",
        "\n",
        "  # the ~95% of young  individuals who did experience side effects\n",
        "  random_older = np.random.randint(65,100)\n",
        "  test_samples.append(random_older)\n",
        "  test_labels.append(1)"
      ],
      "metadata": {
        "id": "wHv0YMRC4pB5"
      },
      "execution_count": 59,
      "outputs": []
    },
    {
      "cell_type": "code",
      "source": [
        "test_labels = np.array(test_labels)\n",
        "test_samples = np.array(test_samples)\n",
        "test_labels, test_samples = shuffle(test_labels, test_samples) # we do this to get rid of any imposed order from the data generation process "
      ],
      "metadata": {
        "id": "kaC-Od_u4522"
      },
      "execution_count": 60,
      "outputs": []
    },
    {
      "cell_type": "code",
      "source": [
        "# We do this step to normalize/standardize our data so the training of our neural network becomes more efficient\n",
        "scaler = MinMaxScaler(feature_range= (0,1))\n",
        "scaled_test_samples = scaler.fit_transform(test_samples.reshape(-1,1)) # rescaling data from scale 13 to 100 down to 0 to 1. We also convert the array into 2D array."
      ],
      "metadata": {
        "id": "Jwp-bFz35KZL"
      },
      "execution_count": 61,
      "outputs": []
    },
    {
      "cell_type": "code",
      "source": [
        "predictions = model.predict(x = scaled_train_samples, batch_size=10, verbose = 0)"
      ],
      "metadata": {
        "id": "msb_aK-85vFh"
      },
      "execution_count": 62,
      "outputs": []
    },
    {
      "cell_type": "code",
      "source": [
        "predictions"
      ],
      "metadata": {
        "colab": {
          "base_uri": "https://localhost:8080/"
        },
        "id": "GVqGp_SK6ERj",
        "outputId": "90657087-5c37-46d8-f9a6-0a58be5f2049"
      },
      "execution_count": 63,
      "outputs": [
        {
          "output_type": "execute_result",
          "data": {
            "text/plain": [
              "array([[0.02988226, 0.97011775],\n",
              "       [0.9691892 , 0.03081078],\n",
              "       [0.46802506, 0.531975  ],\n",
              "       ...,\n",
              "       [0.05080276, 0.9491972 ],\n",
              "       [0.8604387 , 0.13956133],\n",
              "       [0.03267036, 0.9673296 ]], dtype=float32)"
            ]
          },
          "metadata": {},
          "execution_count": 63
        }
      ]
    },
    {
      "cell_type": "code",
      "source": [
        "rounded_predictions = np.argmax(predictions, axis = -1)"
      ],
      "metadata": {
        "id": "vogBF5lZ584H"
      },
      "execution_count": 64,
      "outputs": []
    },
    {
      "cell_type": "code",
      "source": [
        "rounded_predictions"
      ],
      "metadata": {
        "colab": {
          "base_uri": "https://localhost:8080/"
        },
        "id": "fGpntx706ygy",
        "outputId": "a0a30e17-f12e-4be3-8d33-de7cb7e3b8c7"
      },
      "execution_count": 65,
      "outputs": [
        {
          "output_type": "execute_result",
          "data": {
            "text/plain": [
              "array([1, 0, 1, ..., 1, 0, 1])"
            ]
          },
          "metadata": {},
          "execution_count": 65
        }
      ]
    },
    {
      "cell_type": "markdown",
      "source": [
        "Confusion Matrix"
      ],
      "metadata": {
        "id": "e97JWxv77xH5"
      }
    },
    {
      "cell_type": "code",
      "source": [
        "%matplotlib inline\n",
        "from sklearn.metrics import confusion_matrix\n",
        "import itertools\n",
        "import matplotlib.pyplot as plt"
      ],
      "metadata": {
        "id": "ih76UmP_61_1"
      },
      "execution_count": 66,
      "outputs": []
    },
    {
      "cell_type": "code",
      "source": [
        "cm = confusion_matrix(test_labels, rounded_predictions)"
      ],
      "metadata": {
        "id": "eQ1_39RL8Dx5"
      },
      "execution_count": 67,
      "outputs": []
    },
    {
      "cell_type": "code",
      "source": [
        "def plot_confusion_matrix(cm, classes, normalize = False, title = 'Cofusion_matrix', cmap = plt.cm.Blues):\n",
        "\n",
        "  plt.imshow(cm, interpolation= 'nearest', cmap = cmap)\n",
        "  plt.title(title)\n",
        "  plt.colorbar()\n",
        "  tick_marks =  np.arange(len(classes))\n",
        "  plt.xticks(tick_marks, classes, rotation = 45)\n",
        "  plt.yticks(tick_marks, classes)\n",
        "\n",
        "  if normalize:\n",
        "    cm = cm.astype('float') / cm.sum(axis = 1)[:, np.newaxis]\n",
        "    print('Normalized confusion matrix')\n",
        "  else:\n",
        "    print('Confusion matrix without normalization')\n",
        "\n",
        "  thresh = cm.max()/2\n",
        "  for i, j in itertools.product(range(cm.shape[0]), range(cm.shape[1])):\n",
        "    plt.text(j,i, cm[i,j], horizontalalignment = 'center', color = 'black' if cm[i,j] > thresh else 'white')\n",
        "\n",
        "  plt.tight_layout()\n",
        "  plt.ylabel('True Label')\n",
        "  plt.xlabel('Predicted label')"
      ],
      "metadata": {
        "id": "FiHzeQHc8Lgq"
      },
      "execution_count": 78,
      "outputs": []
    },
    {
      "cell_type": "code",
      "source": [
        "cm_plot_labels = ['no_side_effect', 'had_side_effects']\n",
        "plot_confusion_matrix(cm = cm, classes = cm_plot_labels, title = 'Cofusion Matrix')"
      ],
      "metadata": {
        "colab": {
          "base_uri": "https://localhost:8080/",
          "height": 328
        },
        "id": "gh6mpGhw8lvN",
        "outputId": "f9e4ef68-f6b2-4d52-91ac-448872f5a566"
      },
      "execution_count": 79,
      "outputs": [
        {
          "output_type": "stream",
          "name": "stdout",
          "text": [
            "Confusion matrix without normalization\n"
          ]
        },
        {
          "output_type": "display_data",
          "data": {
            "text/plain": [
              "<Figure size 432x288 with 2 Axes>"
            ],
            "image/png": "[encoded data removed]"
          },
          "metadata": {
            "needs_background": "light"
          }
        }
      ]
    },
    {
      "cell_type": "code",
      "source": [
        "!pip install pyyaml h5py  # Required to save models in HDF5 format"
      ],
      "metadata": {
        "colab": {
          "base_uri": "https://localhost:8080/"
        },
        "id": "LA7KW4B8_NJr",
        "outputId": "4faf6024-2655-44e6-bab6-e8865fde0c6c"
      },
      "execution_count": 80,
      "outputs": [
        {
          "output_type": "stream",
          "name": "stdout",
          "text": [
            "Requirement already satisfied: pyyaml in /usr/local/lib/python3.7/dist-packages (3.13)\n",
            "Requirement already satisfied: h5py in /usr/local/lib/python3.7/dist-packages (3.1.0)\n",
            "Requirement already satisfied: numpy>=1.14.5 in /usr/local/lib/python3.7/dist-packages (from h5py) (1.21.5)\n",
            "Requirement already satisfied: cached-property in /usr/local/lib/python3.7/dist-packages (from h5py) (1.5.2)\n"
          ]
        }
      ]
    },
    {
      "cell_type": "code",
      "source": [
        ""
      ],
      "metadata": {
        "id": "bHtkRUJjFUqw"
      },
      "execution_count": null,
      "outputs": []
    }
  ]
}