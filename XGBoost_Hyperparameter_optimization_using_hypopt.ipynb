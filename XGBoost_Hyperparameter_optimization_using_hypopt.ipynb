{
  "cells": [
    {
      "cell_type": "markdown",
      "metadata": {
        "id": "view-in-github",
        "colab_type": "text"
      },
      "source": [
        "<a href=\"https://colab.research.google.com/github/Mayada98/Useful_DataScience/blob/main/XGBoost_Hyperparameter_optimization_using_hypopt.ipynb\" target=\"_parent\"><img src=\"https://colab.research.google.com/assets/colab-badge.svg\" alt=\"Open In Colab\"/></a>"
      ]
    },
    {
      "cell_type": "code",
      "execution_count": 5,
      "metadata": {
        "id": "UiCVPid5tBPO"
      },
      "outputs": [],
      "source": [
        "import numpy as np\n",
        "import pandas as pd\n",
        "from hypopt import GridSearch\n",
        "from xgboost import XGBRegressor"
      ]
    },
    {
      "cell_type": "markdown",
      "metadata": {
        "id": "P7W0ikO1tBPe"
      },
      "source": [
        "#### 1. load the data, apply WOE and use it for modeling"
      ]
    },
    {
      "cell_type": "code",
      "execution_count": 6,
      "metadata": {
        "id": "FDtAi_mLtBPn"
      },
      "outputs": [],
      "source": [
        "data = pd.read_csv('readydata.csv')\n",
        "droplist = ['total_pymnt','total_pymnt_inv','total_rec_late_fee','recoveries', 'collection_recovery_fee','last_pymnt_amnt']\n",
        "data = data.drop(droplist,axis=1)"
      ]
    },
    {
      "cell_type": "code",
      "execution_count": 7,
      "metadata": {
        "colab": {
          "base_uri": "https://localhost:8080/",
          "height": 270
        },
        "id": "u0tn1wvCtBPt",
        "outputId": "aaa91649-269a-481d-bf72-2b9a388c0dbd"
      },
      "outputs": [
        {
          "output_type": "execute_result",
          "data": {
            "text/plain": [
              "   loan_amnt  funded_amnt  funded_amnt_inv  int_rate  annual_inc    dti  \\\n",
              "0     5000.0       5000.0           4975.0     10.65     24000.0  27.65   \n",
              "1     2500.0       2500.0           2500.0     15.27     30000.0   1.00   \n",
              "2     2400.0       2400.0           2400.0     15.96     12252.0   8.72   \n",
              "3    10000.0      10000.0          10000.0     13.49     49200.0  20.00   \n",
              "4     5000.0       5000.0           5000.0      7.90     36000.0  11.20   \n",
              "\n",
              "   inq_last_6mths  pub_rec  revol_util  total_acc  fico_average      term  \\\n",
              "0             1.0      0.0        83.7        9.0         737.0  0.741507   \n",
              "1             5.0      0.0         9.4        4.0         742.0  0.258493   \n",
              "2             2.0      0.0        98.5       10.0         737.0  0.741507   \n",
              "3             1.0      0.0        21.0       37.0         692.0  0.741507   \n",
              "4             3.0      0.0        28.3       12.0         732.0  0.741507   \n",
              "\n",
              "   grade  target  \n",
              "0      2       1  \n",
              "1      3       0  \n",
              "2      3       1  \n",
              "3      3       1  \n",
              "4      1       1  "
            ],
            "text/html": [
              "\n",
              "  <div id=\"df-a8292a9e-5fd9-4963-a558-0998d272b9e7\">\n",
              "    <div class=\"colab-df-container\">\n",
              "      <div>\n",
              "<style scoped>\n",
              "    .dataframe tbody tr th:only-of-type {\n",
              "        vertical-align: middle;\n",
              "    }\n",
              "\n",
              "    .dataframe tbody tr th {\n",
              "        vertical-align: top;\n",
              "    }\n",
              "\n",
              "    .dataframe thead th {\n",
              "        text-align: right;\n",
              "    }\n",
              "</style>\n",
              "<table border=\"1\" class=\"dataframe\">\n",
              "  <thead>\n",
              "    <tr style=\"text-align: right;\">\n",
              "      <th></th>\n",
              "      <th>loan_amnt</th>\n",
              "      <th>funded_amnt</th>\n",
              "      <th>funded_amnt_inv</th>\n",
              "      <th>int_rate</th>\n",
              "      <th>annual_inc</th>\n",
              "      <th>dti</th>\n",
              "      <th>inq_last_6mths</th>\n",
              "      <th>pub_rec</th>\n",
              "      <th>revol_util</th>\n",
              "      <th>total_acc</th>\n",
              "      <th>fico_average</th>\n",
              "      <th>term</th>\n",
              "      <th>grade</th>\n",
              "      <th>target</th>\n",
              "    </tr>\n",
              "  </thead>\n",
              "  <tbody>\n",
              "    <tr>\n",
              "      <th>0</th>\n",
              "      <td>5000.0</td>\n",
              "      <td>5000.0</td>\n",
              "      <td>4975.0</td>\n",
              "      <td>10.65</td>\n",
              "      <td>24000.0</td>\n",
              "      <td>27.65</td>\n",
              "      <td>1.0</td>\n",
              "      <td>0.0</td>\n",
              "      <td>83.7</td>\n",
              "      <td>9.0</td>\n",
              "      <td>737.0</td>\n",
              "      <td>0.741507</td>\n",
              "      <td>2</td>\n",
              "      <td>1</td>\n",
              "    </tr>\n",
              "    <tr>\n",
              "      <th>1</th>\n",
              "      <td>2500.0</td>\n",
              "      <td>2500.0</td>\n",
              "      <td>2500.0</td>\n",
              "      <td>15.27</td>\n",
              "      <td>30000.0</td>\n",
              "      <td>1.00</td>\n",
              "      <td>5.0</td>\n",
              "      <td>0.0</td>\n",
              "      <td>9.4</td>\n",
              "      <td>4.0</td>\n",
              "      <td>742.0</td>\n",
              "      <td>0.258493</td>\n",
              "      <td>3</td>\n",
              "      <td>0</td>\n",
              "    </tr>\n",
              "    <tr>\n",
              "      <th>2</th>\n",
              "      <td>2400.0</td>\n",
              "      <td>2400.0</td>\n",
              "      <td>2400.0</td>\n",
              "      <td>15.96</td>\n",
              "      <td>12252.0</td>\n",
              "      <td>8.72</td>\n",
              "      <td>2.0</td>\n",
              "      <td>0.0</td>\n",
              "      <td>98.5</td>\n",
              "      <td>10.0</td>\n",
              "      <td>737.0</td>\n",
              "      <td>0.741507</td>\n",
              "      <td>3</td>\n",
              "      <td>1</td>\n",
              "    </tr>\n",
              "    <tr>\n",
              "      <th>3</th>\n",
              "      <td>10000.0</td>\n",
              "      <td>10000.0</td>\n",
              "      <td>10000.0</td>\n",
              "      <td>13.49</td>\n",
              "      <td>49200.0</td>\n",
              "      <td>20.00</td>\n",
              "      <td>1.0</td>\n",
              "      <td>0.0</td>\n",
              "      <td>21.0</td>\n",
              "      <td>37.0</td>\n",
              "      <td>692.0</td>\n",
              "      <td>0.741507</td>\n",
              "      <td>3</td>\n",
              "      <td>1</td>\n",
              "    </tr>\n",
              "    <tr>\n",
              "      <th>4</th>\n",
              "      <td>5000.0</td>\n",
              "      <td>5000.0</td>\n",
              "      <td>5000.0</td>\n",
              "      <td>7.90</td>\n",
              "      <td>36000.0</td>\n",
              "      <td>11.20</td>\n",
              "      <td>3.0</td>\n",
              "      <td>0.0</td>\n",
              "      <td>28.3</td>\n",
              "      <td>12.0</td>\n",
              "      <td>732.0</td>\n",
              "      <td>0.741507</td>\n",
              "      <td>1</td>\n",
              "      <td>1</td>\n",
              "    </tr>\n",
              "  </tbody>\n",
              "</table>\n",
              "</div>\n",
              "      <button class=\"colab-df-convert\" onclick=\"convertToInteractive('df-a8292a9e-5fd9-4963-a558-0998d272b9e7')\"\n",
              "              title=\"Convert this dataframe to an interactive table.\"\n",
              "              style=\"display:none;\">\n",
              "        \n",
              "  <svg xmlns=\"http://www.w3.org/2000/svg\" height=\"24px\"viewBox=\"0 0 24 24\"\n",
              "       width=\"24px\">\n",
              "    <path d=\"M0 0h24v24H0V0z\" fill=\"none\"/>\n",
              "    <path d=\"M18.56 5.44l.94 2.06.94-2.06 2.06-.94-2.06-.94-.94-2.06-.94 2.06-2.06.94zm-11 1L8.5 8.5l.94-2.06 2.06-.94-2.06-.94L8.5 2.5l-.94 2.06-2.06.94zm10 10l.94 2.06.94-2.06 2.06-.94-2.06-.94-.94-2.06-.94 2.06-2.06.94z\"/><path d=\"M17.41 7.96l-1.37-1.37c-.4-.4-.92-.59-1.43-.59-.52 0-1.04.2-1.43.59L10.3 9.45l-7.72 7.72c-.78.78-.78 2.05 0 2.83L4 21.41c.39.39.9.59 1.41.59.51 0 1.02-.2 1.41-.59l7.78-7.78 2.81-2.81c.8-.78.8-2.07 0-2.86zM5.41 20L4 18.59l7.72-7.72 1.47 1.35L5.41 20z\"/>\n",
              "  </svg>\n",
              "      </button>\n",
              "      \n",
              "  <style>\n",
              "    .colab-df-container {\n",
              "      display:flex;\n",
              "      flex-wrap:wrap;\n",
              "      gap: 12px;\n",
              "    }\n",
              "\n",
              "    .colab-df-convert {\n",
              "      background-color: #E8F0FE;\n",
              "      border: none;\n",
              "      border-radius: 50%;\n",
              "      cursor: pointer;\n",
              "      display: none;\n",
              "      fill: #1967D2;\n",
              "      height: 32px;\n",
              "      padding: 0 0 0 0;\n",
              "      width: 32px;\n",
              "    }\n",
              "\n",
              "    .colab-df-convert:hover {\n",
              "      background-color: #E2EBFA;\n",
              "      box-shadow: 0px 1px 2px rgba(60, 64, 67, 0.3), 0px 1px 3px 1px rgba(60, 64, 67, 0.15);\n",
              "      fill: #174EA6;\n",
              "    }\n",
              "\n",
              "    [theme=dark] .colab-df-convert {\n",
              "      background-color: #3B4455;\n",
              "      fill: #D2E3FC;\n",
              "    }\n",
              "\n",
              "    [theme=dark] .colab-df-convert:hover {\n",
              "      background-color: #434B5C;\n",
              "      box-shadow: 0px 1px 3px 1px rgba(0, 0, 0, 0.15);\n",
              "      filter: drop-shadow(0px 1px 2px rgba(0, 0, 0, 0.3));\n",
              "      fill: #FFFFFF;\n",
              "    }\n",
              "  </style>\n",
              "\n",
              "      <script>\n",
              "        const buttonEl =\n",
              "          document.querySelector('#df-a8292a9e-5fd9-4963-a558-0998d272b9e7 button.colab-df-convert');\n",
              "        buttonEl.style.display =\n",
              "          google.colab.kernel.accessAllowed ? 'block' : 'none';\n",
              "\n",
              "        async function convertToInteractive(key) {\n",
              "          const element = document.querySelector('#df-a8292a9e-5fd9-4963-a558-0998d272b9e7');\n",
              "          const dataTable =\n",
              "            await google.colab.kernel.invokeFunction('convertToInteractive',\n",
              "                                                     [key], {});\n",
              "          if (!dataTable) return;\n",
              "\n",
              "          const docLinkHtml = 'Like what you see? Visit the ' +\n",
              "            '<a target=\"_blank\" href=https://colab.research.google.com/notebooks/data_table.ipynb>data table notebook</a>'\n",
              "            + ' to learn more about interactive tables.';\n",
              "          element.innerHTML = '';\n",
              "          dataTable['output_type'] = 'display_data';\n",
              "          await google.colab.output.renderOutput(dataTable, element);\n",
              "          const docLink = document.createElement('div');\n",
              "          docLink.innerHTML = docLinkHtml;\n",
              "          element.appendChild(docLink);\n",
              "        }\n",
              "      </script>\n",
              "    </div>\n",
              "  </div>\n",
              "  "
            ]
          },
          "metadata": {},
          "execution_count": 7
        }
      ],
      "source": [
        "data.head()"
      ]
    },
    {
      "cell_type": "code",
      "execution_count": 8,
      "metadata": {
        "id": "qRwK_hwItBPy"
      },
      "outputs": [],
      "source": [
        "def encode(df, target , method = \"WoE\", index=None):\n",
        "    if method == 'WoE':\n",
        "        X = df.drop(target, axis = 1)\n",
        "        for var in X:\n",
        "            df[var] = df[var].fillna('missing')\n",
        "            k = df[[var,target]].groupby(var)[target].agg(['count','sum']).reset_index()\n",
        "            k.columns = [var,'Count','Good']\n",
        "            k['Bad'] = k['Count'] - k['Good']\n",
        "            k['Good %'] = (k['Good'] / k['Good'].sum()*100).round(2)\n",
        "            k['Bad %'] = (k['Bad'] / k['Bad'].sum()*100).round(2)\n",
        "            k[var+'_WOE'] = np.log(k['Good %'] / k['Bad %']).round(2)\n",
        "            k = k.sort_values(by=var+'_WOE')\n",
        "            dictionary = dict(zip(k[var], k[var+'_WOE']))\n",
        "            new_dict = {var : dictionary}\n",
        "            df = df.replace(new_dict)\n",
        "\n",
        "    elif method == 'target_enc':\n",
        "        X = df.drop(target, axis = 1)\n",
        "        index = df.index if index is None else index # Encode the entire input df if no specific indices is supplied\n",
        "\n",
        "        for var in X:\n",
        "            k = df.iloc[index].groupby(var)[target].mean().reset_index()\n",
        "            k.columns = [var, var+'_Mean']\n",
        "            k = k.sort_values(by=var+'_Mean')\n",
        "            dictionary = dict(zip(k[var], k[var+'_Mean']))\n",
        "            new_dict = {var : dictionary}\n",
        "            df = df.replace(new_dict)\n",
        "    \n",
        "    return df"
      ]
    },
    {
      "cell_type": "markdown",
      "metadata": {
        "id": "_xJ6rKhEtBP3"
      },
      "source": [
        "#### 2.Splitting data for modeling"
      ]
    },
    {
      "cell_type": "code",
      "execution_count": 9,
      "metadata": {
        "id": "1HWr5iTftBP7"
      },
      "outputs": [],
      "source": [
        "X = data.drop('target', axis=1)\n",
        "Y = data.target \n",
        "X_shuffled = X.sample(frac=1)\n",
        "y_shuffled = Y[X_shuffled.index]\n",
        "\n",
        "X_train, X_validation, X_test = np.split(X_shuffled, [int(0.6*len(X)),int(0.8*len(X))])\n",
        "y_train, y_validation, y_test = np.split(y_shuffled, [int(0.6*len(X)),int(0.8*len(X))])"
      ]
    },
    {
      "cell_type": "markdown",
      "metadata": {
        "id": "QHHi_YHctBP_"
      },
      "source": [
        "#### 3. Define model and GridSearch Parameters"
      ]
    },
    {
      "cell_type": "code",
      "execution_count": 12,
      "metadata": {
        "id": "MO2DTKlQtBQC"
      },
      "outputs": [],
      "source": [
        "model = XGBRegressor(max_depth = 3, min_child_weight = 2, subsample = 0.9, colsample_bytree = 0.6)\n",
        "\n",
        "# space = {'n_estimators': range(1000,2000,100),\n",
        "#          'learning_rate': [i/100 for i in range(1,10,2)],\n",
        "#          'max_depth': range(3,10,2),\n",
        "#          'subsample': [i/100 for i in range(6,10,1)],\n",
        "#          'colsample_bytree': [i/100 for i in range(6,10,1)]\n",
        "#          }\n",
        "space = {'n_estimators': [100,200],\n",
        "         'learning_rate':[0.01, 0.05],\n",
        "         'max_depth':[6,7],\n",
        "         'subsample': [0.01,0.05],\n",
        "         'colsample_bytree': [0.01,0.05]\n",
        "         }\n",
        "\n",
        "opt = GridSearch(model = model, param_grid = space)"
      ]
    },
    {
      "cell_type": "code",
      "execution_count": 13,
      "metadata": {
        "colab": {
          "base_uri": "https://localhost:8080/"
        },
        "id": "2yTK-m27tBQJ",
        "outputId": "403edf67-14a6-4a38-da0c-1514f77b7c5a"
      },
      "outputs": [
        {
          "output_type": "stream",
          "name": "stdout",
          "text": [
            "[11:52:39] WARNING: /workspace/src/objective/regression_obj.cu:152: reg:linear is now deprecated in favor of reg:squarederror.\n",
            "Best score from GridSearch : 0.04095574132704124\n",
            "Best parameters: {'colsample_bytree': 0.01, 'learning_rate': 0.05, 'max_depth': 6, 'n_estimators': 100, 'subsample': 0.05}\n"
          ]
        }
      ],
      "source": [
        "# tuning only learning rate and n_estimators\n",
        "opt.fit(X_train, y_train, [X_validation, y_validation], scoring = 'r2')\n",
        "print('Best score from GridSearch :',opt.best_score)\n",
        "print('Best parameters:' ,opt.best_params)"
      ]
    },
    {
      "cell_type": "code",
      "source": [
        ""
      ],
      "metadata": {
        "id": "wAOu-7S3tvsp"
      },
      "execution_count": null,
      "outputs": []
    }
  ],
  "metadata": {
    "kernelspec": {
      "display_name": "Python 3 (ipykernel)",
      "language": "python",
      "name": "python3"
    },
    "language_info": {
      "codemirror_mode": {
        "name": "ipython",
        "version": 3
      },
      "file_extension": ".py",
      "mimetype": "text/x-python",
      "name": "python",
      "nbconvert_exporter": "python",
      "pygments_lexer": "ipython3",
      "version": "3.9.7"
    },
    "colab": {
      "name": "XGBoost Hyperparameter optimization using hypopt.ipynb",
      "provenance": [],
      "include_colab_link": true
    }
  },
  "nbformat": 4,
  "nbformat_minor": 0
}