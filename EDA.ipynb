{
 "cells": [
  {
   "cell_type": "markdown",
   "metadata": {},
   "source": [
    "### 1. Importing required packages for the analysis"
   ]
  },
  {
   "cell_type": "code",
   "execution_count": 1,
   "metadata": {},
   "outputs": [],
   "source": [
    "import pandas as pd\n",
    "import numpy as np\n",
    "import matplotlib.pyplot as plt\n",
    "import seaborn as sns\n",
    "import scipy.stats as ss\n",
    "from itertools import product"
   ]
  },
  {
   "cell_type": "markdown",
   "metadata": {},
   "source": [
    "### 2. Reading the data"
   ]
  },
  {
   "cell_type": "code",
   "execution_count": 2,
   "metadata": {},
   "outputs": [],
   "source": [
    "data = pd.read_excel('COLUMBIA_measured_data.xlsx', sheet_name = 'Campaing exposure')\n",
    "data_description = pd.read_excel('COLUMBIA_measured_data.xlsx', sheet_name = 'INFO')"
   ]
  },
  {
   "cell_type": "code",
   "execution_count": 3,
   "metadata": {},
   "outputs": [
    {
     "data": {
      "text/html": [
       "<div>\n",
       "<style scoped>\n",
       "    .dataframe tbody tr th:only-of-type {\n",
       "        vertical-align: middle;\n",
       "    }\n",
       "\n",
       "    .dataframe tbody tr th {\n",
       "        vertical-align: top;\n",
       "    }\n",
       "\n",
       "    .dataframe thead th {\n",
       "        text-align: right;\n",
       "    }\n",
       "</style>\n",
       "<table border=\"1\" class=\"dataframe\">\n",
       "  <thead>\n",
       "    <tr style=\"text-align: right;\">\n",
       "      <th></th>\n",
       "      <th>pnr</th>\n",
       "      <th>timestamp</th>\n",
       "      <th>contentid</th>\n",
       "      <th>domain</th>\n",
       "      <th>devicetypeclass</th>\n",
       "      <th>country</th>\n",
       "      <th>region</th>\n",
       "      <th>city</th>\n",
       "      <th>panelid</th>\n",
       "      <th>slice_year</th>\n",
       "      <th>slice_month</th>\n",
       "      <th>slice_day</th>\n",
       "      <th>mediaid</th>\n",
       "      <th>cluster</th>\n",
       "    </tr>\n",
       "  </thead>\n",
       "  <tbody>\n",
       "    <tr>\n",
       "      <th>0</th>\n",
       "      <td>0000b53b5a38961b</td>\n",
       "      <td>2021-08-26 11:07:58</td>\n",
       "      <td>341400101</td>\n",
       "      <td>https://googleads.g.doubleclick.net</td>\n",
       "      <td>SMARTPHONE</td>\n",
       "      <td>Colombia</td>\n",
       "      <td>Departamento de Bolivar</td>\n",
       "      <td>Cartagena</td>\n",
       "      <td>19640</td>\n",
       "      <td>2021</td>\n",
       "      <td>8</td>\n",
       "      <td>26</td>\n",
       "      <td>campaign_3414</td>\n",
       "      <td>JUMBO</td>\n",
       "    </tr>\n",
       "    <tr>\n",
       "      <th>1</th>\n",
       "      <td>0000b53b5a38961b</td>\n",
       "      <td>2021-08-26 11:07:58</td>\n",
       "      <td>341400101</td>\n",
       "      <td>https://googleads.g.doubleclick.net</td>\n",
       "      <td>SMARTPHONE</td>\n",
       "      <td>Colombia</td>\n",
       "      <td>Departamento de Bolivar</td>\n",
       "      <td>Cartagena</td>\n",
       "      <td>19640</td>\n",
       "      <td>2021</td>\n",
       "      <td>8</td>\n",
       "      <td>26</td>\n",
       "      <td>campaign_3414</td>\n",
       "      <td>JUMBO</td>\n",
       "    </tr>\n",
       "    <tr>\n",
       "      <th>2</th>\n",
       "      <td>00036269dd59a9d5</td>\n",
       "      <td>2021-08-28 01:06:20</td>\n",
       "      <td>341400101</td>\n",
       "      <td>https://f0996970ee7b5b5d710c1a2d400615f6.safef...</td>\n",
       "      <td>DESKTOP</td>\n",
       "      <td>Colombia</td>\n",
       "      <td>Atlántico</td>\n",
       "      <td>Barranquilla</td>\n",
       "      <td>nq_co</td>\n",
       "      <td>2021</td>\n",
       "      <td>8</td>\n",
       "      <td>28</td>\n",
       "      <td>campaign_3414</td>\n",
       "      <td>JUMBO</td>\n",
       "    </tr>\n",
       "    <tr>\n",
       "      <th>3</th>\n",
       "      <td>0003bf9f33aa0249</td>\n",
       "      <td>2021-08-25 15:37:01</td>\n",
       "      <td>341400101</td>\n",
       "      <td>https://googleads.g.doubleclick.net</td>\n",
       "      <td>SMARTPHONE</td>\n",
       "      <td>Colombia</td>\n",
       "      <td>Departamento de Caldas</td>\n",
       "      <td>Manizales</td>\n",
       "      <td>19640</td>\n",
       "      <td>2021</td>\n",
       "      <td>8</td>\n",
       "      <td>25</td>\n",
       "      <td>campaign_3414</td>\n",
       "      <td>JUMBO</td>\n",
       "    </tr>\n",
       "    <tr>\n",
       "      <th>4</th>\n",
       "      <td>0003bf9f33aa0249</td>\n",
       "      <td>2021-08-25 17:24:03</td>\n",
       "      <td>341400101</td>\n",
       "      <td>https://googleads.g.doubleclick.net</td>\n",
       "      <td>SMARTPHONE</td>\n",
       "      <td>Colombia</td>\n",
       "      <td>Departamento de Caldas</td>\n",
       "      <td>Manizales</td>\n",
       "      <td>19640</td>\n",
       "      <td>2021</td>\n",
       "      <td>8</td>\n",
       "      <td>25</td>\n",
       "      <td>campaign_3414</td>\n",
       "      <td>JUMBO</td>\n",
       "    </tr>\n",
       "  </tbody>\n",
       "</table>\n",
       "</div>"
      ],
      "text/plain": [
       "                pnr            timestamp  contentid  \\\n",
       "0  0000b53b5a38961b  2021-08-26 11:07:58  341400101   \n",
       "1  0000b53b5a38961b  2021-08-26 11:07:58  341400101   \n",
       "2  00036269dd59a9d5  2021-08-28 01:06:20  341400101   \n",
       "3  0003bf9f33aa0249  2021-08-25 15:37:01  341400101   \n",
       "4  0003bf9f33aa0249  2021-08-25 17:24:03  341400101   \n",
       "\n",
       "                                              domain devicetypeclass  \\\n",
       "0                https://googleads.g.doubleclick.net      SMARTPHONE   \n",
       "1                https://googleads.g.doubleclick.net      SMARTPHONE   \n",
       "2  https://f0996970ee7b5b5d710c1a2d400615f6.safef...         DESKTOP   \n",
       "3                https://googleads.g.doubleclick.net      SMARTPHONE   \n",
       "4                https://googleads.g.doubleclick.net      SMARTPHONE   \n",
       "\n",
       "    country                   region          city panelid  slice_year  \\\n",
       "0  Colombia  Departamento de Bolivar     Cartagena   19640        2021   \n",
       "1  Colombia  Departamento de Bolivar     Cartagena   19640        2021   \n",
       "2  Colombia                Atlántico  Barranquilla   nq_co        2021   \n",
       "3  Colombia   Departamento de Caldas     Manizales   19640        2021   \n",
       "4  Colombia   Departamento de Caldas     Manizales   19640        2021   \n",
       "\n",
       "   slice_month  slice_day        mediaid cluster  \n",
       "0            8         26  campaign_3414   JUMBO  \n",
       "1            8         26  campaign_3414   JUMBO  \n",
       "2            8         28  campaign_3414   JUMBO  \n",
       "3            8         25  campaign_3414   JUMBO  \n",
       "4            8         25  campaign_3414   JUMBO  "
      ]
     },
     "execution_count": 3,
     "metadata": {},
     "output_type": "execute_result"
    }
   ],
   "source": [
    "data.head()"
   ]
  },
  {
   "cell_type": "code",
   "execution_count": 4,
   "metadata": {},
   "outputs": [
    {
     "data": {
      "text/plain": [
       "(134408, 14)"
      ]
     },
     "execution_count": 4,
     "metadata": {},
     "output_type": "execute_result"
    }
   ],
   "source": [
    "data.shape"
   ]
  },
  {
   "cell_type": "code",
   "execution_count": 5,
   "metadata": {},
   "outputs": [
    {
     "data": {
      "text/html": [
       "<div>\n",
       "<style scoped>\n",
       "    .dataframe tbody tr th:only-of-type {\n",
       "        vertical-align: middle;\n",
       "    }\n",
       "\n",
       "    .dataframe tbody tr th {\n",
       "        vertical-align: top;\n",
       "    }\n",
       "\n",
       "    .dataframe thead th {\n",
       "        text-align: right;\n",
       "    }\n",
       "</style>\n",
       "<table border=\"1\" class=\"dataframe\">\n",
       "  <thead>\n",
       "    <tr style=\"text-align: right;\">\n",
       "      <th></th>\n",
       "      <th>Variable</th>\n",
       "      <th>Description</th>\n",
       "    </tr>\n",
       "  </thead>\n",
       "  <tbody>\n",
       "    <tr>\n",
       "      <th>0</th>\n",
       "      <td>pnr</td>\n",
       "      <td>panelist unique ID</td>\n",
       "    </tr>\n",
       "    <tr>\n",
       "      <th>1</th>\n",
       "      <td>timestamp</td>\n",
       "      <td>the moment when an event happened</td>\n",
       "    </tr>\n",
       "    <tr>\n",
       "      <th>2</th>\n",
       "      <td>contentid</td>\n",
       "      <td>unique ID of the ad content</td>\n",
       "    </tr>\n",
       "    <tr>\n",
       "      <th>3</th>\n",
       "      <td>domain</td>\n",
       "      <td>URL containing the ad message</td>\n",
       "    </tr>\n",
       "    <tr>\n",
       "      <th>4</th>\n",
       "      <td>devicetypeclass</td>\n",
       "      <td>device on which the ad was seen</td>\n",
       "    </tr>\n",
       "    <tr>\n",
       "      <th>5</th>\n",
       "      <td>country</td>\n",
       "      <td>country</td>\n",
       "    </tr>\n",
       "    <tr>\n",
       "      <th>6</th>\n",
       "      <td>region</td>\n",
       "      <td>region</td>\n",
       "    </tr>\n",
       "    <tr>\n",
       "      <th>7</th>\n",
       "      <td>city</td>\n",
       "      <td>city</td>\n",
       "    </tr>\n",
       "    <tr>\n",
       "      <th>8</th>\n",
       "      <td>panelid</td>\n",
       "      <td>the unique panel indetifier</td>\n",
       "    </tr>\n",
       "    <tr>\n",
       "      <th>9</th>\n",
       "      <td>slice_year</td>\n",
       "      <td>yaer partition of the event</td>\n",
       "    </tr>\n",
       "    <tr>\n",
       "      <th>10</th>\n",
       "      <td>slice_month</td>\n",
       "      <td>month partition of the event</td>\n",
       "    </tr>\n",
       "    <tr>\n",
       "      <th>11</th>\n",
       "      <td>slice_day</td>\n",
       "      <td>day partition of the event</td>\n",
       "    </tr>\n",
       "    <tr>\n",
       "      <th>12</th>\n",
       "      <td>mediaid</td>\n",
       "      <td>unique identifier of the ad campaing</td>\n",
       "    </tr>\n",
       "    <tr>\n",
       "      <th>13</th>\n",
       "      <td>cluster</td>\n",
       "      <td>label, identifying the  ad content</td>\n",
       "    </tr>\n",
       "  </tbody>\n",
       "</table>\n",
       "</div>"
      ],
      "text/plain": [
       "           Variable                           Description\n",
       "0               pnr                    panelist unique ID\n",
       "1         timestamp     the moment when an event happened\n",
       "2         contentid           unique ID of the ad content\n",
       "3            domain         URL containing the ad message\n",
       "4   devicetypeclass       device on which the ad was seen\n",
       "5           country                               country\n",
       "6            region                                region\n",
       "7              city                                  city\n",
       "8           panelid           the unique panel indetifier\n",
       "9        slice_year           yaer partition of the event\n",
       "10      slice_month          month partition of the event\n",
       "11        slice_day            day partition of the event\n",
       "12          mediaid  unique identifier of the ad campaing\n",
       "13          cluster    label, identifying the  ad content"
      ]
     },
     "execution_count": 5,
     "metadata": {},
     "output_type": "execute_result"
    }
   ],
   "source": [
    "data_description"
   ]
  },
  {
   "cell_type": "markdown",
   "metadata": {},
   "source": [
    "### 3. Dropping duplicate records using the fulls set of columns to identify them"
   ]
  },
  {
   "cell_type": "code",
   "execution_count": 6,
   "metadata": {},
   "outputs": [
    {
     "name": "stdout",
     "output_type": "stream",
     "text": [
      "Number of rows in the data before dropping duplicate records is 134408\n",
      "Number of columns in the data is 14\n",
      "Number of rows after dropping duplicate records is 93126\n"
     ]
    }
   ],
   "source": [
    "print(\"Number of rows in the data before dropping duplicate records is\", data.shape[0])\n",
    "print(\"Number of columns in the data is\", data.shape[1])\n",
    "data = data.drop_duplicates(subset= list(data.columns))\n",
    "print(\"Number of rows after dropping duplicate records is\", data.shape[0])"
   ]
  },
  {
   "cell_type": "markdown",
   "metadata": {},
   "source": [
    "### 4. Using pandas describe() method to get initial descriptive statistics"
   ]
  },
  {
   "cell_type": "code",
   "execution_count": 7,
   "metadata": {},
   "outputs": [
    {
     "data": {
      "text/html": [
       "<div>\n",
       "<style scoped>\n",
       "    .dataframe tbody tr th:only-of-type {\n",
       "        vertical-align: middle;\n",
       "    }\n",
       "\n",
       "    .dataframe tbody tr th {\n",
       "        vertical-align: top;\n",
       "    }\n",
       "\n",
       "    .dataframe thead th {\n",
       "        text-align: right;\n",
       "    }\n",
       "</style>\n",
       "<table border=\"1\" class=\"dataframe\">\n",
       "  <thead>\n",
       "    <tr style=\"text-align: right;\">\n",
       "      <th></th>\n",
       "      <th>count</th>\n",
       "      <th>unique</th>\n",
       "      <th>top</th>\n",
       "      <th>freq</th>\n",
       "      <th>mean</th>\n",
       "      <th>std</th>\n",
       "      <th>min</th>\n",
       "      <th>25%</th>\n",
       "      <th>50%</th>\n",
       "      <th>75%</th>\n",
       "      <th>max</th>\n",
       "    </tr>\n",
       "  </thead>\n",
       "  <tbody>\n",
       "    <tr>\n",
       "      <th>pnr</th>\n",
       "      <td>93122</td>\n",
       "      <td>22337</td>\n",
       "      <td>2970a8723ab7f608</td>\n",
       "      <td>83</td>\n",
       "      <td>NaN</td>\n",
       "      <td>NaN</td>\n",
       "      <td>NaN</td>\n",
       "      <td>NaN</td>\n",
       "      <td>NaN</td>\n",
       "      <td>NaN</td>\n",
       "      <td>NaN</td>\n",
       "    </tr>\n",
       "    <tr>\n",
       "      <th>timestamp</th>\n",
       "      <td>93126</td>\n",
       "      <td>89158</td>\n",
       "      <td>2021-08-30 18:27:23</td>\n",
       "      <td>4</td>\n",
       "      <td>NaN</td>\n",
       "      <td>NaN</td>\n",
       "      <td>NaN</td>\n",
       "      <td>NaN</td>\n",
       "      <td>NaN</td>\n",
       "      <td>NaN</td>\n",
       "      <td>NaN</td>\n",
       "    </tr>\n",
       "    <tr>\n",
       "      <th>contentid</th>\n",
       "      <td>93126</td>\n",
       "      <td>NaN</td>\n",
       "      <td>NaN</td>\n",
       "      <td>NaN</td>\n",
       "      <td>3.40903e+08</td>\n",
       "      <td>2.58068e+06</td>\n",
       "      <td>3.275e+08</td>\n",
       "      <td>3.414e+08</td>\n",
       "      <td>3.414e+08</td>\n",
       "      <td>3.414e+08</td>\n",
       "      <td>3.414e+08</td>\n",
       "    </tr>\n",
       "    <tr>\n",
       "      <th>domain</th>\n",
       "      <td>93126</td>\n",
       "      <td>26288</td>\n",
       "      <td>https://googleads.g.doubleclick.net</td>\n",
       "      <td>21300</td>\n",
       "      <td>NaN</td>\n",
       "      <td>NaN</td>\n",
       "      <td>NaN</td>\n",
       "      <td>NaN</td>\n",
       "      <td>NaN</td>\n",
       "      <td>NaN</td>\n",
       "      <td>NaN</td>\n",
       "    </tr>\n",
       "    <tr>\n",
       "      <th>devicetypeclass</th>\n",
       "      <td>93126</td>\n",
       "      <td>3</td>\n",
       "      <td>SMARTPHONE</td>\n",
       "      <td>62179</td>\n",
       "      <td>NaN</td>\n",
       "      <td>NaN</td>\n",
       "      <td>NaN</td>\n",
       "      <td>NaN</td>\n",
       "      <td>NaN</td>\n",
       "      <td>NaN</td>\n",
       "      <td>NaN</td>\n",
       "    </tr>\n",
       "    <tr>\n",
       "      <th>country</th>\n",
       "      <td>93126</td>\n",
       "      <td>3</td>\n",
       "      <td>Colombia</td>\n",
       "      <td>93046</td>\n",
       "      <td>NaN</td>\n",
       "      <td>NaN</td>\n",
       "      <td>NaN</td>\n",
       "      <td>NaN</td>\n",
       "      <td>NaN</td>\n",
       "      <td>NaN</td>\n",
       "      <td>NaN</td>\n",
       "    </tr>\n",
       "    <tr>\n",
       "      <th>region</th>\n",
       "      <td>91144</td>\n",
       "      <td>32</td>\n",
       "      <td>Bogota D.C.</td>\n",
       "      <td>31696</td>\n",
       "      <td>NaN</td>\n",
       "      <td>NaN</td>\n",
       "      <td>NaN</td>\n",
       "      <td>NaN</td>\n",
       "      <td>NaN</td>\n",
       "      <td>NaN</td>\n",
       "      <td>NaN</td>\n",
       "    </tr>\n",
       "    <tr>\n",
       "      <th>city</th>\n",
       "      <td>91128</td>\n",
       "      <td>447</td>\n",
       "      <td>Bogotá</td>\n",
       "      <td>31583</td>\n",
       "      <td>NaN</td>\n",
       "      <td>NaN</td>\n",
       "      <td>NaN</td>\n",
       "      <td>NaN</td>\n",
       "      <td>NaN</td>\n",
       "      <td>NaN</td>\n",
       "      <td>NaN</td>\n",
       "    </tr>\n",
       "    <tr>\n",
       "      <th>panelid</th>\n",
       "      <td>93126</td>\n",
       "      <td>4</td>\n",
       "      <td>nq_co</td>\n",
       "      <td>86348</td>\n",
       "      <td>NaN</td>\n",
       "      <td>NaN</td>\n",
       "      <td>NaN</td>\n",
       "      <td>NaN</td>\n",
       "      <td>NaN</td>\n",
       "      <td>NaN</td>\n",
       "      <td>NaN</td>\n",
       "    </tr>\n",
       "    <tr>\n",
       "      <th>slice_year</th>\n",
       "      <td>93126</td>\n",
       "      <td>NaN</td>\n",
       "      <td>NaN</td>\n",
       "      <td>NaN</td>\n",
       "      <td>2021</td>\n",
       "      <td>0</td>\n",
       "      <td>2021</td>\n",
       "      <td>2021</td>\n",
       "      <td>2021</td>\n",
       "      <td>2021</td>\n",
       "      <td>2021</td>\n",
       "    </tr>\n",
       "    <tr>\n",
       "      <th>slice_month</th>\n",
       "      <td>93126</td>\n",
       "      <td>NaN</td>\n",
       "      <td>NaN</td>\n",
       "      <td>NaN</td>\n",
       "      <td>7.88199</td>\n",
       "      <td>0.604707</td>\n",
       "      <td>4</td>\n",
       "      <td>8</td>\n",
       "      <td>8</td>\n",
       "      <td>8</td>\n",
       "      <td>8</td>\n",
       "    </tr>\n",
       "    <tr>\n",
       "      <th>slice_day</th>\n",
       "      <td>93126</td>\n",
       "      <td>NaN</td>\n",
       "      <td>NaN</td>\n",
       "      <td>NaN</td>\n",
       "      <td>22.034</td>\n",
       "      <td>5.63177</td>\n",
       "      <td>1</td>\n",
       "      <td>18</td>\n",
       "      <td>22</td>\n",
       "      <td>27</td>\n",
       "      <td>31</td>\n",
       "    </tr>\n",
       "    <tr>\n",
       "      <th>mediaid</th>\n",
       "      <td>93126</td>\n",
       "      <td>3329</td>\n",
       "      <td>campaign_3414</td>\n",
       "      <td>89798</td>\n",
       "      <td>NaN</td>\n",
       "      <td>NaN</td>\n",
       "      <td>NaN</td>\n",
       "      <td>NaN</td>\n",
       "      <td>NaN</td>\n",
       "      <td>NaN</td>\n",
       "      <td>NaN</td>\n",
       "    </tr>\n",
       "    <tr>\n",
       "      <th>cluster</th>\n",
       "      <td>93126</td>\n",
       "      <td>2</td>\n",
       "      <td>JUMBO</td>\n",
       "      <td>89797</td>\n",
       "      <td>NaN</td>\n",
       "      <td>NaN</td>\n",
       "      <td>NaN</td>\n",
       "      <td>NaN</td>\n",
       "      <td>NaN</td>\n",
       "      <td>NaN</td>\n",
       "      <td>NaN</td>\n",
       "    </tr>\n",
       "  </tbody>\n",
       "</table>\n",
       "</div>"
      ],
      "text/plain": [
       "                 count unique                                  top   freq  \\\n",
       "pnr              93122  22337                     2970a8723ab7f608     83   \n",
       "timestamp        93126  89158                  2021-08-30 18:27:23      4   \n",
       "contentid        93126    NaN                                  NaN    NaN   \n",
       "domain           93126  26288  https://googleads.g.doubleclick.net  21300   \n",
       "devicetypeclass  93126      3                           SMARTPHONE  62179   \n",
       "country          93126      3                             Colombia  93046   \n",
       "region           91144     32                          Bogota D.C.  31696   \n",
       "city             91128    447                               Bogotá  31583   \n",
       "panelid          93126      4                                nq_co  86348   \n",
       "slice_year       93126    NaN                                  NaN    NaN   \n",
       "slice_month      93126    NaN                                  NaN    NaN   \n",
       "slice_day        93126    NaN                                  NaN    NaN   \n",
       "mediaid          93126   3329                        campaign_3414  89798   \n",
       "cluster          93126      2                                JUMBO  89797   \n",
       "\n",
       "                        mean          std        min        25%        50%  \\\n",
       "pnr                      NaN          NaN        NaN        NaN        NaN   \n",
       "timestamp                NaN          NaN        NaN        NaN        NaN   \n",
       "contentid        3.40903e+08  2.58068e+06  3.275e+08  3.414e+08  3.414e+08   \n",
       "domain                   NaN          NaN        NaN        NaN        NaN   \n",
       "devicetypeclass          NaN          NaN        NaN        NaN        NaN   \n",
       "country                  NaN          NaN        NaN        NaN        NaN   \n",
       "region                   NaN          NaN        NaN        NaN        NaN   \n",
       "city                     NaN          NaN        NaN        NaN        NaN   \n",
       "panelid                  NaN          NaN        NaN        NaN        NaN   \n",
       "slice_year              2021            0       2021       2021       2021   \n",
       "slice_month          7.88199     0.604707          4          8          8   \n",
       "slice_day             22.034      5.63177          1         18         22   \n",
       "mediaid                  NaN          NaN        NaN        NaN        NaN   \n",
       "cluster                  NaN          NaN        NaN        NaN        NaN   \n",
       "\n",
       "                       75%        max  \n",
       "pnr                    NaN        NaN  \n",
       "timestamp              NaN        NaN  \n",
       "contentid        3.414e+08  3.414e+08  \n",
       "domain                 NaN        NaN  \n",
       "devicetypeclass        NaN        NaN  \n",
       "country                NaN        NaN  \n",
       "region                 NaN        NaN  \n",
       "city                   NaN        NaN  \n",
       "panelid                NaN        NaN  \n",
       "slice_year            2021       2021  \n",
       "slice_month              8          8  \n",
       "slice_day               27         31  \n",
       "mediaid                NaN        NaN  \n",
       "cluster                NaN        NaN  "
      ]
     },
     "execution_count": 7,
     "metadata": {},
     "output_type": "execute_result"
    }
   ],
   "source": [
    "data.describe(include='all').T"
   ]
  },
  {
   "cell_type": "markdown",
   "metadata": {},
   "source": [
    "### 5. Check and set proper data types"
   ]
  },
  {
   "cell_type": "code",
   "execution_count": 8,
   "metadata": {},
   "outputs": [
    {
     "name": "stdout",
     "output_type": "stream",
     "text": [
      "<class 'pandas.core.frame.DataFrame'>\n",
      "Int64Index: 93126 entries, 0 to 134407\n",
      "Data columns (total 14 columns):\n",
      " #   Column           Non-Null Count  Dtype \n",
      "---  ------           --------------  ----- \n",
      " 0   pnr              93122 non-null  object\n",
      " 1   timestamp        93126 non-null  object\n",
      " 2   contentid        93126 non-null  int64 \n",
      " 3   domain           93126 non-null  object\n",
      " 4   devicetypeclass  93126 non-null  object\n",
      " 5   country          93126 non-null  object\n",
      " 6   region           91144 non-null  object\n",
      " 7   city             91128 non-null  object\n",
      " 8   panelid          93126 non-null  object\n",
      " 9   slice_year       93126 non-null  int64 \n",
      " 10  slice_month      93126 non-null  int64 \n",
      " 11  slice_day        93126 non-null  int64 \n",
      " 12  mediaid          93126 non-null  object\n",
      " 13  cluster          93126 non-null  object\n",
      "dtypes: int64(4), object(10)\n",
      "memory usage: 10.7+ MB\n"
     ]
    }
   ],
   "source": [
    "data.info()"
   ]
  },
  {
   "cell_type": "code",
   "execution_count": 9,
   "metadata": {},
   "outputs": [],
   "source": [
    "#Replace timestamp data type to Datetime \n",
    "data['timestamp'] = pd.to_datetime(data['timestamp'])\n",
    "#Set contentid to be string\n",
    "data.contentid = data.contentid.astype(str)\n",
    "#Adding date column (YY/MM/dd)\n",
    "data['date'] = pd.to_datetime(data.slice_year.astype(str)+ '-' + data.slice_month.astype(str)+ '-' + data.slice_day.astype(str) )"
   ]
  },
  {
   "cell_type": "markdown",
   "metadata": {},
   "source": [
    "#### 5.1. Get number of numerical, categorical and date features"
   ]
  },
  {
   "cell_type": "code",
   "execution_count": 10,
   "metadata": {},
   "outputs": [
    {
     "name": "stdout",
     "output_type": "stream",
     "text": [
      "Number of categorical features: 10\n",
      "Number of numerical features: 3\n",
      "Number of date features: 2\n"
     ]
    }
   ],
   "source": [
    "categorical_list = []\n",
    "numerical_list = []\n",
    "date_cols = []\n",
    "for i in data.columns.tolist():\n",
    "    if data[i].dtype=='object':\n",
    "        categorical_list.append(i)\n",
    "    elif data[i].dtype == 'int64' or data[i].dtype == 'float':\n",
    "        numerical_list.append(i)\n",
    "    else:\n",
    "        date_cols.append(i)\n",
    "print('Number of categorical features:', str(len(categorical_list)))\n",
    "print('Number of numerical features:', str(len(numerical_list)))\n",
    "print('Number of date features:', str(len(date_cols)))"
   ]
  },
  {
   "cell_type": "markdown",
   "metadata": {},
   "source": [
    "### 6. Check null values"
   ]
  },
  {
   "cell_type": "code",
   "execution_count": 11,
   "metadata": {},
   "outputs": [
    {
     "data": {
      "text/plain": [
       "pnr                   4\n",
       "timestamp             0\n",
       "contentid             0\n",
       "domain                0\n",
       "devicetypeclass       0\n",
       "country               0\n",
       "region             1982\n",
       "city               1998\n",
       "panelid               0\n",
       "slice_year            0\n",
       "slice_month           0\n",
       "slice_day             0\n",
       "mediaid               0\n",
       "cluster               0\n",
       "date                  0\n",
       "dtype: int64"
      ]
     },
     "execution_count": 11,
     "metadata": {},
     "output_type": "execute_result"
    }
   ],
   "source": [
    "data.isnull().sum()"
   ]
  },
  {
   "cell_type": "markdown",
   "metadata": {},
   "source": [
    "Since pnr is an improtant part of the idetification key we can drop the 4 records with missing ID.\n",
    "We can replace the missings in region and city with 'other'. The missing values in those columns should not be an issue unless we are willing to use them for geospatial analysis or modeling. "
   ]
  },
  {
   "cell_type": "code",
   "execution_count": 12,
   "metadata": {},
   "outputs": [
    {
     "data": {
      "text/plain": [
       "pnr                0\n",
       "timestamp          0\n",
       "contentid          0\n",
       "domain             0\n",
       "devicetypeclass    0\n",
       "country            0\n",
       "region             0\n",
       "city               0\n",
       "panelid            0\n",
       "slice_year         0\n",
       "slice_month        0\n",
       "slice_day          0\n",
       "mediaid            0\n",
       "cluster            0\n",
       "date               0\n",
       "dtype: int64"
      ]
     },
     "execution_count": 12,
     "metadata": {},
     "output_type": "execute_result"
    }
   ],
   "source": [
    "data = data.loc[data.pnr.notnull(), :]\n",
    "data.region.fillna('Other', inplace = True)\n",
    "data.city.fillna('Other', inplace = True)\n",
    "data.isnull().sum()"
   ]
  },
  {
   "cell_type": "code",
   "execution_count": 13,
   "metadata": {},
   "outputs": [
    {
     "name": "stdout",
     "output_type": "stream",
     "text": [
      "Number of rows after dropping null values is 93122\n"
     ]
    }
   ],
   "source": [
    "print('Number of rows after dropping null values is',data.shape[0])"
   ]
  },
  {
   "cell_type": "markdown",
   "metadata": {},
   "source": [
    "### 7. Identidying a unique key in the data\n",
    "Even after dropping duplicates we can see that there are multiple records per pnr, which means that one person can be exposed to the ad several times during the day. It would be most logical to use the complex key of 2 fields, namely: pnr and timestamp. Before selecting this as the key identifier, we can check if there are cases in the data where the user is exposed to more than one ad/message at the same exact time "
   ]
  },
  {
   "cell_type": "code",
   "execution_count": 14,
   "metadata": {},
   "outputs": [
    {
     "data": {
      "text/html": [
       "<div>\n",
       "<style scoped>\n",
       "    .dataframe tbody tr th:only-of-type {\n",
       "        vertical-align: middle;\n",
       "    }\n",
       "\n",
       "    .dataframe tbody tr th {\n",
       "        vertical-align: top;\n",
       "    }\n",
       "\n",
       "    .dataframe thead th {\n",
       "        text-align: right;\n",
       "    }\n",
       "</style>\n",
       "<table border=\"1\" class=\"dataframe\">\n",
       "  <thead>\n",
       "    <tr style=\"text-align: right;\">\n",
       "      <th></th>\n",
       "      <th>pnr</th>\n",
       "      <th>timestamp</th>\n",
       "      <th>contentid</th>\n",
       "      <th>domain</th>\n",
       "      <th>devicetypeclass</th>\n",
       "      <th>country</th>\n",
       "      <th>region</th>\n",
       "      <th>city</th>\n",
       "      <th>panelid</th>\n",
       "      <th>slice_year</th>\n",
       "      <th>slice_month</th>\n",
       "      <th>slice_day</th>\n",
       "      <th>mediaid</th>\n",
       "      <th>cluster</th>\n",
       "      <th>date</th>\n",
       "    </tr>\n",
       "  </thead>\n",
       "  <tbody>\n",
       "    <tr>\n",
       "      <th>131077</th>\n",
       "      <td>fffc2677c1dd4116</td>\n",
       "      <td>2021-08-28 10:14:38</td>\n",
       "      <td>341400101</td>\n",
       "      <td>https://d-30433247941441241271.ampproject.net</td>\n",
       "      <td>SMARTPHONE</td>\n",
       "      <td>Colombia</td>\n",
       "      <td>Departamento de Bolivar</td>\n",
       "      <td>Cartagena</td>\n",
       "      <td>nq_co</td>\n",
       "      <td>2021</td>\n",
       "      <td>8</td>\n",
       "      <td>28</td>\n",
       "      <td>campaign_3414</td>\n",
       "      <td>JUMBO</td>\n",
       "      <td>2021-08-28</td>\n",
       "    </tr>\n",
       "    <tr>\n",
       "      <th>131075</th>\n",
       "      <td>fffc2677c1dd4116</td>\n",
       "      <td>2021-08-28 10:14:33</td>\n",
       "      <td>341400101</td>\n",
       "      <td>https://d-30433247941441241271.ampproject.net</td>\n",
       "      <td>SMARTPHONE</td>\n",
       "      <td>Colombia</td>\n",
       "      <td>Departamento de Bolivar</td>\n",
       "      <td>Cartagena</td>\n",
       "      <td>nq_co</td>\n",
       "      <td>2021</td>\n",
       "      <td>8</td>\n",
       "      <td>28</td>\n",
       "      <td>campaign_3414</td>\n",
       "      <td>JUMBO</td>\n",
       "      <td>2021-08-28</td>\n",
       "    </tr>\n",
       "    <tr>\n",
       "      <th>131074</th>\n",
       "      <td>fffbbf9c7597d074</td>\n",
       "      <td>2021-08-14 23:05:30</td>\n",
       "      <td>341400101</td>\n",
       "      <td>https://www.researchgate.net</td>\n",
       "      <td>DESKTOP</td>\n",
       "      <td>Colombia</td>\n",
       "      <td>Departamento del Valle del Cauca</td>\n",
       "      <td>Santiago de Cali</td>\n",
       "      <td>nq_co</td>\n",
       "      <td>2021</td>\n",
       "      <td>8</td>\n",
       "      <td>14</td>\n",
       "      <td>campaign_3414</td>\n",
       "      <td>JUMBO</td>\n",
       "      <td>2021-08-14</td>\n",
       "    </tr>\n",
       "    <tr>\n",
       "      <th>131073</th>\n",
       "      <td>fffbbf9c7597d074</td>\n",
       "      <td>2021-08-14 23:07:02</td>\n",
       "      <td>341400101</td>\n",
       "      <td>https://www.researchgate.net</td>\n",
       "      <td>DESKTOP</td>\n",
       "      <td>Colombia</td>\n",
       "      <td>Departamento del Valle del Cauca</td>\n",
       "      <td>Santiago de Cali</td>\n",
       "      <td>nq_co</td>\n",
       "      <td>2021</td>\n",
       "      <td>8</td>\n",
       "      <td>14</td>\n",
       "      <td>campaign_3414</td>\n",
       "      <td>JUMBO</td>\n",
       "      <td>2021-08-14</td>\n",
       "    </tr>\n",
       "    <tr>\n",
       "      <th>131072</th>\n",
       "      <td>fffbbf9c7597d074</td>\n",
       "      <td>2021-08-14 23:09:36</td>\n",
       "      <td>341400101</td>\n",
       "      <td>https://www.researchgate.net</td>\n",
       "      <td>DESKTOP</td>\n",
       "      <td>Colombia</td>\n",
       "      <td>Departamento del Valle del Cauca</td>\n",
       "      <td>Santiago de Cali</td>\n",
       "      <td>nq_co</td>\n",
       "      <td>2021</td>\n",
       "      <td>8</td>\n",
       "      <td>14</td>\n",
       "      <td>campaign_3414</td>\n",
       "      <td>JUMBO</td>\n",
       "      <td>2021-08-14</td>\n",
       "    </tr>\n",
       "  </tbody>\n",
       "</table>\n",
       "</div>"
      ],
      "text/plain": [
       "                     pnr           timestamp  contentid  \\\n",
       "131077  fffc2677c1dd4116 2021-08-28 10:14:38  341400101   \n",
       "131075  fffc2677c1dd4116 2021-08-28 10:14:33  341400101   \n",
       "131074  fffbbf9c7597d074 2021-08-14 23:05:30  341400101   \n",
       "131073  fffbbf9c7597d074 2021-08-14 23:07:02  341400101   \n",
       "131072  fffbbf9c7597d074 2021-08-14 23:09:36  341400101   \n",
       "\n",
       "                                               domain devicetypeclass  \\\n",
       "131077  https://d-30433247941441241271.ampproject.net      SMARTPHONE   \n",
       "131075  https://d-30433247941441241271.ampproject.net      SMARTPHONE   \n",
       "131074                   https://www.researchgate.net         DESKTOP   \n",
       "131073                   https://www.researchgate.net         DESKTOP   \n",
       "131072                   https://www.researchgate.net         DESKTOP   \n",
       "\n",
       "         country                            region              city panelid  \\\n",
       "131077  Colombia           Departamento de Bolivar         Cartagena   nq_co   \n",
       "131075  Colombia           Departamento de Bolivar         Cartagena   nq_co   \n",
       "131074  Colombia  Departamento del Valle del Cauca  Santiago de Cali   nq_co   \n",
       "131073  Colombia  Departamento del Valle del Cauca  Santiago de Cali   nq_co   \n",
       "131072  Colombia  Departamento del Valle del Cauca  Santiago de Cali   nq_co   \n",
       "\n",
       "        slice_year  slice_month  slice_day        mediaid cluster       date  \n",
       "131077        2021            8         28  campaign_3414   JUMBO 2021-08-28  \n",
       "131075        2021            8         28  campaign_3414   JUMBO 2021-08-28  \n",
       "131074        2021            8         14  campaign_3414   JUMBO 2021-08-14  \n",
       "131073        2021            8         14  campaign_3414   JUMBO 2021-08-14  \n",
       "131072        2021            8         14  campaign_3414   JUMBO 2021-08-14  "
      ]
     },
     "execution_count": 14,
     "metadata": {},
     "output_type": "execute_result"
    }
   ],
   "source": [
    "data.sort_values(by = 'pnr', ascending= 0).head()"
   ]
  },
  {
   "cell_type": "code",
   "execution_count": 15,
   "metadata": {},
   "outputs": [
    {
     "name": "stdout",
     "output_type": "stream",
     "text": [
      "Maximum number of ad exposures per user at the same time is 3\n"
     ]
    }
   ],
   "source": [
    "ad_per_time_usr = data.groupby(['pnr', 'timestamp']).size().reset_index(name = 'ad_count')\n",
    "\n",
    "print('Maximum number of ad exposures per user at the same time is', ad_per_time_usr.ad_count.max())"
   ]
  },
  {
   "cell_type": "markdown",
   "metadata": {},
   "source": [
    "Apparantely pnr and timestamp on their own do not shape a unique row in the data. We can go through the cases with more than 1 exposure to identify the reasons."
   ]
  },
  {
   "cell_type": "code",
   "execution_count": 16,
   "metadata": {},
   "outputs": [
    {
     "name": "stdout",
     "output_type": "stream",
     "text": [
      "Number of rows in subset is 748\n"
     ]
    },
    {
     "data": {
      "text/html": [
       "<div>\n",
       "<style scoped>\n",
       "    .dataframe tbody tr th:only-of-type {\n",
       "        vertical-align: middle;\n",
       "    }\n",
       "\n",
       "    .dataframe tbody tr th {\n",
       "        vertical-align: top;\n",
       "    }\n",
       "\n",
       "    .dataframe thead th {\n",
       "        text-align: right;\n",
       "    }\n",
       "</style>\n",
       "<table border=\"1\" class=\"dataframe\">\n",
       "  <thead>\n",
       "    <tr style=\"text-align: right;\">\n",
       "      <th></th>\n",
       "      <th>pnr</th>\n",
       "      <th>timestamp</th>\n",
       "      <th>ad_count</th>\n",
       "      <th>contentid</th>\n",
       "      <th>domain</th>\n",
       "      <th>devicetypeclass</th>\n",
       "      <th>country</th>\n",
       "      <th>region</th>\n",
       "      <th>city</th>\n",
       "      <th>panelid</th>\n",
       "      <th>slice_year</th>\n",
       "      <th>slice_month</th>\n",
       "      <th>slice_day</th>\n",
       "      <th>mediaid</th>\n",
       "      <th>cluster</th>\n",
       "      <th>date</th>\n",
       "    </tr>\n",
       "  </thead>\n",
       "  <tbody>\n",
       "    <tr>\n",
       "      <th>0</th>\n",
       "      <td>00c9d40a9f3bd8c0</td>\n",
       "      <td>2021-08-27 02:54:21</td>\n",
       "      <td>2</td>\n",
       "      <td>341400101</td>\n",
       "      <td>https://414ee805025692f776773fa5f9afd8c0.safef...</td>\n",
       "      <td>SMARTPHONE</td>\n",
       "      <td>Colombia</td>\n",
       "      <td>Atlántico</td>\n",
       "      <td>Barranquilla</td>\n",
       "      <td>nq_co</td>\n",
       "      <td>2021</td>\n",
       "      <td>8</td>\n",
       "      <td>27</td>\n",
       "      <td>campaign_3414</td>\n",
       "      <td>JUMBO</td>\n",
       "      <td>2021-08-27</td>\n",
       "    </tr>\n",
       "    <tr>\n",
       "      <th>1</th>\n",
       "      <td>00c9d40a9f3bd8c0</td>\n",
       "      <td>2021-08-27 02:54:21</td>\n",
       "      <td>2</td>\n",
       "      <td>341400101</td>\n",
       "      <td>https://www.wradio.com.co</td>\n",
       "      <td>SMARTPHONE</td>\n",
       "      <td>Colombia</td>\n",
       "      <td>Atlántico</td>\n",
       "      <td>Barranquilla</td>\n",
       "      <td>nq_co</td>\n",
       "      <td>2021</td>\n",
       "      <td>8</td>\n",
       "      <td>27</td>\n",
       "      <td>campaign_3414</td>\n",
       "      <td>JUMBO</td>\n",
       "      <td>2021-08-27</td>\n",
       "    </tr>\n",
       "    <tr>\n",
       "      <th>2</th>\n",
       "      <td>039cf626b18f9df5</td>\n",
       "      <td>2021-08-12 16:17:55</td>\n",
       "      <td>2</td>\n",
       "      <td>341400101</td>\n",
       "      <td>https://b4d52322c4f7910396c152ae6170384a.safef...</td>\n",
       "      <td>DESKTOP</td>\n",
       "      <td>Colombia</td>\n",
       "      <td>Antioquia</td>\n",
       "      <td>Medellín</td>\n",
       "      <td>nq_co</td>\n",
       "      <td>2021</td>\n",
       "      <td>8</td>\n",
       "      <td>12</td>\n",
       "      <td>campaign_3414</td>\n",
       "      <td>JUMBO</td>\n",
       "      <td>2021-08-12</td>\n",
       "    </tr>\n",
       "    <tr>\n",
       "      <th>3</th>\n",
       "      <td>039cf626b18f9df5</td>\n",
       "      <td>2021-08-12 16:17:55</td>\n",
       "      <td>2</td>\n",
       "      <td>341400101</td>\n",
       "      <td>https://471d020d2341cdfd137f9f785785045f.safef...</td>\n",
       "      <td>DESKTOP</td>\n",
       "      <td>Colombia</td>\n",
       "      <td>Antioquia</td>\n",
       "      <td>Medellín</td>\n",
       "      <td>nq_co</td>\n",
       "      <td>2021</td>\n",
       "      <td>8</td>\n",
       "      <td>12</td>\n",
       "      <td>campaign_3414</td>\n",
       "      <td>JUMBO</td>\n",
       "      <td>2021-08-12</td>\n",
       "    </tr>\n",
       "    <tr>\n",
       "      <th>4</th>\n",
       "      <td>03dc578b6c3a6b88</td>\n",
       "      <td>2021-08-12 21:34:29</td>\n",
       "      <td>2</td>\n",
       "      <td>341400101</td>\n",
       "      <td>https://e268486cf414911d28cafa26504f9e0a.safef...</td>\n",
       "      <td>SMARTPHONE</td>\n",
       "      <td>Colombia</td>\n",
       "      <td>Bogota D.C.</td>\n",
       "      <td>Bogotá</td>\n",
       "      <td>nq_co</td>\n",
       "      <td>2021</td>\n",
       "      <td>8</td>\n",
       "      <td>12</td>\n",
       "      <td>campaign_3414</td>\n",
       "      <td>JUMBO</td>\n",
       "      <td>2021-08-12</td>\n",
       "    </tr>\n",
       "  </tbody>\n",
       "</table>\n",
       "</div>"
      ],
      "text/plain": [
       "                pnr           timestamp  ad_count  contentid  \\\n",
       "0  00c9d40a9f3bd8c0 2021-08-27 02:54:21         2  341400101   \n",
       "1  00c9d40a9f3bd8c0 2021-08-27 02:54:21         2  341400101   \n",
       "2  039cf626b18f9df5 2021-08-12 16:17:55         2  341400101   \n",
       "3  039cf626b18f9df5 2021-08-12 16:17:55         2  341400101   \n",
       "4  03dc578b6c3a6b88 2021-08-12 21:34:29         2  341400101   \n",
       "\n",
       "                                              domain devicetypeclass  \\\n",
       "0  https://414ee805025692f776773fa5f9afd8c0.safef...      SMARTPHONE   \n",
       "1                          https://www.wradio.com.co      SMARTPHONE   \n",
       "2  https://b4d52322c4f7910396c152ae6170384a.safef...         DESKTOP   \n",
       "3  https://471d020d2341cdfd137f9f785785045f.safef...         DESKTOP   \n",
       "4  https://e268486cf414911d28cafa26504f9e0a.safef...      SMARTPHONE   \n",
       "\n",
       "    country       region          city panelid  slice_year  slice_month  \\\n",
       "0  Colombia    Atlántico  Barranquilla   nq_co        2021            8   \n",
       "1  Colombia    Atlántico  Barranquilla   nq_co        2021            8   \n",
       "2  Colombia    Antioquia      Medellín   nq_co        2021            8   \n",
       "3  Colombia    Antioquia      Medellín   nq_co        2021            8   \n",
       "4  Colombia  Bogota D.C.        Bogotá   nq_co        2021            8   \n",
       "\n",
       "   slice_day        mediaid cluster       date  \n",
       "0         27  campaign_3414   JUMBO 2021-08-27  \n",
       "1         27  campaign_3414   JUMBO 2021-08-27  \n",
       "2         12  campaign_3414   JUMBO 2021-08-12  \n",
       "3         12  campaign_3414   JUMBO 2021-08-12  \n",
       "4         12  campaign_3414   JUMBO 2021-08-12  "
      ]
     },
     "execution_count": 16,
     "metadata": {},
     "output_type": "execute_result"
    }
   ],
   "source": [
    "df = ad_per_time_usr[(ad_per_time_usr.ad_count == 3) | (ad_per_time_usr.ad_count == 2)].sort_values(by = 'pnr')\n",
    "df = df.merge(data, how = 'left', on = ['pnr', 'timestamp'])\n",
    "print('Number of rows in subset is', df.shape[0])\n",
    "df.head()"
   ]
  },
  {
   "cell_type": "markdown",
   "metadata": {},
   "source": [
    "We can see that one of the differences in the domain. Some users, like 00c9d40a9f3bd8c0 for example, are exposed to the same message, same campaign, device and location, but with a different domain. Let's see how many cases are those."
   ]
  },
  {
   "cell_type": "code",
   "execution_count": 17,
   "metadata": {},
   "outputs": [
    {
     "data": {
      "text/plain": [
       "300"
      ]
     },
     "execution_count": 17,
     "metadata": {},
     "output_type": "execute_result"
    }
   ],
   "source": [
    "domain_above_2 = df.groupby(['pnr', 'timestamp'])['domain'].nunique().reset_index(name = 'domain_counts')\n",
    "domain_above_2[domain_above_2.domain_counts > 1].shape[0]"
   ]
  },
  {
   "cell_type": "code",
   "execution_count": 18,
   "metadata": {},
   "outputs": [
    {
     "name": "stdout",
     "output_type": "stream",
     "text": [
      "Maximum number of ad exposures per user at the same time is 2\n"
     ]
    }
   ],
   "source": [
    "# We will add the domain to the list of fields to group by\n",
    "ad_per_time_usr = data.groupby(['pnr', 'timestamp', 'domain']).size().reset_index(name = 'ad_count')\n",
    "print('Maximum number of ad exposures per user at the same time is', ad_per_time_usr.ad_count.max())"
   ]
  },
  {
   "cell_type": "markdown",
   "metadata": {},
   "source": [
    "We have reduced the count to 2, however, this means that there are other features that define a unique row."
   ]
  },
  {
   "cell_type": "code",
   "execution_count": 19,
   "metadata": {},
   "outputs": [
    {
     "name": "stdout",
     "output_type": "stream",
     "text": [
      "Number of rows in subset is 150\n"
     ]
    },
    {
     "data": {
      "text/html": [
       "<div>\n",
       "<style scoped>\n",
       "    .dataframe tbody tr th:only-of-type {\n",
       "        vertical-align: middle;\n",
       "    }\n",
       "\n",
       "    .dataframe tbody tr th {\n",
       "        vertical-align: top;\n",
       "    }\n",
       "\n",
       "    .dataframe thead th {\n",
       "        text-align: right;\n",
       "    }\n",
       "</style>\n",
       "<table border=\"1\" class=\"dataframe\">\n",
       "  <thead>\n",
       "    <tr style=\"text-align: right;\">\n",
       "      <th></th>\n",
       "      <th>pnr</th>\n",
       "      <th>timestamp</th>\n",
       "      <th>domain</th>\n",
       "      <th>ad_count</th>\n",
       "      <th>contentid</th>\n",
       "      <th>devicetypeclass</th>\n",
       "      <th>country</th>\n",
       "      <th>region</th>\n",
       "      <th>city</th>\n",
       "      <th>panelid</th>\n",
       "      <th>slice_year</th>\n",
       "      <th>slice_month</th>\n",
       "      <th>slice_day</th>\n",
       "      <th>mediaid</th>\n",
       "      <th>cluster</th>\n",
       "      <th>date</th>\n",
       "    </tr>\n",
       "  </thead>\n",
       "  <tbody>\n",
       "    <tr>\n",
       "      <th>0</th>\n",
       "      <td>065235088df22dfa</td>\n",
       "      <td>2021-08-31 19:48:46</td>\n",
       "      <td>https://googleads.g.doubleclick.net</td>\n",
       "      <td>2</td>\n",
       "      <td>341400101</td>\n",
       "      <td>SMARTPHONE</td>\n",
       "      <td>Colombia</td>\n",
       "      <td>Antioquia</td>\n",
       "      <td>Medellín</td>\n",
       "      <td>nq_co</td>\n",
       "      <td>2021</td>\n",
       "      <td>8</td>\n",
       "      <td>31</td>\n",
       "      <td>campaign_3414</td>\n",
       "      <td>JUMBO</td>\n",
       "      <td>2021-08-31</td>\n",
       "    </tr>\n",
       "    <tr>\n",
       "      <th>1</th>\n",
       "      <td>065235088df22dfa</td>\n",
       "      <td>2021-08-31 19:48:46</td>\n",
       "      <td>https://googleads.g.doubleclick.net</td>\n",
       "      <td>2</td>\n",
       "      <td>341400101</td>\n",
       "      <td>SMARTPHONE</td>\n",
       "      <td>Colombia</td>\n",
       "      <td>Antioquia</td>\n",
       "      <td>Bello</td>\n",
       "      <td>nq_co</td>\n",
       "      <td>2021</td>\n",
       "      <td>8</td>\n",
       "      <td>31</td>\n",
       "      <td>campaign_3414</td>\n",
       "      <td>JUMBO</td>\n",
       "      <td>2021-08-31</td>\n",
       "    </tr>\n",
       "    <tr>\n",
       "      <th>2</th>\n",
       "      <td>073495f826f0d208</td>\n",
       "      <td>2021-04-27 01:26:21</td>\n",
       "      <td>https://imasdk.googleapis.com</td>\n",
       "      <td>2</td>\n",
       "      <td>327500102</td>\n",
       "      <td>SMARTPHONE</td>\n",
       "      <td>Colombia</td>\n",
       "      <td>Departamento de Boyaca</td>\n",
       "      <td>Duitama</td>\n",
       "      <td>nq_co</td>\n",
       "      <td>2021</td>\n",
       "      <td>4</td>\n",
       "      <td>27</td>\n",
       "      <td>campaign_3288</td>\n",
       "      <td>Bancolombia</td>\n",
       "      <td>2021-04-27</td>\n",
       "    </tr>\n",
       "    <tr>\n",
       "      <th>3</th>\n",
       "      <td>073495f826f0d208</td>\n",
       "      <td>2021-04-27 01:26:21</td>\n",
       "      <td>https://imasdk.googleapis.com</td>\n",
       "      <td>2</td>\n",
       "      <td>327500102</td>\n",
       "      <td>SMARTPHONE</td>\n",
       "      <td>Colombia</td>\n",
       "      <td>Departamento de Boyaca</td>\n",
       "      <td>Duitama</td>\n",
       "      <td>nq_co</td>\n",
       "      <td>2021</td>\n",
       "      <td>4</td>\n",
       "      <td>27</td>\n",
       "      <td>campaign_6346</td>\n",
       "      <td>Bancolombia</td>\n",
       "      <td>2021-04-27</td>\n",
       "    </tr>\n",
       "    <tr>\n",
       "      <th>4</th>\n",
       "      <td>0a2a6dba89f9d4d1</td>\n",
       "      <td>2021-08-19 23:37:53</td>\n",
       "      <td>https://googleads.g.doubleclick.net</td>\n",
       "      <td>2</td>\n",
       "      <td>341400101</td>\n",
       "      <td>SMARTPHONE</td>\n",
       "      <td>Colombia</td>\n",
       "      <td>Departamento del Magdalena</td>\n",
       "      <td>Palmira</td>\n",
       "      <td>19640</td>\n",
       "      <td>2021</td>\n",
       "      <td>8</td>\n",
       "      <td>19</td>\n",
       "      <td>campaign_3414</td>\n",
       "      <td>JUMBO</td>\n",
       "      <td>2021-08-19</td>\n",
       "    </tr>\n",
       "  </tbody>\n",
       "</table>\n",
       "</div>"
      ],
      "text/plain": [
       "                pnr           timestamp                               domain  \\\n",
       "0  065235088df22dfa 2021-08-31 19:48:46  https://googleads.g.doubleclick.net   \n",
       "1  065235088df22dfa 2021-08-31 19:48:46  https://googleads.g.doubleclick.net   \n",
       "2  073495f826f0d208 2021-04-27 01:26:21        https://imasdk.googleapis.com   \n",
       "3  073495f826f0d208 2021-04-27 01:26:21        https://imasdk.googleapis.com   \n",
       "4  0a2a6dba89f9d4d1 2021-08-19 23:37:53  https://googleads.g.doubleclick.net   \n",
       "\n",
       "   ad_count  contentid devicetypeclass   country                      region  \\\n",
       "0         2  341400101      SMARTPHONE  Colombia                   Antioquia   \n",
       "1         2  341400101      SMARTPHONE  Colombia                   Antioquia   \n",
       "2         2  327500102      SMARTPHONE  Colombia      Departamento de Boyaca   \n",
       "3         2  327500102      SMARTPHONE  Colombia      Departamento de Boyaca   \n",
       "4         2  341400101      SMARTPHONE  Colombia  Departamento del Magdalena   \n",
       "\n",
       "       city panelid  slice_year  slice_month  slice_day        mediaid  \\\n",
       "0  Medellín   nq_co        2021            8         31  campaign_3414   \n",
       "1     Bello   nq_co        2021            8         31  campaign_3414   \n",
       "2   Duitama   nq_co        2021            4         27  campaign_3288   \n",
       "3   Duitama   nq_co        2021            4         27  campaign_6346   \n",
       "4   Palmira   19640        2021            8         19  campaign_3414   \n",
       "\n",
       "       cluster       date  \n",
       "0        JUMBO 2021-08-31  \n",
       "1        JUMBO 2021-08-31  \n",
       "2  Bancolombia 2021-04-27  \n",
       "3  Bancolombia 2021-04-27  \n",
       "4        JUMBO 2021-08-19  "
      ]
     },
     "execution_count": 19,
     "metadata": {},
     "output_type": "execute_result"
    }
   ],
   "source": [
    "df = ad_per_time_usr[(ad_per_time_usr.ad_count == 3) | (ad_per_time_usr.ad_count == 2)].sort_values(by = 'pnr')\n",
    "df = df.merge(data, how = 'left', on = ['pnr', 'timestamp', 'domain'])\n",
    "print('Number of rows in subset is', df.shape[0])\n",
    "\n",
    "df.head()"
   ]
  },
  {
   "cell_type": "code",
   "execution_count": 20,
   "metadata": {},
   "outputs": [
    {
     "data": {
      "text/plain": [
       "46"
      ]
     },
     "execution_count": 20,
     "metadata": {},
     "output_type": "execute_result"
    }
   ],
   "source": [
    "# There are cases where the same event is happening in two cities at the same time according to data.\n",
    "city_above_1 = df.groupby(['pnr', 'timestamp', 'domain'])['city'].nunique().reset_index(name = 'city_counts')\n",
    "city_above_1[city_above_1.city_counts > 1].shape[0]"
   ]
  },
  {
   "cell_type": "markdown",
   "metadata": {},
   "source": [
    "We can see that those are only 46 cases. We can fully drop those from the dataset. If we aim to keep only one of the records a.k.a drop duplicates by subset and keep first records, we might accidentally introduce inaccurate information in the data."
   ]
  },
  {
   "cell_type": "code",
   "execution_count": 21,
   "metadata": {},
   "outputs": [
    {
     "name": "stdout",
     "output_type": "stream",
     "text": [
      "Maximum number of ad exposures per user at the same time is 2\n"
     ]
    }
   ],
   "source": [
    "pnr_to_exclude = list(city_above_1[city_above_1.city_counts > 1].pnr.unique())\n",
    "# removing the cases from the intial dataset\n",
    "data = data[~data.pnr.isin(pnr_to_exclude)]\n",
    "\n",
    "# Checking ad exposure count after adjustment \n",
    "ad_per_time_usr = data.groupby(['pnr', 'timestamp', 'domain']).size().reset_index(name = 'ad_count')\n",
    "\n",
    "print('Maximum number of ad exposures per user at the same time is', ad_per_time_usr.ad_count.max())"
   ]
  },
  {
   "cell_type": "code",
   "execution_count": 22,
   "metadata": {},
   "outputs": [
    {
     "name": "stdout",
     "output_type": "stream",
     "text": [
      "Number of rows in subset is 58\n"
     ]
    },
    {
     "data": {
      "text/html": [
       "<div>\n",
       "<style scoped>\n",
       "    .dataframe tbody tr th:only-of-type {\n",
       "        vertical-align: middle;\n",
       "    }\n",
       "\n",
       "    .dataframe tbody tr th {\n",
       "        vertical-align: top;\n",
       "    }\n",
       "\n",
       "    .dataframe thead th {\n",
       "        text-align: right;\n",
       "    }\n",
       "</style>\n",
       "<table border=\"1\" class=\"dataframe\">\n",
       "  <thead>\n",
       "    <tr style=\"text-align: right;\">\n",
       "      <th></th>\n",
       "      <th>pnr</th>\n",
       "      <th>timestamp</th>\n",
       "      <th>domain</th>\n",
       "      <th>ad_count</th>\n",
       "      <th>contentid</th>\n",
       "      <th>devicetypeclass</th>\n",
       "      <th>country</th>\n",
       "      <th>region</th>\n",
       "      <th>city</th>\n",
       "      <th>panelid</th>\n",
       "      <th>slice_year</th>\n",
       "      <th>slice_month</th>\n",
       "      <th>slice_day</th>\n",
       "      <th>mediaid</th>\n",
       "      <th>cluster</th>\n",
       "      <th>date</th>\n",
       "    </tr>\n",
       "  </thead>\n",
       "  <tbody>\n",
       "    <tr>\n",
       "      <th>0</th>\n",
       "      <td>073495f826f0d208</td>\n",
       "      <td>2021-04-27 01:26:21</td>\n",
       "      <td>https://imasdk.googleapis.com</td>\n",
       "      <td>2</td>\n",
       "      <td>327500102</td>\n",
       "      <td>SMARTPHONE</td>\n",
       "      <td>Colombia</td>\n",
       "      <td>Departamento de Boyaca</td>\n",
       "      <td>Duitama</td>\n",
       "      <td>nq_co</td>\n",
       "      <td>2021</td>\n",
       "      <td>4</td>\n",
       "      <td>27</td>\n",
       "      <td>campaign_3288</td>\n",
       "      <td>Bancolombia</td>\n",
       "      <td>2021-04-27</td>\n",
       "    </tr>\n",
       "    <tr>\n",
       "      <th>1</th>\n",
       "      <td>073495f826f0d208</td>\n",
       "      <td>2021-04-27 01:26:21</td>\n",
       "      <td>https://imasdk.googleapis.com</td>\n",
       "      <td>2</td>\n",
       "      <td>327500102</td>\n",
       "      <td>SMARTPHONE</td>\n",
       "      <td>Colombia</td>\n",
       "      <td>Departamento de Boyaca</td>\n",
       "      <td>Duitama</td>\n",
       "      <td>nq_co</td>\n",
       "      <td>2021</td>\n",
       "      <td>4</td>\n",
       "      <td>27</td>\n",
       "      <td>campaign_6346</td>\n",
       "      <td>Bancolombia</td>\n",
       "      <td>2021-04-27</td>\n",
       "    </tr>\n",
       "    <tr>\n",
       "      <th>2</th>\n",
       "      <td>13dd8805a9339915</td>\n",
       "      <td>2021-04-28 04:56:30</td>\n",
       "      <td>https://imasdk.googleapis.com</td>\n",
       "      <td>2</td>\n",
       "      <td>327500102</td>\n",
       "      <td>SMARTPHONE</td>\n",
       "      <td>Colombia</td>\n",
       "      <td>Bogota D.C.</td>\n",
       "      <td>Bogotá</td>\n",
       "      <td>nq_co</td>\n",
       "      <td>2021</td>\n",
       "      <td>4</td>\n",
       "      <td>28</td>\n",
       "      <td>campaign_6241</td>\n",
       "      <td>Bancolombia</td>\n",
       "      <td>2021-04-28</td>\n",
       "    </tr>\n",
       "    <tr>\n",
       "      <th>3</th>\n",
       "      <td>13dd8805a9339915</td>\n",
       "      <td>2021-04-28 04:56:30</td>\n",
       "      <td>https://imasdk.googleapis.com</td>\n",
       "      <td>2</td>\n",
       "      <td>327500102</td>\n",
       "      <td>SMARTPHONE</td>\n",
       "      <td>Colombia</td>\n",
       "      <td>Bogota D.C.</td>\n",
       "      <td>Bogotá</td>\n",
       "      <td>nq_co</td>\n",
       "      <td>2021</td>\n",
       "      <td>4</td>\n",
       "      <td>28</td>\n",
       "      <td>campaign_6303</td>\n",
       "      <td>Bancolombia</td>\n",
       "      <td>2021-04-28</td>\n",
       "    </tr>\n",
       "    <tr>\n",
       "      <th>4</th>\n",
       "      <td>203f3ba10076bad6</td>\n",
       "      <td>2021-05-18 13:15:28</td>\n",
       "      <td>https://d-38346101041713686610.ampproject.net</td>\n",
       "      <td>2</td>\n",
       "      <td>327500101</td>\n",
       "      <td>SMARTPHONE</td>\n",
       "      <td>Colombia</td>\n",
       "      <td>Bogota D.C.</td>\n",
       "      <td>Bogotá</td>\n",
       "      <td>nq_co</td>\n",
       "      <td>2021</td>\n",
       "      <td>5</td>\n",
       "      <td>18</td>\n",
       "      <td>campaign_3408</td>\n",
       "      <td>Bancolombia</td>\n",
       "      <td>2021-05-18</td>\n",
       "    </tr>\n",
       "  </tbody>\n",
       "</table>\n",
       "</div>"
      ],
      "text/plain": [
       "                pnr           timestamp  \\\n",
       "0  073495f826f0d208 2021-04-27 01:26:21   \n",
       "1  073495f826f0d208 2021-04-27 01:26:21   \n",
       "2  13dd8805a9339915 2021-04-28 04:56:30   \n",
       "3  13dd8805a9339915 2021-04-28 04:56:30   \n",
       "4  203f3ba10076bad6 2021-05-18 13:15:28   \n",
       "\n",
       "                                          domain  ad_count  contentid  \\\n",
       "0                  https://imasdk.googleapis.com         2  327500102   \n",
       "1                  https://imasdk.googleapis.com         2  327500102   \n",
       "2                  https://imasdk.googleapis.com         2  327500102   \n",
       "3                  https://imasdk.googleapis.com         2  327500102   \n",
       "4  https://d-38346101041713686610.ampproject.net         2  327500101   \n",
       "\n",
       "  devicetypeclass   country                  region     city panelid  \\\n",
       "0      SMARTPHONE  Colombia  Departamento de Boyaca  Duitama   nq_co   \n",
       "1      SMARTPHONE  Colombia  Departamento de Boyaca  Duitama   nq_co   \n",
       "2      SMARTPHONE  Colombia             Bogota D.C.   Bogotá   nq_co   \n",
       "3      SMARTPHONE  Colombia             Bogota D.C.   Bogotá   nq_co   \n",
       "4      SMARTPHONE  Colombia             Bogota D.C.   Bogotá   nq_co   \n",
       "\n",
       "   slice_year  slice_month  slice_day        mediaid      cluster       date  \n",
       "0        2021            4         27  campaign_3288  Bancolombia 2021-04-27  \n",
       "1        2021            4         27  campaign_6346  Bancolombia 2021-04-27  \n",
       "2        2021            4         28  campaign_6241  Bancolombia 2021-04-28  \n",
       "3        2021            4         28  campaign_6303  Bancolombia 2021-04-28  \n",
       "4        2021            5         18  campaign_3408  Bancolombia 2021-05-18  "
      ]
     },
     "execution_count": 22,
     "metadata": {},
     "output_type": "execute_result"
    }
   ],
   "source": [
    "# third iteration to check reason for multiple exposures at the same time\n",
    "df = ad_per_time_usr[(ad_per_time_usr.ad_count == 3) | (ad_per_time_usr.ad_count == 2)].sort_values(by = 'pnr')\n",
    "df = df.merge(data, how = 'left', on = ['pnr', 'timestamp', 'domain'])\n",
    "print('Number of rows in subset is', df.shape[0])\n",
    "\n",
    "df.head()"
   ]
  },
  {
   "cell_type": "markdown",
   "metadata": {},
   "source": [
    "According to the data a user can be exposed to 2 different campaigns with the same message (contentid) at the same time. "
   ]
  },
  {
   "cell_type": "code",
   "execution_count": 23,
   "metadata": {},
   "outputs": [
    {
     "name": "stdout",
     "output_type": "stream",
     "text": [
      "Maximum number of ad exposures per user at the same time is 1\n"
     ]
    }
   ],
   "source": [
    "# We will add the domain to the list of fields to groupby\n",
    "ad_per_time_usr = data.groupby(['pnr', 'timestamp', 'domain', 'mediaid']).size().reset_index(name = 'ad_count')\n",
    "print('Maximum number of ad exposures per user at the same time is', ad_per_time_usr.ad_count.max())"
   ]
  },
  {
   "cell_type": "markdown",
   "metadata": {},
   "source": [
    "#### We have managed to determine the compound unique key identifier, which is shaped from the following fields: pnr, timestamp, domain, mediaid"
   ]
  },
  {
   "cell_type": "markdown",
   "metadata": {},
   "source": [
    "### 8. Checking patterns in the data"
   ]
  },
  {
   "cell_type": "markdown",
   "metadata": {},
   "source": [
    "Since this data is about users in Colombia (about 99% of the data) we will drop records about users from Argentina and the USA since they are relatively low. They might have occurred in the data by mistake since the supermarket does not have any sites in the USA and the financial services company does not offer services in Argentina or USA. "
   ]
  },
  {
   "cell_type": "code",
   "execution_count": 24,
   "metadata": {},
   "outputs": [],
   "source": [
    "data = data[data.country == 'Colombia']"
   ]
  },
  {
   "cell_type": "markdown",
   "metadata": {},
   "source": [
    "##### 8.1. Which is the dominant cluster in the data? "
   ]
  },
  {
   "cell_type": "code",
   "execution_count": 25,
   "metadata": {},
   "outputs": [
    {
     "data": {
      "image/png": "[encoded data removed]",
      "text/plain": [
       "<Figure size 432x288 with 1 Axes>"
      ]
     },
     "metadata": {
      "needs_background": "light"
     },
     "output_type": "display_data"
    }
   ],
   "source": [
    "plt.bar(list(data.cluster.unique()), height = list(data.cluster.value_counts()),color ='maroon', \n",
    "        width = 0.4)\n",
    " \n",
    "plt.xlabel(\"Cluster (company being advertised)\")\n",
    "plt.ylabel(\"Number of exposures\")\n",
    "plt.title(\"Distribution of exposures in terms of clusters\")\n",
    "plt.show()"
   ]
  },
  {
   "cell_type": "markdown",
   "metadata": {},
   "source": [
    "From the bar plot above we can see the the dominant cluster is about the supermarket JUMBO, meaning that users in the dataset are manily exposed to ads about this company."
   ]
  },
  {
   "cell_type": "markdown",
   "metadata": {},
   "source": [
    "##### 8.2. On which device are the users exposed to ads the most?"
   ]
  },
  {
   "cell_type": "code",
   "execution_count": 26,
   "metadata": {},
   "outputs": [
    {
     "data": {
      "image/png": "[encoded data removed]",
      "text/plain": [
       "<Figure size 432x288 with 1 Axes>"
      ]
     },
     "metadata": {
      "needs_background": "light"
     },
     "output_type": "display_data"
    }
   ],
   "source": [
    "plt.bar(list(data.devicetypeclass.unique()), height = list(data.devicetypeclass.value_counts()),color ='maroon', \n",
    "        width = 0.4)\n",
    " \n",
    "plt.xlabel(\"Device type\")\n",
    "plt.ylabel(\"Number of exposures\")\n",
    "plt.title(\"Distribution of exposures in terms of devices\")\n",
    "plt.show()"
   ]
  },
  {
   "cell_type": "markdown",
   "metadata": {},
   "source": [
    "##### 8.3. What is the number of campaigns for each of the businesses/ clusters"
   ]
  },
  {
   "cell_type": "code",
   "execution_count": 27,
   "metadata": {},
   "outputs": [
    {
     "data": {
      "text/html": [
       "<div>\n",
       "<style scoped>\n",
       "    .dataframe tbody tr th:only-of-type {\n",
       "        vertical-align: middle;\n",
       "    }\n",
       "\n",
       "    .dataframe tbody tr th {\n",
       "        vertical-align: top;\n",
       "    }\n",
       "\n",
       "    .dataframe thead th {\n",
       "        text-align: right;\n",
       "    }\n",
       "</style>\n",
       "<table border=\"1\" class=\"dataframe\">\n",
       "  <thead>\n",
       "    <tr style=\"text-align: right;\">\n",
       "      <th></th>\n",
       "      <th>cluster</th>\n",
       "      <th>business</th>\n",
       "    </tr>\n",
       "  </thead>\n",
       "  <tbody>\n",
       "    <tr>\n",
       "      <th>0</th>\n",
       "      <td>Bancolombia</td>\n",
       "      <td>3319</td>\n",
       "    </tr>\n",
       "    <tr>\n",
       "      <th>1</th>\n",
       "      <td>JUMBO</td>\n",
       "      <td>1</td>\n",
       "    </tr>\n",
       "  </tbody>\n",
       "</table>\n",
       "</div>"
      ],
      "text/plain": [
       "       cluster  business\n",
       "0  Bancolombia      3319\n",
       "1        JUMBO         1"
      ]
     },
     "execution_count": 27,
     "metadata": {},
     "output_type": "execute_result"
    }
   ],
   "source": [
    "data.groupby('cluster')['mediaid'].nunique().reset_index(name='business')"
   ]
  },
  {
   "cell_type": "markdown",
   "metadata": {},
   "source": [
    "We can see there is only one campaign for the supermarket Jumbo, however, as seen in the bar chart above, most data seems to be about this campaign as the cluster is dominant."
   ]
  },
  {
   "cell_type": "markdown",
   "metadata": {},
   "source": [
    "##### 8.4. Number of ad exporsures per day for each pnr "
   ]
  },
  {
   "cell_type": "code",
   "execution_count": 28,
   "metadata": {},
   "outputs": [],
   "source": [
    "data['ad'] = data['mediaid']+ '_'+ data['contentid'].astype(str) # column that identifies unique ad\n",
    "unique_ads_per_day = data.groupby(['pnr', 'date'])['ad'].nunique().reset_index(name = 'ads')"
   ]
  },
  {
   "cell_type": "code",
   "execution_count": 29,
   "metadata": {},
   "outputs": [
    {
     "data": {
      "text/html": [
       "<div>\n",
       "<style scoped>\n",
       "    .dataframe tbody tr th:only-of-type {\n",
       "        vertical-align: middle;\n",
       "    }\n",
       "\n",
       "    .dataframe tbody tr th {\n",
       "        vertical-align: top;\n",
       "    }\n",
       "\n",
       "    .dataframe thead th {\n",
       "        text-align: right;\n",
       "    }\n",
       "</style>\n",
       "<table border=\"1\" class=\"dataframe\">\n",
       "  <thead>\n",
       "    <tr style=\"text-align: right;\">\n",
       "      <th></th>\n",
       "      <th>pnr</th>\n",
       "      <th>date</th>\n",
       "      <th>ads</th>\n",
       "    </tr>\n",
       "  </thead>\n",
       "  <tbody>\n",
       "    <tr>\n",
       "      <th>0</th>\n",
       "      <td>0000b53b5a38961b</td>\n",
       "      <td>2021-08-26</td>\n",
       "      <td>1</td>\n",
       "    </tr>\n",
       "    <tr>\n",
       "      <th>1</th>\n",
       "      <td>00036269dd59a9d5</td>\n",
       "      <td>2021-08-28</td>\n",
       "      <td>1</td>\n",
       "    </tr>\n",
       "    <tr>\n",
       "      <th>2</th>\n",
       "      <td>0003bf9f33aa0249</td>\n",
       "      <td>2021-08-25</td>\n",
       "      <td>1</td>\n",
       "    </tr>\n",
       "    <tr>\n",
       "      <th>3</th>\n",
       "      <td>00056a5a4a2df7dc</td>\n",
       "      <td>2021-08-11</td>\n",
       "      <td>1</td>\n",
       "    </tr>\n",
       "    <tr>\n",
       "      <th>4</th>\n",
       "      <td>00056a5a4a2df7dc</td>\n",
       "      <td>2021-08-18</td>\n",
       "      <td>1</td>\n",
       "    </tr>\n",
       "  </tbody>\n",
       "</table>\n",
       "</div>"
      ],
      "text/plain": [
       "                pnr       date  ads\n",
       "0  0000b53b5a38961b 2021-08-26    1\n",
       "1  00036269dd59a9d5 2021-08-28    1\n",
       "2  0003bf9f33aa0249 2021-08-25    1\n",
       "3  00056a5a4a2df7dc 2021-08-11    1\n",
       "4  00056a5a4a2df7dc 2021-08-18    1"
      ]
     },
     "execution_count": 29,
     "metadata": {},
     "output_type": "execute_result"
    }
   ],
   "source": [
    "unique_ads_per_day.head()"
   ]
  },
  {
   "cell_type": "markdown",
   "metadata": {},
   "source": [
    "Using a box plot we can check how the values are spread in the data."
   ]
  },
  {
   "cell_type": "code",
   "execution_count": 30,
   "metadata": {},
   "outputs": [
    {
     "data": {
      "image/png": "[encoded data removed]",
      "text/plain": [
       "<Figure size 576x432 with 1 Axes>"
      ]
     },
     "metadata": {},
     "output_type": "display_data"
    }
   ],
   "source": [
    "sns.set(rc={'figure.figsize':(8,6)})\n",
    "sns.set_style(\"darkgrid\")\n",
    "sns.boxplot(x =unique_ads_per_day['ads'])\n",
    "sns.despine(left=True)"
   ]
  },
  {
   "cell_type": "markdown",
   "metadata": {},
   "source": [
    "We can tell that there are some extreme cases in the data. We can gain a better understanding again using the describe method."
   ]
  },
  {
   "cell_type": "code",
   "execution_count": 31,
   "metadata": {},
   "outputs": [
    {
     "data": {
      "text/html": [
       "<div>\n",
       "<style scoped>\n",
       "    .dataframe tbody tr th:only-of-type {\n",
       "        vertical-align: middle;\n",
       "    }\n",
       "\n",
       "    .dataframe tbody tr th {\n",
       "        vertical-align: top;\n",
       "    }\n",
       "\n",
       "    .dataframe thead th {\n",
       "        text-align: right;\n",
       "    }\n",
       "</style>\n",
       "<table border=\"1\" class=\"dataframe\">\n",
       "  <thead>\n",
       "    <tr style=\"text-align: right;\">\n",
       "      <th></th>\n",
       "      <th>ads</th>\n",
       "    </tr>\n",
       "  </thead>\n",
       "  <tbody>\n",
       "    <tr>\n",
       "      <th>count</th>\n",
       "      <td>39010.000000</td>\n",
       "    </tr>\n",
       "    <tr>\n",
       "      <th>mean</th>\n",
       "      <td>1.024019</td>\n",
       "    </tr>\n",
       "    <tr>\n",
       "      <th>std</th>\n",
       "      <td>0.583478</td>\n",
       "    </tr>\n",
       "    <tr>\n",
       "      <th>min</th>\n",
       "      <td>1.000000</td>\n",
       "    </tr>\n",
       "    <tr>\n",
       "      <th>25%</th>\n",
       "      <td>1.000000</td>\n",
       "    </tr>\n",
       "    <tr>\n",
       "      <th>50%</th>\n",
       "      <td>1.000000</td>\n",
       "    </tr>\n",
       "    <tr>\n",
       "      <th>75%</th>\n",
       "      <td>1.000000</td>\n",
       "    </tr>\n",
       "    <tr>\n",
       "      <th>max</th>\n",
       "      <td>69.000000</td>\n",
       "    </tr>\n",
       "  </tbody>\n",
       "</table>\n",
       "</div>"
      ],
      "text/plain": [
       "                ads\n",
       "count  39010.000000\n",
       "mean       1.024019\n",
       "std        0.583478\n",
       "min        1.000000\n",
       "25%        1.000000\n",
       "50%        1.000000\n",
       "75%        1.000000\n",
       "max       69.000000"
      ]
     },
     "execution_count": 31,
     "metadata": {},
     "output_type": "execute_result"
    }
   ],
   "source": [
    "unique_ads_per_day.describe()"
   ]
  },
  {
   "cell_type": "markdown",
   "metadata": {},
   "source": [
    "The maximum value is 69 and the values at the 3 percentiles (25%, 50% and 75%) is 1. "
   ]
  },
  {
   "cell_type": "code",
   "execution_count": 32,
   "metadata": {},
   "outputs": [
    {
     "name": "stdout",
     "output_type": "stream",
     "text": [
      "0.0\n"
     ]
    }
   ],
   "source": [
    "Q1 = unique_ads_per_day.ads.quantile(0.25)\n",
    "Q3 = unique_ads_per_day.ads.quantile(0.75)\n",
    "IQR = Q3-Q1\n",
    "print(IQR)"
   ]
  },
  {
   "cell_type": "markdown",
   "metadata": {},
   "source": [
    "We can see that the IQR (Interquartile range) is 0, which means that there is no variability in the middle 50% of the data. We can check the number of these cases by filtering rows with ads > 10."
   ]
  },
  {
   "cell_type": "code",
   "execution_count": 33,
   "metadata": {},
   "outputs": [
    {
     "name": "stdout",
     "output_type": "stream",
     "text": [
      "Number of ids with ad exposures > 10 is 11\n"
     ]
    }
   ],
   "source": [
    "pnrs_to_review = list(unique_ads_per_day[unique_ads_per_day.ads > 10].pnr.unique())\n",
    "print('Number of ids with ad exposures > 10 is', len(pnrs_to_review))"
   ]
  },
  {
   "cell_type": "markdown",
   "metadata": {},
   "source": [
    "We will review one of the cases."
   ]
  },
  {
   "cell_type": "code",
   "execution_count": 34,
   "metadata": {},
   "outputs": [],
   "source": [
    "df = data[data.pnr == pnrs_to_review[2]]"
   ]
  },
  {
   "cell_type": "code",
   "execution_count": 35,
   "metadata": {},
   "outputs": [
    {
     "data": {
      "text/html": [
       "<div>\n",
       "<style scoped>\n",
       "    .dataframe tbody tr th:only-of-type {\n",
       "        vertical-align: middle;\n",
       "    }\n",
       "\n",
       "    .dataframe tbody tr th {\n",
       "        vertical-align: top;\n",
       "    }\n",
       "\n",
       "    .dataframe thead th {\n",
       "        text-align: right;\n",
       "    }\n",
       "</style>\n",
       "<table border=\"1\" class=\"dataframe\">\n",
       "  <thead>\n",
       "    <tr style=\"text-align: right;\">\n",
       "      <th></th>\n",
       "      <th>pnr</th>\n",
       "      <th>timestamp</th>\n",
       "      <th>contentid</th>\n",
       "      <th>domain</th>\n",
       "      <th>devicetypeclass</th>\n",
       "      <th>country</th>\n",
       "      <th>region</th>\n",
       "      <th>city</th>\n",
       "      <th>panelid</th>\n",
       "      <th>slice_year</th>\n",
       "      <th>slice_month</th>\n",
       "      <th>slice_day</th>\n",
       "      <th>mediaid</th>\n",
       "      <th>cluster</th>\n",
       "      <th>date</th>\n",
       "      <th>ad</th>\n",
       "    </tr>\n",
       "  </thead>\n",
       "  <tbody>\n",
       "    <tr>\n",
       "      <th>131942</th>\n",
       "      <td>24fac216da5cc50d</td>\n",
       "      <td>2021-05-25 15:18:07</td>\n",
       "      <td>327500102</td>\n",
       "      <td>UNKNOWN</td>\n",
       "      <td>DESKTOP</td>\n",
       "      <td>Colombia</td>\n",
       "      <td>Atlántico</td>\n",
       "      <td>Barranquilla</td>\n",
       "      <td>nq_co</td>\n",
       "      <td>2021</td>\n",
       "      <td>5</td>\n",
       "      <td>25</td>\n",
       "      <td>campaign_4138</td>\n",
       "      <td>Bancolombia</td>\n",
       "      <td>2021-05-25</td>\n",
       "      <td>campaign_4138_327500102</td>\n",
       "    </tr>\n",
       "    <tr>\n",
       "      <th>131944</th>\n",
       "      <td>24fac216da5cc50d</td>\n",
       "      <td>2021-05-25 15:21:42</td>\n",
       "      <td>327500102</td>\n",
       "      <td>UNKNOWN</td>\n",
       "      <td>DESKTOP</td>\n",
       "      <td>Colombia</td>\n",
       "      <td>Atlántico</td>\n",
       "      <td>Barranquilla</td>\n",
       "      <td>nq_co</td>\n",
       "      <td>2021</td>\n",
       "      <td>5</td>\n",
       "      <td>25</td>\n",
       "      <td>campaign_4140</td>\n",
       "      <td>Bancolombia</td>\n",
       "      <td>2021-05-25</td>\n",
       "      <td>campaign_4140_327500102</td>\n",
       "    </tr>\n",
       "    <tr>\n",
       "      <th>131946</th>\n",
       "      <td>24fac216da5cc50d</td>\n",
       "      <td>2021-05-25 16:44:49</td>\n",
       "      <td>327500102</td>\n",
       "      <td>UNKNOWN</td>\n",
       "      <td>DESKTOP</td>\n",
       "      <td>Colombia</td>\n",
       "      <td>Atlántico</td>\n",
       "      <td>Barranquilla</td>\n",
       "      <td>nq_co</td>\n",
       "      <td>2021</td>\n",
       "      <td>5</td>\n",
       "      <td>25</td>\n",
       "      <td>campaign_4142</td>\n",
       "      <td>Bancolombia</td>\n",
       "      <td>2021-05-25</td>\n",
       "      <td>campaign_4142_327500102</td>\n",
       "    </tr>\n",
       "    <tr>\n",
       "      <th>131947</th>\n",
       "      <td>24fac216da5cc50d</td>\n",
       "      <td>2021-05-25 16:48:44</td>\n",
       "      <td>327500102</td>\n",
       "      <td>UNKNOWN</td>\n",
       "      <td>DESKTOP</td>\n",
       "      <td>Colombia</td>\n",
       "      <td>Atlántico</td>\n",
       "      <td>Barranquilla</td>\n",
       "      <td>nq_co</td>\n",
       "      <td>2021</td>\n",
       "      <td>5</td>\n",
       "      <td>25</td>\n",
       "      <td>campaign_4143</td>\n",
       "      <td>Bancolombia</td>\n",
       "      <td>2021-05-25</td>\n",
       "      <td>campaign_4143_327500102</td>\n",
       "    </tr>\n",
       "    <tr>\n",
       "      <th>131948</th>\n",
       "      <td>24fac216da5cc50d</td>\n",
       "      <td>2021-05-25 16:13:48</td>\n",
       "      <td>327500102</td>\n",
       "      <td>UNKNOWN</td>\n",
       "      <td>DESKTOP</td>\n",
       "      <td>Colombia</td>\n",
       "      <td>Atlántico</td>\n",
       "      <td>Barranquilla</td>\n",
       "      <td>nq_co</td>\n",
       "      <td>2021</td>\n",
       "      <td>5</td>\n",
       "      <td>25</td>\n",
       "      <td>campaign_4144</td>\n",
       "      <td>Bancolombia</td>\n",
       "      <td>2021-05-25</td>\n",
       "      <td>campaign_4144_327500102</td>\n",
       "    </tr>\n",
       "    <tr>\n",
       "      <th>131949</th>\n",
       "      <td>24fac216da5cc50d</td>\n",
       "      <td>2021-05-25 15:20:32</td>\n",
       "      <td>327500102</td>\n",
       "      <td>UNKNOWN</td>\n",
       "      <td>DESKTOP</td>\n",
       "      <td>Colombia</td>\n",
       "      <td>Atlántico</td>\n",
       "      <td>Barranquilla</td>\n",
       "      <td>nq_co</td>\n",
       "      <td>2021</td>\n",
       "      <td>5</td>\n",
       "      <td>25</td>\n",
       "      <td>campaign_4145</td>\n",
       "      <td>Bancolombia</td>\n",
       "      <td>2021-05-25</td>\n",
       "      <td>campaign_4145_327500102</td>\n",
       "    </tr>\n",
       "    <tr>\n",
       "      <th>131953</th>\n",
       "      <td>24fac216da5cc50d</td>\n",
       "      <td>2021-05-25 16:10:57</td>\n",
       "      <td>327500102</td>\n",
       "      <td>UNKNOWN</td>\n",
       "      <td>DESKTOP</td>\n",
       "      <td>Colombia</td>\n",
       "      <td>Atlántico</td>\n",
       "      <td>Barranquilla</td>\n",
       "      <td>nq_co</td>\n",
       "      <td>2021</td>\n",
       "      <td>5</td>\n",
       "      <td>25</td>\n",
       "      <td>campaign_4149</td>\n",
       "      <td>Bancolombia</td>\n",
       "      <td>2021-05-25</td>\n",
       "      <td>campaign_4149_327500102</td>\n",
       "    </tr>\n",
       "    <tr>\n",
       "      <th>131955</th>\n",
       "      <td>24fac216da5cc50d</td>\n",
       "      <td>2021-05-25 16:52:47</td>\n",
       "      <td>327500102</td>\n",
       "      <td>UNKNOWN</td>\n",
       "      <td>DESKTOP</td>\n",
       "      <td>Colombia</td>\n",
       "      <td>Atlántico</td>\n",
       "      <td>Barranquilla</td>\n",
       "      <td>nq_co</td>\n",
       "      <td>2021</td>\n",
       "      <td>5</td>\n",
       "      <td>25</td>\n",
       "      <td>campaign_4151</td>\n",
       "      <td>Bancolombia</td>\n",
       "      <td>2021-05-25</td>\n",
       "      <td>campaign_4151_327500102</td>\n",
       "    </tr>\n",
       "    <tr>\n",
       "      <th>131957</th>\n",
       "      <td>24fac216da5cc50d</td>\n",
       "      <td>2021-05-25 16:12:50</td>\n",
       "      <td>327500102</td>\n",
       "      <td>UNKNOWN</td>\n",
       "      <td>DESKTOP</td>\n",
       "      <td>Colombia</td>\n",
       "      <td>Atlántico</td>\n",
       "      <td>Barranquilla</td>\n",
       "      <td>nq_co</td>\n",
       "      <td>2021</td>\n",
       "      <td>5</td>\n",
       "      <td>25</td>\n",
       "      <td>campaign_4153</td>\n",
       "      <td>Bancolombia</td>\n",
       "      <td>2021-05-25</td>\n",
       "      <td>campaign_4153_327500102</td>\n",
       "    </tr>\n",
       "    <tr>\n",
       "      <th>131967</th>\n",
       "      <td>24fac216da5cc50d</td>\n",
       "      <td>2021-05-25 15:19:01</td>\n",
       "      <td>327500102</td>\n",
       "      <td>UNKNOWN</td>\n",
       "      <td>DESKTOP</td>\n",
       "      <td>Colombia</td>\n",
       "      <td>Atlántico</td>\n",
       "      <td>Barranquilla</td>\n",
       "      <td>nq_co</td>\n",
       "      <td>2021</td>\n",
       "      <td>5</td>\n",
       "      <td>25</td>\n",
       "      <td>campaign_4163</td>\n",
       "      <td>Bancolombia</td>\n",
       "      <td>2021-05-25</td>\n",
       "      <td>campaign_4163_327500102</td>\n",
       "    </tr>\n",
       "  </tbody>\n",
       "</table>\n",
       "</div>"
      ],
      "text/plain": [
       "                     pnr           timestamp  contentid   domain  \\\n",
       "131942  24fac216da5cc50d 2021-05-25 15:18:07  327500102  UNKNOWN   \n",
       "131944  24fac216da5cc50d 2021-05-25 15:21:42  327500102  UNKNOWN   \n",
       "131946  24fac216da5cc50d 2021-05-25 16:44:49  327500102  UNKNOWN   \n",
       "131947  24fac216da5cc50d 2021-05-25 16:48:44  327500102  UNKNOWN   \n",
       "131948  24fac216da5cc50d 2021-05-25 16:13:48  327500102  UNKNOWN   \n",
       "131949  24fac216da5cc50d 2021-05-25 15:20:32  327500102  UNKNOWN   \n",
       "131953  24fac216da5cc50d 2021-05-25 16:10:57  327500102  UNKNOWN   \n",
       "131955  24fac216da5cc50d 2021-05-25 16:52:47  327500102  UNKNOWN   \n",
       "131957  24fac216da5cc50d 2021-05-25 16:12:50  327500102  UNKNOWN   \n",
       "131967  24fac216da5cc50d 2021-05-25 15:19:01  327500102  UNKNOWN   \n",
       "\n",
       "       devicetypeclass   country     region          city panelid  slice_year  \\\n",
       "131942         DESKTOP  Colombia  Atlántico  Barranquilla   nq_co        2021   \n",
       "131944         DESKTOP  Colombia  Atlántico  Barranquilla   nq_co        2021   \n",
       "131946         DESKTOP  Colombia  Atlántico  Barranquilla   nq_co        2021   \n",
       "131947         DESKTOP  Colombia  Atlántico  Barranquilla   nq_co        2021   \n",
       "131948         DESKTOP  Colombia  Atlántico  Barranquilla   nq_co        2021   \n",
       "131949         DESKTOP  Colombia  Atlántico  Barranquilla   nq_co        2021   \n",
       "131953         DESKTOP  Colombia  Atlántico  Barranquilla   nq_co        2021   \n",
       "131955         DESKTOP  Colombia  Atlántico  Barranquilla   nq_co        2021   \n",
       "131957         DESKTOP  Colombia  Atlántico  Barranquilla   nq_co        2021   \n",
       "131967         DESKTOP  Colombia  Atlántico  Barranquilla   nq_co        2021   \n",
       "\n",
       "        slice_month  slice_day        mediaid      cluster       date  \\\n",
       "131942            5         25  campaign_4138  Bancolombia 2021-05-25   \n",
       "131944            5         25  campaign_4140  Bancolombia 2021-05-25   \n",
       "131946            5         25  campaign_4142  Bancolombia 2021-05-25   \n",
       "131947            5         25  campaign_4143  Bancolombia 2021-05-25   \n",
       "131948            5         25  campaign_4144  Bancolombia 2021-05-25   \n",
       "131949            5         25  campaign_4145  Bancolombia 2021-05-25   \n",
       "131953            5         25  campaign_4149  Bancolombia 2021-05-25   \n",
       "131955            5         25  campaign_4151  Bancolombia 2021-05-25   \n",
       "131957            5         25  campaign_4153  Bancolombia 2021-05-25   \n",
       "131967            5         25  campaign_4163  Bancolombia 2021-05-25   \n",
       "\n",
       "                             ad  \n",
       "131942  campaign_4138_327500102  \n",
       "131944  campaign_4140_327500102  \n",
       "131946  campaign_4142_327500102  \n",
       "131947  campaign_4143_327500102  \n",
       "131948  campaign_4144_327500102  \n",
       "131949  campaign_4145_327500102  \n",
       "131953  campaign_4149_327500102  \n",
       "131955  campaign_4151_327500102  \n",
       "131957  campaign_4153_327500102  \n",
       "131967  campaign_4163_327500102  "
      ]
     },
     "execution_count": 35,
     "metadata": {},
     "output_type": "execute_result"
    }
   ],
   "source": [
    "df.head(10)"
   ]
  },
  {
   "cell_type": "code",
   "execution_count": 36,
   "metadata": {},
   "outputs": [
    {
     "name": "stdout",
     "output_type": "stream",
     "text": [
      "Number of unique clusters 1\n",
      "Number of unique messages 1\n",
      "Number of unique campaigns 69\n"
     ]
    }
   ],
   "source": [
    "print('Number of unique clusters', len(df.cluster.unique()))\n",
    "print('Number of unique messages', len(df.contentid.unique()))\n",
    "print('Number of unique campaigns', len(df.mediaid.unique()))"
   ]
  },
  {
   "cell_type": "markdown",
   "metadata": {},
   "source": [
    "We can tell that the high number of exposures in the data is due to the different campaigns with which the same message is advertised. These cases can be handled depending on the purpose of the analysis. Removing them might lead to loss of information."
   ]
  },
  {
   "cell_type": "markdown",
   "metadata": {},
   "source": [
    "### 9. Finding correlation between variables"
   ]
  },
  {
   "cell_type": "markdown",
   "metadata": {},
   "source": [
    "We will be looking at correlation between categorical variables: correlation between the ad message, device type, city and cluster. Our null hypothesis is that there is nor relation between the variables."
   ]
  },
  {
   "cell_type": "code",
   "execution_count": 37,
   "metadata": {},
   "outputs": [],
   "source": [
    "def Chi_2_corr(col_list, data):\n",
    "    \n",
    "    \"\"\"\n",
    "    A function that calculates the chi square stats and retruns a dataframe\n",
    "    with the cols: var1, var2, chi2 and p-value, where var1 and var2 are the examined \n",
    "    variables.\n",
    "    Takes in a list of variables to be examined and a dataset \n",
    "\n",
    "    \"\"\"\n",
    "    #prep 2 list with same columns to calculate combinations\n",
    "    cat_vars_x = col_list.copy()\n",
    "    cat_vars_y = col_list.copy()\n",
    "    \n",
    "    #get all possible combinations\n",
    "    cat_var_prod = list(product(cat_vars_x,cat_vars_y, repeat = 1))\n",
    "    \n",
    "    #calculate chi2 for each combination, save chi2 statistic and p-value\n",
    "    result = []\n",
    "    \n",
    "    for i in cat_var_prod:\n",
    "        if i[0] != i[1]: #skipping correlation of variable with itself\n",
    "            contingency_table = pd.crosstab(data[i[0]], data[i[1]]) #creating a frequency count table between the two variables.\n",
    "            stats = list(ss.chi2_contingency(contingency_table))\n",
    "            result.append((i[0],i[1],round(stats[0],3), stats[1]))\n",
    "    \n",
    "    correlation_output = pd.DataFrame(result, columns = ['var1', 'var2', 'chi2', 'p-value'])\n",
    "    for_plot = correlation_output.pivot(index= 'var1', columns= 'var2', values= 'p-value')\n",
    "    return correlation_output, for_plot"
   ]
  },
  {
   "cell_type": "code",
   "execution_count": 38,
   "metadata": {},
   "outputs": [],
   "source": [
    "cat_var1 =['city', 'devicetypeclass', 'contentid', 'cluster']\n",
    "correlation_output, for_plot = Chi_2_corr(cat_var1, data)"
   ]
  },
  {
   "cell_type": "code",
   "execution_count": 39,
   "metadata": {},
   "outputs": [
    {
     "data": {
      "text/html": [
       "<div>\n",
       "<style scoped>\n",
       "    .dataframe tbody tr th:only-of-type {\n",
       "        vertical-align: middle;\n",
       "    }\n",
       "\n",
       "    .dataframe tbody tr th {\n",
       "        vertical-align: top;\n",
       "    }\n",
       "\n",
       "    .dataframe thead th {\n",
       "        text-align: right;\n",
       "    }\n",
       "</style>\n",
       "<table border=\"1\" class=\"dataframe\">\n",
       "  <thead>\n",
       "    <tr style=\"text-align: right;\">\n",
       "      <th></th>\n",
       "      <th>var1</th>\n",
       "      <th>var2</th>\n",
       "      <th>chi2</th>\n",
       "      <th>p-value</th>\n",
       "    </tr>\n",
       "  </thead>\n",
       "  <tbody>\n",
       "    <tr>\n",
       "      <th>0</th>\n",
       "      <td>city</td>\n",
       "      <td>devicetypeclass</td>\n",
       "      <td>3556.547</td>\n",
       "      <td>0.000000e+00</td>\n",
       "    </tr>\n",
       "    <tr>\n",
       "      <th>1</th>\n",
       "      <td>city</td>\n",
       "      <td>contentid</td>\n",
       "      <td>3887.808</td>\n",
       "      <td>0.000000e+00</td>\n",
       "    </tr>\n",
       "    <tr>\n",
       "      <th>2</th>\n",
       "      <td>city</td>\n",
       "      <td>cluster</td>\n",
       "      <td>2236.376</td>\n",
       "      <td>3.099602e-236</td>\n",
       "    </tr>\n",
       "    <tr>\n",
       "      <th>3</th>\n",
       "      <td>devicetypeclass</td>\n",
       "      <td>city</td>\n",
       "      <td>3556.547</td>\n",
       "      <td>0.000000e+00</td>\n",
       "    </tr>\n",
       "    <tr>\n",
       "      <th>4</th>\n",
       "      <td>devicetypeclass</td>\n",
       "      <td>contentid</td>\n",
       "      <td>584.372</td>\n",
       "      <td>3.735378e-125</td>\n",
       "    </tr>\n",
       "    <tr>\n",
       "      <th>5</th>\n",
       "      <td>devicetypeclass</td>\n",
       "      <td>cluster</td>\n",
       "      <td>185.077</td>\n",
       "      <td>6.470884e-41</td>\n",
       "    </tr>\n",
       "    <tr>\n",
       "      <th>6</th>\n",
       "      <td>contentid</td>\n",
       "      <td>city</td>\n",
       "      <td>3887.808</td>\n",
       "      <td>0.000000e+00</td>\n",
       "    </tr>\n",
       "    <tr>\n",
       "      <th>7</th>\n",
       "      <td>contentid</td>\n",
       "      <td>devicetypeclass</td>\n",
       "      <td>584.372</td>\n",
       "      <td>3.735378e-125</td>\n",
       "    </tr>\n",
       "    <tr>\n",
       "      <th>8</th>\n",
       "      <td>contentid</td>\n",
       "      <td>cluster</td>\n",
       "      <td>92782.000</td>\n",
       "      <td>0.000000e+00</td>\n",
       "    </tr>\n",
       "    <tr>\n",
       "      <th>9</th>\n",
       "      <td>cluster</td>\n",
       "      <td>city</td>\n",
       "      <td>2236.376</td>\n",
       "      <td>3.099602e-236</td>\n",
       "    </tr>\n",
       "    <tr>\n",
       "      <th>10</th>\n",
       "      <td>cluster</td>\n",
       "      <td>devicetypeclass</td>\n",
       "      <td>185.077</td>\n",
       "      <td>6.470884e-41</td>\n",
       "    </tr>\n",
       "    <tr>\n",
       "      <th>11</th>\n",
       "      <td>cluster</td>\n",
       "      <td>contentid</td>\n",
       "      <td>92782.000</td>\n",
       "      <td>0.000000e+00</td>\n",
       "    </tr>\n",
       "  </tbody>\n",
       "</table>\n",
       "</div>"
      ],
      "text/plain": [
       "               var1             var2       chi2        p-value\n",
       "0              city  devicetypeclass   3556.547   0.000000e+00\n",
       "1              city        contentid   3887.808   0.000000e+00\n",
       "2              city          cluster   2236.376  3.099602e-236\n",
       "3   devicetypeclass             city   3556.547   0.000000e+00\n",
       "4   devicetypeclass        contentid    584.372  3.735378e-125\n",
       "5   devicetypeclass          cluster    185.077   6.470884e-41\n",
       "6         contentid             city   3887.808   0.000000e+00\n",
       "7         contentid  devicetypeclass    584.372  3.735378e-125\n",
       "8         contentid          cluster  92782.000   0.000000e+00\n",
       "9           cluster             city   2236.376  3.099602e-236\n",
       "10          cluster  devicetypeclass    185.077   6.470884e-41\n",
       "11          cluster        contentid  92782.000   0.000000e+00"
      ]
     },
     "execution_count": 39,
     "metadata": {},
     "output_type": "execute_result"
    }
   ],
   "source": [
    "correlation_output"
   ]
  },
  {
   "cell_type": "code",
   "execution_count": 40,
   "metadata": {},
   "outputs": [
    {
     "data": {
      "text/html": [
       "<div>\n",
       "<style scoped>\n",
       "    .dataframe tbody tr th:only-of-type {\n",
       "        vertical-align: middle;\n",
       "    }\n",
       "\n",
       "    .dataframe tbody tr th {\n",
       "        vertical-align: top;\n",
       "    }\n",
       "\n",
       "    .dataframe thead th {\n",
       "        text-align: right;\n",
       "    }\n",
       "</style>\n",
       "<table border=\"1\" class=\"dataframe\">\n",
       "  <thead>\n",
       "    <tr style=\"text-align: right;\">\n",
       "      <th>var2</th>\n",
       "      <th>city</th>\n",
       "      <th>cluster</th>\n",
       "      <th>contentid</th>\n",
       "      <th>devicetypeclass</th>\n",
       "    </tr>\n",
       "    <tr>\n",
       "      <th>var1</th>\n",
       "      <th></th>\n",
       "      <th></th>\n",
       "      <th></th>\n",
       "      <th></th>\n",
       "    </tr>\n",
       "  </thead>\n",
       "  <tbody>\n",
       "    <tr>\n",
       "      <th>city</th>\n",
       "      <td>NaN</td>\n",
       "      <td>3.099602e-236</td>\n",
       "      <td>0.000000e+00</td>\n",
       "      <td>0.000000e+00</td>\n",
       "    </tr>\n",
       "    <tr>\n",
       "      <th>cluster</th>\n",
       "      <td>3.099602e-236</td>\n",
       "      <td>NaN</td>\n",
       "      <td>0.000000e+00</td>\n",
       "      <td>6.470884e-41</td>\n",
       "    </tr>\n",
       "    <tr>\n",
       "      <th>contentid</th>\n",
       "      <td>0.000000e+00</td>\n",
       "      <td>0.000000e+00</td>\n",
       "      <td>NaN</td>\n",
       "      <td>3.735378e-125</td>\n",
       "    </tr>\n",
       "    <tr>\n",
       "      <th>devicetypeclass</th>\n",
       "      <td>0.000000e+00</td>\n",
       "      <td>6.470884e-41</td>\n",
       "      <td>3.735378e-125</td>\n",
       "      <td>NaN</td>\n",
       "    </tr>\n",
       "  </tbody>\n",
       "</table>\n",
       "</div>"
      ],
      "text/plain": [
       "var2                      city        cluster      contentid  devicetypeclass\n",
       "var1                                                                         \n",
       "city                       NaN  3.099602e-236   0.000000e+00     0.000000e+00\n",
       "cluster          3.099602e-236            NaN   0.000000e+00     6.470884e-41\n",
       "contentid         0.000000e+00   0.000000e+00            NaN    3.735378e-125\n",
       "devicetypeclass   0.000000e+00   6.470884e-41  3.735378e-125              NaN"
      ]
     },
     "execution_count": 40,
     "metadata": {},
     "output_type": "execute_result"
    }
   ],
   "source": [
    "for_plot"
   ]
  },
  {
   "cell_type": "code",
   "execution_count": 41,
   "metadata": {},
   "outputs": [
    {
     "data": {
      "image/png": "[encoded data removed]",
      "text/plain": [
       "<Figure size 576x432 with 2 Axes>"
      ]
     },
     "metadata": {},
     "output_type": "display_data"
    }
   ],
   "source": [
    "# plotting the results as a heatmap (p-values)\n",
    "ax = sns.heatmap(for_plot)"
   ]
  },
  {
   "cell_type": "markdown",
   "metadata": {},
   "source": [
    "At a significance level of 0.05, we can conclude that the association between all the selected variables is statistically significant. Thus, we can reject the null hypothesis."
   ]
  },
  {
   "cell_type": "markdown",
   "metadata": {},
   "source": [
    "### 10. Insights summary"
   ]
  },
  {
   "cell_type": "markdown",
   "metadata": {},
   "source": [
    "From the data we found that a user can be exposed to 2 different campaigns with the same message (contentid) at the same exact time. The unique key identifier is compound and is shaped from the fields 'pnr', 'timestamp', 'domain' and 'mediaid'. Running several camapaigns apparently does not always guarantee high exposure. There are extreme cases where users are exposed 69 times to the sames ads in a day. Additional features like exposure duration, sales during and after campaign in case of the supermarket and number of new clients or requests in case of the financial service would serve in determining the effect from these campaigns. One can dive deeper into the geospatial features (region, city, country) to adjust the geographic targeting of clients. "
   ]
  },
  {
   "cell_type": "code",
   "execution_count": null,
   "metadata": {},
   "outputs": [],
   "source": []
  }
 ],
 "metadata": {
  "kernelspec": {
   "display_name": "Python 3",
   "language": "python",
   "name": "python3"
  },
  "language_info": {
   "codemirror_mode": {
    "name": "ipython",
    "version": 3
   },
   "file_extension": ".py",
   "mimetype": "text/x-python",
   "name": "python",
   "nbconvert_exporter": "python",
   "pygments_lexer": "ipython3",
   "version": "3.8.3"
  }
 },
 "nbformat": 4,
 "nbformat_minor": 4
}
