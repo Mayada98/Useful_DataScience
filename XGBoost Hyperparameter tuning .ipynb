{
 "cells": [
  {
   "cell_type": "markdown",
   "metadata": {},
   "source": [
    "### XGBoost Hyperparameter tuning using sklearn's GridSearchCV."
   ]
  },
  {
   "cell_type": "code",
   "execution_count": 1,
   "metadata": {},
   "outputs": [],
   "source": [
    "import numpy as np\n",
    "import pandas as pd\n",
    "import sklearn.metrics \n",
    "from sklearn.model_selection import RepeatedKFold\n",
    "from sklearn.model_selection import train_test_split\n",
    "from sklearn.model_selection import GridSearchCV\n",
    "from xgboost import XGBRegressor\n",
    "import xgboost as xgb"
   ]
  },
  {
   "cell_type": "code",
   "execution_count": 3,
   "metadata": {},
   "outputs": [],
   "source": [
    "data = pd.read_csv('C:/Users/User/Desktop/Mayada Kh/University/Дипломна/materials/py code/readydata.csv')\n",
    "droplist = ['total_pymnt','total_pymnt_inv','total_rec_late_fee','recoveries', 'collection_recovery_fee','last_pymnt_amnt']\n",
    "data = data.drop(droplist,axis=1)\n",
    "X = data.drop('target', axis =1 )\n",
    "Y = data.target\n",
    "x_train, x_test, y_train, y_test = train_test_split(X,Y,test_size = 0.2,random_state=1)"
   ]
  },
  {
   "cell_type": "code",
   "execution_count": 4,
   "metadata": {},
   "outputs": [
    {
     "data": {
      "text/plain": [
       "XGBRegressor(base_score=None, booster=None, colsample_bylevel=None,\n",
       "             colsample_bynode=None, colsample_bytree=None,\n",
       "             enable_categorical=False, gamma=None, gpu_id=None,\n",
       "             importance_type=None, interaction_constraints=None,\n",
       "             learning_rate=None, max_delta_step=None, max_depth=None,\n",
       "             min_child_weight=None, missing=nan, monotone_constraints=None,\n",
       "             n_estimators=100, n_jobs=None, num_parallel_tree=None,\n",
       "             predictor=None, random_state=None, reg_alpha=None, reg_lambda=None,\n",
       "             scale_pos_weight=None, subsample=None, tree_method=None,\n",
       "             validate_parameters=None, verbosity=None)"
      ]
     },
     "execution_count": 4,
     "metadata": {},
     "output_type": "execute_result"
    }
   ],
   "source": [
    "model = XGBRegressor()\n",
    "model"
   ]
  },
  {
   "cell_type": "markdown",
   "metadata": {},
   "source": [
    "#### Tuning max_depth and min_child_weight"
   ]
  },
  {
   "cell_type": "code",
   "execution_count": 5,
   "metadata": {},
   "outputs": [
    {
     "name": "stdout",
     "output_type": "stream",
     "text": [
      "[12:55:04] WARNING: C:/Users/Administrator/workspace/xgboost-win64_release_1.5.1/src/objective/regression_obj.cu:188: reg:linear is now deprecated in favor of reg:squarederror.\n"
     ]
    },
    {
     "data": {
      "text/plain": [
       "({'mean_fit_time': array([ 3.66703882,  3.25089293,  3.08754988,  5.47200327,  5.51952982,\n",
       "          5.64353428,  8.75744185,  9.12306833,  8.68455896, 12.73080015,\n",
       "         12.14052835, 11.12432356]),\n",
       "  'std_fit_time': array([0.08835962, 0.15768085, 0.05469101, 0.22768322, 0.0541693 ,\n",
       "         0.22336452, 0.35822078, 0.59486806, 0.86026479, 0.67254483,\n",
       "         0.57575599, 0.81527504]),\n",
       "  'mean_score_time': array([0.0345479 , 0.04153738, 0.03534622, 0.02995486, 0.03614526,\n",
       "         0.03335061, 0.03993764, 0.03414688, 0.03614273, 0.03554325,\n",
       "         0.03674264, 0.05631309]),\n",
       "  'std_score_time': array([0.00101772, 0.00981636, 0.00534352, 0.00282416, 0.00203349,\n",
       "         0.00300314, 0.00575285, 0.00270896, 0.00590221, 0.00457952,\n",
       "         0.00278208, 0.04285977]),\n",
       "  'param_max_depth': masked_array(data=[3, 3, 3, 5, 5, 5, 7, 7, 7, 9, 9, 9],\n",
       "               mask=[False, False, False, False, False, False, False, False,\n",
       "                     False, False, False, False],\n",
       "         fill_value='?',\n",
       "              dtype=object),\n",
       "  'param_min_child_weight': masked_array(data=[1, 3, 5, 1, 3, 5, 1, 3, 5, 1, 3, 5],\n",
       "               mask=[False, False, False, False, False, False, False, False,\n",
       "                     False, False, False, False],\n",
       "         fill_value='?',\n",
       "              dtype=object),\n",
       "  'params': [{'max_depth': 3, 'min_child_weight': 1},\n",
       "   {'max_depth': 3, 'min_child_weight': 3},\n",
       "   {'max_depth': 3, 'min_child_weight': 5},\n",
       "   {'max_depth': 5, 'min_child_weight': 1},\n",
       "   {'max_depth': 5, 'min_child_weight': 3},\n",
       "   {'max_depth': 5, 'min_child_weight': 5},\n",
       "   {'max_depth': 7, 'min_child_weight': 1},\n",
       "   {'max_depth': 7, 'min_child_weight': 3},\n",
       "   {'max_depth': 7, 'min_child_weight': 5},\n",
       "   {'max_depth': 9, 'min_child_weight': 1},\n",
       "   {'max_depth': 9, 'min_child_weight': 3},\n",
       "   {'max_depth': 9, 'min_child_weight': 5}],\n",
       "  'split0_test_score': array([0.0512927 , 0.05124129, 0.05072552, 0.04950921, 0.05144421,\n",
       "         0.05061479, 0.04474541, 0.04631232, 0.04301453, 0.03981347,\n",
       "         0.02520101, 0.03824962]),\n",
       "  'split1_test_score': array([0.06918698, 0.06902428, 0.06925185, 0.06934954, 0.06665479,\n",
       "         0.06794774, 0.05927906, 0.06697314, 0.0679997 , 0.04563128,\n",
       "         0.05391954, 0.05988796]),\n",
       "  'split2_test_score': array([0.06995384, 0.06979647, 0.07020898, 0.07245494, 0.07287135,\n",
       "         0.07096425, 0.06132861, 0.06663761, 0.06669335, 0.05256235,\n",
       "         0.05556363, 0.05498105]),\n",
       "  'split3_test_score': array([0.06172842, 0.06213731, 0.06215653, 0.05955712, 0.06156654,\n",
       "         0.06173151, 0.05244425, 0.05571807, 0.05769874, 0.03573816,\n",
       "         0.04282788, 0.04016397]),\n",
       "  'split4_test_score': array([0.05753543, 0.05759797, 0.0575739 , 0.05494779, 0.05307098,\n",
       "         0.05352959, 0.04713912, 0.04514404, 0.0488497 , 0.03413268,\n",
       "         0.03403377, 0.03422194]),\n",
       "  'mean_test_score': array([0.06193947, 0.06195946, 0.06198336, 0.06116372, 0.06112157,\n",
       "         0.06095758, 0.05298729, 0.05615704, 0.05685121, 0.04157559,\n",
       "         0.04230917, 0.04550091]),\n",
       "  'std_test_score': array([0.00706471, 0.00700377, 0.00730348, 0.00862028, 0.00809117,\n",
       "         0.00789612, 0.00650521, 0.0094364 , 0.00977091, 0.00677842,\n",
       "         0.01159243, 0.01005126]),\n",
       "  'rank_test_score': array([ 3,  2,  1,  4,  5,  6,  9,  8,  7, 12, 11, 10])},\n",
       " {'max_depth': 3, 'min_child_weight': 5},\n",
       " 0.061983358888901385)"
      ]
     },
     "execution_count": 5,
     "metadata": {},
     "output_type": "execute_result"
    }
   ],
   "source": [
    "param_test1 = {\n",
    " 'max_depth':range(3,10,2),\n",
    " 'min_child_weight':range(1,6,2)\n",
    "}\n",
    "gsearch1 = GridSearchCV(estimator = XGBRegressor( learning_rate =0.1, n_estimators=42, max_depth=5,\n",
    " min_child_weight=1, gamma=0, subsample=0.8, colsample_bytree=0.8,\n",
    " objective= 'reg:linear', nthread=4, scale_pos_weight=1, seed=27), \n",
    " param_grid = param_test1, scoring='r2',n_jobs=4, cv=5)\n",
    "\n",
    "gsearch1.fit(x_train,y_train)\n",
    "gsearch1.cv_results_, gsearch1.best_params_, gsearch1.best_score_"
   ]
  },
  {
   "cell_type": "code",
   "execution_count": 8,
   "metadata": {},
   "outputs": [
    {
     "name": "stdout",
     "output_type": "stream",
     "text": [
      "[13:09:01] WARNING: C:/Users/Administrator/workspace/xgboost-win64_release_1.5.1/src/objective/regression_obj.cu:188: reg:linear is now deprecated in favor of reg:squarederror.\n"
     ]
    },
    {
     "data": {
      "text/plain": [
       "({'mean_fit_time': array([2.44775448, 3.40025611, 2.72551847, 4.57940602, 3.38468113,\n",
       "         3.63449011, 4.16186147, 4.280474  , 4.25770974]),\n",
       "  'std_fit_time': array([0.47115364, 0.50244143, 0.25660557, 0.68734004, 0.32796803,\n",
       "         0.1872243 , 0.15510868, 0.27504942, 0.59745067]),\n",
       "  'mean_score_time': array([0.03534527, 0.03694348, 0.07149   , 0.03135228, 0.03554683,\n",
       "         0.03754206, 0.03055582, 0.04612999, 0.03075404]),\n",
       "  'std_score_time': array([0.00545455, 0.00595849, 0.0374385 , 0.00232821, 0.00325584,\n",
       "         0.0105977 , 0.00205703, 0.02506418, 0.00330555]),\n",
       "  'param_max_depth': masked_array(data=[2, 2, 2, 3, 3, 3, 4, 4, 4],\n",
       "               mask=[False, False, False, False, False, False, False, False,\n",
       "                     False],\n",
       "         fill_value='?',\n",
       "              dtype=object),\n",
       "  'param_min_child_weight': masked_array(data=[4, 5, 6, 4, 5, 6, 4, 5, 6],\n",
       "               mask=[False, False, False, False, False, False, False, False,\n",
       "                     False],\n",
       "         fill_value='?',\n",
       "              dtype=object),\n",
       "  'params': [{'max_depth': 2, 'min_child_weight': 4},\n",
       "   {'max_depth': 2, 'min_child_weight': 5},\n",
       "   {'max_depth': 2, 'min_child_weight': 6},\n",
       "   {'max_depth': 3, 'min_child_weight': 4},\n",
       "   {'max_depth': 3, 'min_child_weight': 5},\n",
       "   {'max_depth': 3, 'min_child_weight': 6},\n",
       "   {'max_depth': 4, 'min_child_weight': 4},\n",
       "   {'max_depth': 4, 'min_child_weight': 5},\n",
       "   {'max_depth': 4, 'min_child_weight': 6}],\n",
       "  'split0_test_score': array([0.04744039, 0.04744039, 0.04744039, 0.05074423, 0.05072552,\n",
       "         0.05063449, 0.05069608, 0.05163807, 0.051109  ]),\n",
       "  'split1_test_score': array([0.06360901, 0.06360387, 0.06360387, 0.06926027, 0.06925185,\n",
       "         0.06929996, 0.07151449, 0.07114378, 0.07131186]),\n",
       "  'split2_test_score': array([0.06184383, 0.06184383, 0.06184383, 0.06975208, 0.07020898,\n",
       "         0.07021483, 0.07408309, 0.07422491, 0.07293899]),\n",
       "  'split3_test_score': array([0.05796992, 0.05796992, 0.05796992, 0.06216087, 0.06215653,\n",
       "         0.06226891, 0.06161683, 0.06112169, 0.06138251]),\n",
       "  'split4_test_score': array([0.0552089 , 0.0552089 , 0.0552089 , 0.05740771, 0.0575739 ,\n",
       "         0.05770496, 0.05598177, 0.05743379, 0.059045  ]),\n",
       "  'mean_test_score': array([0.05721441, 0.05721338, 0.05721338, 0.06186503, 0.06198336,\n",
       "         0.06202463, 0.06277845, 0.06311245, 0.06315747]),\n",
       "  'std_test_score': array([0.00569994, 0.00569879, 0.00569879, 0.00721835, 0.00730348,\n",
       "         0.00732754, 0.00891786, 0.00843636, 0.00809198]),\n",
       "  'rank_test_score': array([7, 8, 8, 6, 5, 4, 3, 2, 1])},\n",
       " {'max_depth': 4, 'min_child_weight': 6},\n",
       " 0.06315747154881399)"
      ]
     },
     "execution_count": 8,
     "metadata": {},
     "output_type": "execute_result"
    }
   ],
   "source": [
    "# tuning with fixed lists\n",
    "param_test2 = {\n",
    " 'max_depth':[2,3,4],\n",
    " 'min_child_weight': [4,5,6] }\n",
    "gsearch2 = GridSearchCV(estimator = XGBRegressor( learning_rate =0.1, n_estimators=42, max_depth=5,\n",
    " min_child_weight=1, gamma=0, subsample=0.8, colsample_bytree=0.8,\n",
    " objective= 'reg:linear', nthread=4, scale_pos_weight=1, seed=27), \n",
    " param_grid = param_test2, scoring='r2',n_jobs=4, cv=5)\n",
    "\n",
    "gsearch2.fit(x_train,y_train)\n",
    "gsearch2.cv_results_, gsearch2.best_params_, gsearch2.best_score_"
   ]
  },
  {
   "cell_type": "markdown",
   "metadata": {},
   "source": [
    "#### Tuning gamma"
   ]
  },
  {
   "cell_type": "code",
   "execution_count": 9,
   "metadata": {},
   "outputs": [
    {
     "name": "stdout",
     "output_type": "stream",
     "text": [
      "[13:10:25] WARNING: C:/Users/Administrator/workspace/xgboost-win64_release_1.5.1/src/objective/regression_obj.cu:188: reg:linear is now deprecated in favor of reg:squarederror.\n"
     ]
    },
    {
     "data": {
      "text/plain": [
       "({'mean_fit_time': array([4.49114428, 4.25451703, 4.37912169, 4.1912149 , 3.42701516]),\n",
       "  'std_fit_time': array([0.15265541, 0.06599222, 0.11420652, 0.14319583, 0.76723046]),\n",
       "  'mean_score_time': array([0.03614497, 0.03674431, 0.03594489, 0.03714375, 0.02975388]),\n",
       "  'std_score_time': array([0.00698478, 0.00750882, 0.00550559, 0.00353744, 0.00381023]),\n",
       "  'param_gamma': masked_array(data=[0.0, 0.1, 0.2, 0.3, 0.4],\n",
       "               mask=[False, False, False, False, False],\n",
       "         fill_value='?',\n",
       "              dtype=object),\n",
       "  'params': [{'gamma': 0.0},\n",
       "   {'gamma': 0.1},\n",
       "   {'gamma': 0.2},\n",
       "   {'gamma': 0.3},\n",
       "   {'gamma': 0.4}],\n",
       "  'split0_test_score': array([0.05163807, 0.05166072, 0.05137318, 0.05137049, 0.05161482]),\n",
       "  'split1_test_score': array([0.07114378, 0.07114378, 0.0711643 , 0.07199824, 0.07118522]),\n",
       "  'split2_test_score': array([0.07422491, 0.07417422, 0.07417246, 0.07452226, 0.07449525]),\n",
       "  'split3_test_score': array([0.06112169, 0.06117883, 0.06117756, 0.06122749, 0.06131906]),\n",
       "  'split4_test_score': array([0.05743379, 0.05737339, 0.05742348, 0.05860882, 0.05880758]),\n",
       "  'mean_test_score': array([0.06311245, 0.06310619, 0.0630622 , 0.06354546, 0.06348439]),\n",
       "  'std_test_score': array([0.00843636, 0.00842238, 0.00849779, 0.00860131, 0.00834254]),\n",
       "  'rank_test_score': array([3, 4, 5, 1, 2])},\n",
       " {'gamma': 0.3},\n",
       " 0.06354545920049533)"
      ]
     },
     "execution_count": 9,
     "metadata": {},
     "output_type": "execute_result"
    }
   ],
   "source": [
    "param_test3 = {\n",
    " 'gamma':[i/10.0 for i in range(0,5)]\n",
    "}\n",
    "gsearch3 = GridSearchCV(estimator = XGBRegressor( learning_rate =0.1, n_estimators=42, max_depth=4,\n",
    " min_child_weight=5, gamma=0, subsample=0.8, colsample_bytree=0.8,\n",
    " objective= 'reg:linear', nthread=4, scale_pos_weight=1, seed=27), \n",
    " param_grid = param_test3, scoring='r2',n_jobs=4, cv=5)\n",
    "\n",
    "gsearch3.fit(x_train,y_train)\n",
    "gsearch3.cv_results_, gsearch3.best_params_, gsearch3.best_score_"
   ]
  },
  {
   "cell_type": "markdown",
   "metadata": {},
   "source": [
    "#### Tuning subsample and colsample_bytree"
   ]
  },
  {
   "cell_type": "code",
   "execution_count": 11,
   "metadata": {},
   "outputs": [
    {
     "name": "stdout",
     "output_type": "stream",
     "text": [
      "[13:12:27] WARNING: C:/Users/Administrator/workspace/xgboost-win64_release_1.5.1/src/objective/regression_obj.cu:188: reg:linear is now deprecated in favor of reg:squarederror.\n"
     ]
    },
    {
     "data": {
      "text/plain": [
       "({'mean_fit_time': array([1.8447    , 1.9419487 , 1.91898432, 1.89981265, 2.29659004,\n",
       "         3.13986764, 2.63366137, 2.93742023, 2.2402802 , 2.51205292,\n",
       "         2.94017792, 2.43217893, 2.44336128, 2.86290331, 2.77164507,\n",
       "         2.33293262]),\n",
       "  'std_fit_time': array([0.02069771, 0.08444026, 0.04758266, 0.04484923, 0.53349865,\n",
       "         0.17350562, 0.20904738, 0.2719504 , 0.03699858, 0.26522136,\n",
       "         0.10054839, 0.25202097, 0.14446934, 0.20835834, 0.20281915,\n",
       "         0.15242621]),\n",
       "  'mean_score_time': array([0.04952393, 0.03734388, 0.03754287, 0.03734164, 0.05271873,\n",
       "         0.08147173, 0.05930848, 0.04153838, 0.03194885, 0.05032487,\n",
       "         0.0445292 , 0.03894076, 0.05930748, 0.04413404, 0.03035512,\n",
       "         0.02955494]),\n",
       "  'std_score_time': array([0.01886556, 0.01231769, 0.00349234, 0.00534275, 0.02199755,\n",
       "         0.03373975, 0.01313247, 0.00699172, 0.00468067, 0.01366778,\n",
       "         0.00839124, 0.01424492, 0.03454283, 0.01785473, 0.00162246,\n",
       "         0.00286741]),\n",
       "  'param_colsample_bytree': masked_array(data=[0.6, 0.6, 0.6, 0.6, 0.7, 0.7, 0.7, 0.7, 0.8, 0.8, 0.8,\n",
       "                     0.8, 0.9, 0.9, 0.9, 0.9],\n",
       "               mask=[False, False, False, False, False, False, False, False,\n",
       "                     False, False, False, False, False, False, False, False],\n",
       "         fill_value='?',\n",
       "              dtype=object),\n",
       "  'param_subsample': masked_array(data=[0.6, 0.7, 0.8, 0.9, 0.6, 0.7, 0.8, 0.9, 0.6, 0.7, 0.8,\n",
       "                     0.9, 0.6, 0.7, 0.8, 0.9],\n",
       "               mask=[False, False, False, False, False, False, False, False,\n",
       "                     False, False, False, False, False, False, False, False],\n",
       "         fill_value='?',\n",
       "              dtype=object),\n",
       "  'params': [{'colsample_bytree': 0.6, 'subsample': 0.6},\n",
       "   {'colsample_bytree': 0.6, 'subsample': 0.7},\n",
       "   {'colsample_bytree': 0.6, 'subsample': 0.8},\n",
       "   {'colsample_bytree': 0.6, 'subsample': 0.9},\n",
       "   {'colsample_bytree': 0.7, 'subsample': 0.6},\n",
       "   {'colsample_bytree': 0.7, 'subsample': 0.7},\n",
       "   {'colsample_bytree': 0.7, 'subsample': 0.8},\n",
       "   {'colsample_bytree': 0.7, 'subsample': 0.9},\n",
       "   {'colsample_bytree': 0.8, 'subsample': 0.6},\n",
       "   {'colsample_bytree': 0.8, 'subsample': 0.7},\n",
       "   {'colsample_bytree': 0.8, 'subsample': 0.8},\n",
       "   {'colsample_bytree': 0.8, 'subsample': 0.9},\n",
       "   {'colsample_bytree': 0.9, 'subsample': 0.6},\n",
       "   {'colsample_bytree': 0.9, 'subsample': 0.7},\n",
       "   {'colsample_bytree': 0.9, 'subsample': 0.8},\n",
       "   {'colsample_bytree': 0.9, 'subsample': 0.9}],\n",
       "  'split0_test_score': array([0.04859626, 0.04810551, 0.04795188, 0.0479295 , 0.04876227,\n",
       "         0.04690637, 0.04842452, 0.04790193, 0.04859219, 0.04873705,\n",
       "         0.04744039, 0.0481143 , 0.04784501, 0.04792913, 0.04858344,\n",
       "         0.04853499]),\n",
       "  'split1_test_score': array([0.06625919, 0.06378119, 0.06490815, 0.06492237, 0.06477845,\n",
       "         0.06450422, 0.06412249, 0.06417508, 0.06574845, 0.06517834,\n",
       "         0.06360387, 0.06419756, 0.06687507, 0.06488134, 0.06414837,\n",
       "         0.06467312]),\n",
       "  'split2_test_score': array([0.06138016, 0.06191389, 0.06265549, 0.06189894, 0.06246691,\n",
       "         0.06195331, 0.06099607, 0.06100957, 0.06233767, 0.06222915,\n",
       "         0.06184383, 0.06174761, 0.06276212, 0.06238451, 0.06252336,\n",
       "         0.06240452]),\n",
       "  'split3_test_score': array([0.05729982, 0.05676384, 0.05725347, 0.05657623, 0.0583554 ,\n",
       "         0.05803812, 0.05702871, 0.05714462, 0.0580412 , 0.05786497,\n",
       "         0.05796992, 0.05747784, 0.05849498, 0.05799845, 0.05711621,\n",
       "         0.05777477]),\n",
       "  'split4_test_score': array([0.05611235, 0.05513376, 0.05510419, 0.05458632, 0.05650037,\n",
       "         0.05474502, 0.05533042, 0.05360038, 0.05552868, 0.05435841,\n",
       "         0.0552089 , 0.05392521, 0.05508496, 0.05424384, 0.05494756,\n",
       "         0.05414672]),\n",
       "  'mean_test_score': array([0.05792956, 0.05713964, 0.05757463, 0.05718267, 0.05817268,\n",
       "         0.05722941, 0.05718044, 0.05676632, 0.05804964, 0.05767359,\n",
       "         0.05721338, 0.0570925 , 0.05821243, 0.05748745, 0.05746379,\n",
       "         0.05750682]),\n",
       "  'std_test_score': array([0.00586683, 0.00552601, 0.00597326, 0.00591399, 0.00554008,\n",
       "         0.00614214, 0.00534533, 0.00568574, 0.00588995, 0.00579592,\n",
       "         0.00569879, 0.00570859, 0.00652818, 0.00601322, 0.00557845,\n",
       "         0.00578272]),\n",
       "  'rank_test_score': array([ 4, 14,  6, 12,  2, 10, 13, 16,  3,  5, 11, 15,  1,  8,  9,  7])},\n",
       " {'colsample_bytree': 0.9, 'subsample': 0.6},\n",
       " 0.05821242695072328)"
      ]
     },
     "execution_count": 11,
     "metadata": {},
     "output_type": "execute_result"
    }
   ],
   "source": [
    "param_test4 = {\n",
    " 'subsample':[i/10.0 for i in range(6,10)],\n",
    " 'colsample_bytree':[i/10.0 for i in range(6,10)]\n",
    "}\n",
    "\n",
    "gsearch4 = GridSearchCV(estimator = XGBRegressor( learning_rate =0.1, n_estimators=42, max_depth=2,\n",
    " min_child_weight=5, gamma=0.2, subsample=0.8, colsample_bytree=0.8,\n",
    " objective= 'reg:linear', nthread=4, scale_pos_weight=1, seed=27), \n",
    " param_grid = param_test4, scoring='r2',n_jobs=4, cv=5)\n",
    "\n",
    "gsearch4.fit(x_train,y_train)\n",
    "gsearch4.cv_results_, gsearch4.best_params_, gsearch4.best_score_\n"
   ]
  },
  {
   "cell_type": "markdown",
   "metadata": {},
   "source": [
    "#### Tuning Regularization Parameters"
   ]
  },
  {
   "cell_type": "code",
   "execution_count": 12,
   "metadata": {},
   "outputs": [
    {
     "name": "stdout",
     "output_type": "stream",
     "text": [
      "[13:12:45] WARNING: C:/Users/Administrator/workspace/xgboost-win64_release_1.5.1/src/objective/regression_obj.cu:188: reg:linear is now deprecated in favor of reg:squarederror.\n"
     ]
    },
    {
     "data": {
      "text/plain": [
       "({'mean_fit_time': array([2.04378824, 2.08133149, 2.50913615, 2.85447664, 2.21372089]),\n",
       "  'std_fit_time': array([0.03224362, 0.10157883, 0.26707109, 0.10997136, 0.58649177]),\n",
       "  'mean_score_time': array([0.04253607, 0.04173765, 0.04153805, 0.04452896, 0.02695956]),\n",
       "  'std_score_time': array([0.0187286 , 0.01106916, 0.00366312, 0.01121873, 0.00227841]),\n",
       "  'param_reg_lambda': masked_array(data=[1e-05, 0.01, 0.1, 1, 100],\n",
       "               mask=[False, False, False, False, False],\n",
       "         fill_value='?',\n",
       "              dtype=object),\n",
       "  'params': [{'reg_lambda': 1e-05},\n",
       "   {'reg_lambda': 0.01},\n",
       "   {'reg_lambda': 0.1},\n",
       "   {'reg_lambda': 1},\n",
       "   {'reg_lambda': 100}],\n",
       "  'split0_test_score': array([0.0468742 , 0.04687428, 0.04687483, 0.04744039, 0.04784036]),\n",
       "  'split1_test_score': array([0.06334441, 0.06334456, 0.06357285, 0.06360387, 0.06466804]),\n",
       "  'split2_test_score': array([0.06195353, 0.06195301, 0.06104648, 0.06184383, 0.061045  ]),\n",
       "  'split3_test_score': array([0.05806282, 0.05806265, 0.05811062, 0.05796992, 0.05790216]),\n",
       "  'split4_test_score': array([0.05533828, 0.055338  , 0.05533538, 0.0552089 , 0.05430218]),\n",
       "  'mean_test_score': array([0.05711465, 0.0571145 , 0.05698803, 0.05721338, 0.05715155]),\n",
       "  'std_test_score': array([0.00585057, 0.0058505 , 0.00576367, 0.00569879, 0.00577992]),\n",
       "  'rank_test_score': array([3, 4, 5, 1, 2])},\n",
       " {'reg_lambda': 1},\n",
       " 0.05721338034604617)"
      ]
     },
     "execution_count": 12,
     "metadata": {},
     "output_type": "execute_result"
    }
   ],
   "source": [
    "param_test5 = {\n",
    " 'reg_lambda':[1e-5, 1e-2, 0.1, 1, 100]\n",
    "}\n",
    "\n",
    "gsearch5 = GridSearchCV(estimator = XGBRegressor( learning_rate =0.1, n_estimators=42, max_depth=2,\n",
    " min_child_weight=5, gamma=0.2, subsample=0.8, colsample_bytree=0.8,\n",
    " objective= 'reg:linear', nthread=4, scale_pos_weight=1, seed=27), \n",
    " param_grid = param_test5, scoring='r2',n_jobs=4, cv=5)\n",
    "\n",
    "gsearch5.fit(x_train,y_train)\n",
    "gsearch5.cv_results_, gsearch5.best_params_, gsearch5.best_score_"
   ]
  }
 ],
 "metadata": {
  "kernelspec": {
   "display_name": "Python 3 (ipykernel)",
   "language": "python",
   "name": "python3"
  },
  "language_info": {
   "codemirror_mode": {
    "name": "ipython",
    "version": 3
   },
   "file_extension": ".py",
   "mimetype": "text/x-python",
   "name": "python",
   "nbconvert_exporter": "python",
   "pygments_lexer": "ipython3",
   "version": "3.9.7"
  }
 },
 "nbformat": 4,
 "nbformat_minor": 4
}
