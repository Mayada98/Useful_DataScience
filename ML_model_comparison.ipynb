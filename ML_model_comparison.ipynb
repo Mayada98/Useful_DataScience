{
 "cells": [
  {
   "cell_type": "markdown",
   "metadata": {},
   "source": [
    "### Model comparison project\n",
    "This project compares the performance of ML models on credit risk assesment. The data is prepared for modeling. The EDA will be found in a separate notebook."
   ]
  },
  {
   "cell_type": "code",
   "execution_count": 18,
   "metadata": {},
   "outputs": [],
   "source": [
    "import numpy as np\n",
    "import pandas as pd\n",
    "import sklearn\n",
    "import seaborn as sns\n",
    "import matplotlib.pyplot as plt"
   ]
  },
  {
   "cell_type": "code",
   "execution_count": 19,
   "metadata": {},
   "outputs": [
    {
     "data": {
      "text/html": [
       "<div>\n",
       "<style scoped>\n",
       "    .dataframe tbody tr th:only-of-type {\n",
       "        vertical-align: middle;\n",
       "    }\n",
       "\n",
       "    .dataframe tbody tr th {\n",
       "        vertical-align: top;\n",
       "    }\n",
       "\n",
       "    .dataframe thead th {\n",
       "        text-align: right;\n",
       "    }\n",
       "</style>\n",
       "<table border=\"1\" class=\"dataframe\">\n",
       "  <thead>\n",
       "    <tr style=\"text-align: right;\">\n",
       "      <th></th>\n",
       "      <th>loan_amnt</th>\n",
       "      <th>funded_amnt</th>\n",
       "      <th>funded_amnt_inv</th>\n",
       "      <th>int_rate</th>\n",
       "      <th>annual_inc</th>\n",
       "      <th>dti</th>\n",
       "      <th>inq_last_6mths</th>\n",
       "      <th>pub_rec</th>\n",
       "      <th>revol_util</th>\n",
       "      <th>total_acc</th>\n",
       "      <th>total_pymnt</th>\n",
       "      <th>total_pymnt_inv</th>\n",
       "      <th>total_rec_late_fee</th>\n",
       "      <th>recoveries</th>\n",
       "      <th>collection_recovery_fee</th>\n",
       "      <th>last_pymnt_amnt</th>\n",
       "      <th>fico_average</th>\n",
       "      <th>term</th>\n",
       "      <th>grade</th>\n",
       "      <th>target</th>\n",
       "    </tr>\n",
       "  </thead>\n",
       "  <tbody>\n",
       "    <tr>\n",
       "      <th>0</th>\n",
       "      <td>5000.0</td>\n",
       "      <td>5000.0</td>\n",
       "      <td>4975.0</td>\n",
       "      <td>10.65</td>\n",
       "      <td>24000.0</td>\n",
       "      <td>27.65</td>\n",
       "      <td>1.0</td>\n",
       "      <td>0.0</td>\n",
       "      <td>83.7</td>\n",
       "      <td>9.0</td>\n",
       "      <td>5863.155187</td>\n",
       "      <td>5833.84</td>\n",
       "      <td>0.00</td>\n",
       "      <td>0.00</td>\n",
       "      <td>0.00</td>\n",
       "      <td>171.62</td>\n",
       "      <td>737.0</td>\n",
       "      <td>0.741507</td>\n",
       "      <td>2</td>\n",
       "      <td>1</td>\n",
       "    </tr>\n",
       "    <tr>\n",
       "      <th>1</th>\n",
       "      <td>2500.0</td>\n",
       "      <td>2500.0</td>\n",
       "      <td>2500.0</td>\n",
       "      <td>15.27</td>\n",
       "      <td>30000.0</td>\n",
       "      <td>1.00</td>\n",
       "      <td>5.0</td>\n",
       "      <td>0.0</td>\n",
       "      <td>9.4</td>\n",
       "      <td>4.0</td>\n",
       "      <td>1008.710000</td>\n",
       "      <td>1008.71</td>\n",
       "      <td>0.00</td>\n",
       "      <td>117.08</td>\n",
       "      <td>1.11</td>\n",
       "      <td>119.66</td>\n",
       "      <td>742.0</td>\n",
       "      <td>0.258493</td>\n",
       "      <td>3</td>\n",
       "      <td>0</td>\n",
       "    </tr>\n",
       "    <tr>\n",
       "      <th>2</th>\n",
       "      <td>2400.0</td>\n",
       "      <td>2400.0</td>\n",
       "      <td>2400.0</td>\n",
       "      <td>15.96</td>\n",
       "      <td>12252.0</td>\n",
       "      <td>8.72</td>\n",
       "      <td>2.0</td>\n",
       "      <td>0.0</td>\n",
       "      <td>98.5</td>\n",
       "      <td>10.0</td>\n",
       "      <td>3005.666844</td>\n",
       "      <td>3005.67</td>\n",
       "      <td>0.00</td>\n",
       "      <td>0.00</td>\n",
       "      <td>0.00</td>\n",
       "      <td>649.91</td>\n",
       "      <td>737.0</td>\n",
       "      <td>0.741507</td>\n",
       "      <td>3</td>\n",
       "      <td>1</td>\n",
       "    </tr>\n",
       "    <tr>\n",
       "      <th>3</th>\n",
       "      <td>10000.0</td>\n",
       "      <td>10000.0</td>\n",
       "      <td>10000.0</td>\n",
       "      <td>13.49</td>\n",
       "      <td>49200.0</td>\n",
       "      <td>20.00</td>\n",
       "      <td>1.0</td>\n",
       "      <td>0.0</td>\n",
       "      <td>21.0</td>\n",
       "      <td>37.0</td>\n",
       "      <td>12231.890000</td>\n",
       "      <td>12231.89</td>\n",
       "      <td>16.97</td>\n",
       "      <td>0.00</td>\n",
       "      <td>0.00</td>\n",
       "      <td>357.48</td>\n",
       "      <td>692.0</td>\n",
       "      <td>0.741507</td>\n",
       "      <td>3</td>\n",
       "      <td>1</td>\n",
       "    </tr>\n",
       "    <tr>\n",
       "      <th>4</th>\n",
       "      <td>5000.0</td>\n",
       "      <td>5000.0</td>\n",
       "      <td>5000.0</td>\n",
       "      <td>7.90</td>\n",
       "      <td>36000.0</td>\n",
       "      <td>11.20</td>\n",
       "      <td>3.0</td>\n",
       "      <td>0.0</td>\n",
       "      <td>28.3</td>\n",
       "      <td>12.0</td>\n",
       "      <td>5632.210000</td>\n",
       "      <td>5632.21</td>\n",
       "      <td>0.00</td>\n",
       "      <td>0.00</td>\n",
       "      <td>0.00</td>\n",
       "      <td>161.03</td>\n",
       "      <td>732.0</td>\n",
       "      <td>0.741507</td>\n",
       "      <td>1</td>\n",
       "      <td>1</td>\n",
       "    </tr>\n",
       "  </tbody>\n",
       "</table>\n",
       "</div>"
      ],
      "text/plain": [
       "   loan_amnt  funded_amnt  funded_amnt_inv  int_rate  annual_inc    dti  \\\n",
       "0     5000.0       5000.0           4975.0     10.65     24000.0  27.65   \n",
       "1     2500.0       2500.0           2500.0     15.27     30000.0   1.00   \n",
       "2     2400.0       2400.0           2400.0     15.96     12252.0   8.72   \n",
       "3    10000.0      10000.0          10000.0     13.49     49200.0  20.00   \n",
       "4     5000.0       5000.0           5000.0      7.90     36000.0  11.20   \n",
       "\n",
       "   inq_last_6mths  pub_rec  revol_util  total_acc   total_pymnt  \\\n",
       "0             1.0      0.0        83.7        9.0   5863.155187   \n",
       "1             5.0      0.0         9.4        4.0   1008.710000   \n",
       "2             2.0      0.0        98.5       10.0   3005.666844   \n",
       "3             1.0      0.0        21.0       37.0  12231.890000   \n",
       "4             3.0      0.0        28.3       12.0   5632.210000   \n",
       "\n",
       "   total_pymnt_inv  total_rec_late_fee  recoveries  collection_recovery_fee  \\\n",
       "0          5833.84                0.00        0.00                     0.00   \n",
       "1          1008.71                0.00      117.08                     1.11   \n",
       "2          3005.67                0.00        0.00                     0.00   \n",
       "3         12231.89               16.97        0.00                     0.00   \n",
       "4          5632.21                0.00        0.00                     0.00   \n",
       "\n",
       "   last_pymnt_amnt  fico_average      term  grade  target  \n",
       "0           171.62         737.0  0.741507      2       1  \n",
       "1           119.66         742.0  0.258493      3       0  \n",
       "2           649.91         737.0  0.741507      3       1  \n",
       "3           357.48         692.0  0.741507      3       1  \n",
       "4           161.03         732.0  0.741507      1       1  "
      ]
     },
     "execution_count": 19,
     "metadata": {},
     "output_type": "execute_result"
    }
   ],
   "source": [
    "df  = pd.read_csv(\"C:/Users/User/Desktop/Mayada Kh/University/Дипломна/materials/py code/readydata.csv\")\n",
    "df.head()"
   ]
  },
  {
   "cell_type": "code",
   "execution_count": 20,
   "metadata": {},
   "outputs": [
    {
     "data": {
      "text/plain": [
       "(39239, 20)"
      ]
     },
     "execution_count": 20,
     "metadata": {},
     "output_type": "execute_result"
    }
   ],
   "source": [
    "df.shape"
   ]
  },
  {
   "cell_type": "markdown",
   "metadata": {},
   "source": [
    "##### Check for imbalanced classes in the target feature"
   ]
  },
  {
   "cell_type": "code",
   "execution_count": 21,
   "metadata": {},
   "outputs": [
    {
     "data": {
      "image/png": "[encoded data removed]",
      "text/plain": [
       "<Figure size 1008x504 with 2 Axes>"
      ]
     },
     "metadata": {
      "needs_background": "light"
     },
     "output_type": "display_data"
    }
   ],
   "source": [
    "fig, axs = plt.subplots(1,2,figsize=(14,7))\n",
    "sns.countplot(x='target',data=df,ax=axs[0])\n",
    "axs[0].set_title(\"Frequency of each Loan Status\")\n",
    "df.target.value_counts().plot(x=None,y=None, kind='pie', ax=axs[1],autopct='%1.2f%%')\n",
    "axs[1].set_title(\"Percentage of each Loan status\")\n",
    "plt.show()"
   ]
  },
  {
   "cell_type": "code",
   "execution_count": 23,
   "metadata": {},
   "outputs": [
    {
     "data": {
      "text/plain": [
       "{0: 3.470635061029542, 1: 0.5841570892633835}"
      ]
     },
     "execution_count": 23,
     "metadata": {},
     "output_type": "execute_result"
    }
   ],
   "source": [
    "#define class weights to solve for imbalance \n",
    "Y = df.target\n",
    "weights = sklearn.utils.class_weight.compute_class_weight('balanced', np.unique(Y), Y)\n",
    "class_weight = dict(zip([0,1], weights))\n",
    "class_weight"
   ]
  },
  {
   "cell_type": "markdown",
   "metadata": {},
   "source": [
    "#### Apply flooring and capping to deal with outliers "
   ]
  },
  {
   "cell_type": "markdown",
   "metadata": {},
   "source": [
    "To check if there is a significant difference between the data before and after smoothing out outliers we will check the mean value."
   ]
  },
  {
   "cell_type": "code",
   "execution_count": 24,
   "metadata": {},
   "outputs": [],
   "source": [
    "mean_before = df.mean()\n",
    "for col in df.columns:\n",
    "    percentiles = df[col].quantile([0.01,0.99]).values\n",
    "    df[col] = np.clip(df[col], percentiles[0], percentiles[1])"
   ]
  },
  {
   "cell_type": "code",
   "execution_count": 30,
   "metadata": {},
   "outputs": [
    {
     "data": {
      "text/html": [
       "<div>\n",
       "<style scoped>\n",
       "    .dataframe tbody tr th:only-of-type {\n",
       "        vertical-align: middle;\n",
       "    }\n",
       "\n",
       "    .dataframe tbody tr th {\n",
       "        vertical-align: top;\n",
       "    }\n",
       "\n",
       "    .dataframe thead th {\n",
       "        text-align: right;\n",
       "    }\n",
       "</style>\n",
       "<table border=\"1\" class=\"dataframe\">\n",
       "  <thead>\n",
       "    <tr style=\"text-align: right;\">\n",
       "      <th></th>\n",
       "      <th>mean_before_cap_floor</th>\n",
       "      <th>mean_after_cap_floor</th>\n",
       "      <th>diff</th>\n",
       "    </tr>\n",
       "  </thead>\n",
       "  <tbody>\n",
       "    <tr>\n",
       "      <th>loan_amnt</th>\n",
       "      <td>11134.730115</td>\n",
       "      <td>11136.456077</td>\n",
       "      <td>0.015501</td>\n",
       "    </tr>\n",
       "    <tr>\n",
       "      <th>funded_amnt</th>\n",
       "      <td>10863.217080</td>\n",
       "      <td>10864.952598</td>\n",
       "      <td>0.015976</td>\n",
       "    </tr>\n",
       "    <tr>\n",
       "      <th>funded_amnt_inv</th>\n",
       "      <td>10307.088303</td>\n",
       "      <td>10309.202434</td>\n",
       "      <td>0.020511</td>\n",
       "    </tr>\n",
       "    <tr>\n",
       "      <th>int_rate</th>\n",
       "      <td>11.981232</td>\n",
       "      <td>11.971730</td>\n",
       "      <td>0.079314</td>\n",
       "    </tr>\n",
       "    <tr>\n",
       "      <th>annual_inc</th>\n",
       "      <td>68884.323399</td>\n",
       "      <td>67152.720212</td>\n",
       "      <td>2.513784</td>\n",
       "    </tr>\n",
       "    <tr>\n",
       "      <th>dti</th>\n",
       "      <td>13.293984</td>\n",
       "      <td>13.281155</td>\n",
       "      <td>0.096505</td>\n",
       "    </tr>\n",
       "    <tr>\n",
       "      <th>inq_last_6mths</th>\n",
       "      <td>0.870359</td>\n",
       "      <td>0.859349</td>\n",
       "      <td>1.264933</td>\n",
       "    </tr>\n",
       "    <tr>\n",
       "      <th>pub_rec</th>\n",
       "      <td>0.055404</td>\n",
       "      <td>0.053595</td>\n",
       "      <td>3.265869</td>\n",
       "    </tr>\n",
       "    <tr>\n",
       "      <th>revol_util</th>\n",
       "      <td>48.675557</td>\n",
       "      <td>48.667846</td>\n",
       "      <td>0.015843</td>\n",
       "    </tr>\n",
       "    <tr>\n",
       "      <th>total_acc</th>\n",
       "      <td>22.072428</td>\n",
       "      <td>22.027371</td>\n",
       "      <td>0.204133</td>\n",
       "    </tr>\n",
       "    <tr>\n",
       "      <th>total_pymnt</th>\n",
       "      <td>12040.915831</td>\n",
       "      <td>11994.576893</td>\n",
       "      <td>0.384846</td>\n",
       "    </tr>\n",
       "    <tr>\n",
       "      <th>total_pymnt_inv</th>\n",
       "      <td>11448.427009</td>\n",
       "      <td>11402.055200</td>\n",
       "      <td>0.405050</td>\n",
       "    </tr>\n",
       "    <tr>\n",
       "      <th>total_rec_late_fee</th>\n",
       "      <td>1.376608</td>\n",
       "      <td>1.142071</td>\n",
       "      <td>17.037265</td>\n",
       "    </tr>\n",
       "    <tr>\n",
       "      <th>recoveries</th>\n",
       "      <td>97.395175</td>\n",
       "      <td>63.430243</td>\n",
       "      <td>34.873321</td>\n",
       "    </tr>\n",
       "    <tr>\n",
       "      <th>collection_recovery_fee</th>\n",
       "      <td>12.739819</td>\n",
       "      <td>5.491327</td>\n",
       "      <td>56.896352</td>\n",
       "    </tr>\n",
       "    <tr>\n",
       "      <th>last_pymnt_amnt</th>\n",
       "      <td>2709.791926</td>\n",
       "      <td>2668.128705</td>\n",
       "      <td>1.537506</td>\n",
       "    </tr>\n",
       "    <tr>\n",
       "      <th>fico_average</th>\n",
       "      <td>717.000765</td>\n",
       "      <td>716.925075</td>\n",
       "      <td>0.010556</td>\n",
       "    </tr>\n",
       "    <tr>\n",
       "      <th>term</th>\n",
       "      <td>0.616651</td>\n",
       "      <td>0.616651</td>\n",
       "      <td>0.000000</td>\n",
       "    </tr>\n",
       "    <tr>\n",
       "      <th>grade</th>\n",
       "      <td>2.567853</td>\n",
       "      <td>2.559928</td>\n",
       "      <td>0.308654</td>\n",
       "    </tr>\n",
       "    <tr>\n",
       "      <th>target</th>\n",
       "      <td>0.855934</td>\n",
       "      <td>0.855934</td>\n",
       "      <td>0.000000</td>\n",
       "    </tr>\n",
       "  </tbody>\n",
       "</table>\n",
       "</div>"
      ],
      "text/plain": [
       "                         mean_before_cap_floor  mean_after_cap_floor  \\\n",
       "loan_amnt                         11134.730115          11136.456077   \n",
       "funded_amnt                       10863.217080          10864.952598   \n",
       "funded_amnt_inv                   10307.088303          10309.202434   \n",
       "int_rate                             11.981232             11.971730   \n",
       "annual_inc                        68884.323399          67152.720212   \n",
       "dti                                  13.293984             13.281155   \n",
       "inq_last_6mths                        0.870359              0.859349   \n",
       "pub_rec                               0.055404              0.053595   \n",
       "revol_util                           48.675557             48.667846   \n",
       "total_acc                            22.072428             22.027371   \n",
       "total_pymnt                       12040.915831          11994.576893   \n",
       "total_pymnt_inv                   11448.427009          11402.055200   \n",
       "total_rec_late_fee                    1.376608              1.142071   \n",
       "recoveries                           97.395175             63.430243   \n",
       "collection_recovery_fee              12.739819              5.491327   \n",
       "last_pymnt_amnt                    2709.791926           2668.128705   \n",
       "fico_average                        717.000765            716.925075   \n",
       "term                                  0.616651              0.616651   \n",
       "grade                                 2.567853              2.559928   \n",
       "target                                0.855934              0.855934   \n",
       "\n",
       "                              diff  \n",
       "loan_amnt                 0.015501  \n",
       "funded_amnt               0.015976  \n",
       "funded_amnt_inv           0.020511  \n",
       "int_rate                  0.079314  \n",
       "annual_inc                2.513784  \n",
       "dti                       0.096505  \n",
       "inq_last_6mths            1.264933  \n",
       "pub_rec                   3.265869  \n",
       "revol_util                0.015843  \n",
       "total_acc                 0.204133  \n",
       "total_pymnt               0.384846  \n",
       "total_pymnt_inv           0.405050  \n",
       "total_rec_late_fee       17.037265  \n",
       "recoveries               34.873321  \n",
       "collection_recovery_fee  56.896352  \n",
       "last_pymnt_amnt           1.537506  \n",
       "fico_average              0.010556  \n",
       "term                      0.000000  \n",
       "grade                     0.308654  \n",
       "target                    0.000000  "
      ]
     },
     "execution_count": 30,
     "metadata": {},
     "output_type": "execute_result"
    }
   ],
   "source": [
    "means = pd.DataFrame()\n",
    "means['mean_before_cap_floor'] = mean_before\n",
    "means['mean_after_cap_floor'] = df.mean()\n",
    "means['diff'] = (abs(mean_before.values - df.mean().values)/mean_before.values)*100\n",
    "\n",
    "means"
   ]
  },
  {
   "cell_type": "markdown",
   "metadata": {},
   "source": [
    "3 of the parameters have significant difference in the mean. We will build the 2 models using the dataset after applying flooring and capping and see the results "
   ]
  },
  {
   "cell_type": "markdown",
   "metadata": {},
   "source": [
    "#### Splitting the data for training and testing the models"
   ]
  },
  {
   "cell_type": "code",
   "execution_count": 31,
   "metadata": {},
   "outputs": [],
   "source": [
    "from sklearn.model_selection import train_test_split\n",
    "X = df.drop('target', axis =1 )\n",
    "Y = df.target\n",
    "x_train, x_test, y_train, y_test = train_test_split(X,Y,test_size = 0.2,random_state=1)"
   ]
  },
  {
   "cell_type": "markdown",
   "metadata": {},
   "source": [
    "The models will be KNN and RF"
   ]
  },
  {
   "cell_type": "code",
   "execution_count": 32,
   "metadata": {},
   "outputs": [
    {
     "name": "stdout",
     "output_type": "stream",
     "text": [
      "KNN Score for the training phase:  0.9714886432416935\n",
      "K-Nearest Neighbors Score for the testing phase :  0.9649592252803262\n"
     ]
    }
   ],
   "source": [
    "from sklearn.neighbors import KNeighborsClassifier\n",
    "\n",
    "knn = KNeighborsClassifier()\n",
    "knn.fit(x_train,y_train)\n",
    "\n",
    "print('KNN Score for the training phase: ', knn.score(x_train,y_train))\n",
    "\n",
    "print('K-Nearest Neighbors Score for the testing phase : ',knn.score(x_test,y_test))"
   ]
  },
  {
   "cell_type": "code",
   "execution_count": 33,
   "metadata": {},
   "outputs": [
    {
     "name": "stdout",
     "output_type": "stream",
     "text": [
      "Random Forest Score training phase :  1.0\n",
      "Random Forest Score for testing phase:  0.9943934760448522\n"
     ]
    }
   ],
   "source": [
    "from sklearn.ensemble import RandomForestClassifier\n",
    "\n",
    "rf = RandomForestClassifier()\n",
    "\n",
    "rf.fit(x_train,y_train)\n",
    "\n",
    "print('Random Forest Score training phase : ',rf.score(x_train,y_train))\n",
    "\n",
    "print('Random Forest Score for testing phase: ',rf.score(x_test,y_test))"
   ]
  },
  {
   "cell_type": "markdown",
   "metadata": {},
   "source": [
    "Those scores show that some of the features have a strong correlation with the target feature. After checking the correlation done in the previous part of the code we can see that:\n",
    "\n",
    "1. 6 of the features have high correlation with the target and are: total_pymnt, total_pymnt_inv, total_rec_late_fee, recoveries, collection_recovery_fee, last_pymnt_amnt.\n",
    "2. After checking the description of each of the features it turns out that all of them leak information from the future, which explains why our models were overfitting.\n",
    "3. The 3 features with high difference in mean after dealing with outliers are among those 6 features\n",
    "\n",
    "To solve this issue we will drop the feature from the dataset and move on to modeling."
   ]
  },
  {
   "cell_type": "code",
   "execution_count": 34,
   "metadata": {},
   "outputs": [],
   "source": [
    "droplist = ['total_pymnt','total_pymnt_inv','total_rec_late_fee','recoveries', 'collection_recovery_fee','last_pymnt_amnt']\n",
    "df = df.drop(droplist,axis=1)"
   ]
  },
  {
   "cell_type": "markdown",
   "metadata": {},
   "source": [
    "#### Building the models"
   ]
  },
  {
   "cell_type": "code",
   "execution_count": 35,
   "metadata": {},
   "outputs": [],
   "source": [
    "from sklearn.model_selection import train_test_split\n",
    "X = df.drop('target', axis =1 )\n",
    "Y = df.target\n",
    "x_train, x_test, y_train, y_test = train_test_split(X,Y,test_size = 0.2,random_state=1)"
   ]
  },
  {
   "cell_type": "markdown",
   "metadata": {},
   "source": [
    "##### 1. K-Nearest Neighbor"
   ]
  },
  {
   "cell_type": "code",
   "execution_count": 38,
   "metadata": {},
   "outputs": [
    {
     "data": {
      "text/plain": [
       "{'algorithm': 'auto',\n",
       " 'leaf_size': 30,\n",
       " 'metric': 'minkowski',\n",
       " 'metric_params': None,\n",
       " 'n_jobs': None,\n",
       " 'n_neighbors': 5,\n",
       " 'p': 2,\n",
       " 'weights': 'uniform'}"
      ]
     },
     "execution_count": 38,
     "metadata": {},
     "output_type": "execute_result"
    }
   ],
   "source": [
    "from sklearn.neighbors import KNeighborsClassifier\n",
    "# we can check the parameters for the algorithm\n",
    "KNeighborsClassifier().get_params()"
   ]
  },
  {
   "cell_type": "code",
   "execution_count": 39,
   "metadata": {},
   "outputs": [
    {
     "name": "stdout",
     "output_type": "stream",
     "text": [
      "KNN Score for the training phase:  0.8658851263100888\n",
      "K-Nearest Neighbors Score for the testing phase :  0.8321865443425076\n"
     ]
    }
   ],
   "source": [
    "knn = KNeighborsClassifier(n_neighbors = 5)\n",
    "\n",
    "knn.fit(x_train,y_train)\n",
    "\n",
    "print('KNN Score for the training phase: ', knn.score(x_train,y_train))\n",
    "\n",
    "print('K-Nearest Neighbors Score for the testing phase : ',knn.score(x_test,y_test))\n"
   ]
  },
  {
   "cell_type": "markdown",
   "metadata": {},
   "source": [
    "##### 2. Random Forest"
   ]
  },
  {
   "cell_type": "code",
   "execution_count": 41,
   "metadata": {},
   "outputs": [
    {
     "data": {
      "text/plain": [
       "{'bootstrap': True,\n",
       " 'ccp_alpha': 0.0,\n",
       " 'class_weight': None,\n",
       " 'criterion': 'gini',\n",
       " 'max_depth': None,\n",
       " 'max_features': 'auto',\n",
       " 'max_leaf_nodes': None,\n",
       " 'max_samples': None,\n",
       " 'min_impurity_decrease': 0.0,\n",
       " 'min_impurity_split': None,\n",
       " 'min_samples_leaf': 1,\n",
       " 'min_samples_split': 2,\n",
       " 'min_weight_fraction_leaf': 0.0,\n",
       " 'n_estimators': 100,\n",
       " 'n_jobs': None,\n",
       " 'oob_score': False,\n",
       " 'random_state': None,\n",
       " 'verbose': 0,\n",
       " 'warm_start': False}"
      ]
     },
     "execution_count": 41,
     "metadata": {},
     "output_type": "execute_result"
    }
   ],
   "source": [
    "from sklearn.ensemble import RandomForestClassifier\n",
    "\n",
    "RandomForestClassifier().get_params()"
   ]
  },
  {
   "cell_type": "code",
   "execution_count": 42,
   "metadata": {},
   "outputs": [
    {
     "name": "stdout",
     "output_type": "stream",
     "text": [
      "Random Forest Score training phase :  0.9973559300436431\n",
      "Random Forest Score for testing phase:  0.8492609582059123\n"
     ]
    }
   ],
   "source": [
    "rf = RandomForestClassifier(n_estimators = 20, class_weight ='balanced')\n",
    "\n",
    "rf.fit(x_train,y_train)\n",
    "\n",
    "print('Random Forest Score training phase : ',rf.score(x_train,y_train))\n",
    "\n",
    "print('Random Forest Score for testing phase: ',rf.score(x_test,y_test))\n"
   ]
  },
  {
   "cell_type": "markdown",
   "metadata": {},
   "source": [
    "##### 3. Support Vector Machine - SVM"
   ]
  },
  {
   "cell_type": "code",
   "execution_count": 44,
   "metadata": {},
   "outputs": [
    {
     "data": {
      "text/plain": [
       "{'C': 1.0,\n",
       " 'break_ties': False,\n",
       " 'cache_size': 200,\n",
       " 'class_weight': None,\n",
       " 'coef0': 0.0,\n",
       " 'decision_function_shape': 'ovr',\n",
       " 'degree': 3,\n",
       " 'gamma': 'scale',\n",
       " 'kernel': 'rbf',\n",
       " 'max_iter': -1,\n",
       " 'probability': False,\n",
       " 'random_state': None,\n",
       " 'shrinking': True,\n",
       " 'tol': 0.001,\n",
       " 'verbose': False}"
      ]
     },
     "execution_count": 44,
     "metadata": {},
     "output_type": "execute_result"
    }
   ],
   "source": [
    "from sklearn import svm\n",
    "\n",
    "svm.SVC().get_params()"
   ]
  },
  {
   "cell_type": "code",
   "execution_count": 147,
   "metadata": {},
   "outputs": [
    {
     "name": "stdout",
     "output_type": "stream",
     "text": [
      "SVM Score training phase :  0.9786563027619382\n",
      "SVM Score for testing phase:  0.8305300713557594\n"
     ]
    }
   ],
   "source": [
    "clf = svm.SVC(C=0.6,class_weight= 'balanced', gamma = 0.001)\n",
    "\n",
    "clf.fit(x_train, y_train)\n",
    "\n",
    "print('SVM Score training phase : ',clf.score(x_train,y_train))\n",
    "\n",
    "print('SVM Score for testing phase: ',clf.score(x_test,y_test))"
   ]
  },
  {
   "cell_type": "markdown",
   "metadata": {},
   "source": [
    "##### 4. Decision Trees"
   ]
  },
  {
   "cell_type": "code",
   "execution_count": 21,
   "metadata": {},
   "outputs": [
    {
     "name": "stdout",
     "output_type": "stream",
     "text": [
      "DecisionTreeClassifier(ccp_alpha=0.0, class_weight=None, criterion='gini',\n",
      "                       max_depth=None, max_features=None, max_leaf_nodes=None,\n",
      "                       min_impurity_decrease=0.0, min_impurity_split=None,\n",
      "                       min_samples_leaf=1, min_samples_split=2,\n",
      "                       min_weight_fraction_leaf=0.0, presort='deprecated',\n",
      "                       random_state=None, splitter='best')\n"
     ]
    }
   ],
   "source": [
    "from sklearn import tree\n",
    "print(tree.DecisionTreeClassifier())\n",
    "dt = tree.DecisionTreeClassifier(class_weight = 'balanced', max_depth = 30,  min_samples_split= 4)"
   ]
  },
  {
   "cell_type": "code",
   "execution_count": 41,
   "metadata": {},
   "outputs": [
    {
     "name": "stdout",
     "output_type": "stream",
     "text": [
      "Decision Trees training phase :  0.9789748654072823\n",
      "Decision Trees Score for testing phase:  0.7576452599388379\n"
     ]
    }
   ],
   "source": [
    "dt.fit(x_train, y_train)\n",
    "\n",
    "print('Decision Trees training phase : ',dt.score(x_train,y_train))\n",
    "\n",
    "print('Decision Trees Score for testing phase: ',dt.score(x_test,y_test))"
   ]
  },
  {
   "cell_type": "markdown",
   "metadata": {},
   "source": [
    "##### 5. XGBoost"
   ]
  },
  {
   "cell_type": "code",
   "execution_count": 23,
   "metadata": {},
   "outputs": [
    {
     "data": {
      "text/plain": [
       "XGBClassifier(base_score=0.5, booster='gbtree', colsample_bylevel=1,\n",
       "              colsample_bynode=1, colsample_bytree=1, gamma=0,\n",
       "              learning_rate=0.1, max_delta_step=0, max_depth=3,\n",
       "              min_child_weight=1, missing=None, n_estimators=100, n_jobs=1,\n",
       "              nthread=None, objective='binary:logistic', random_state=0,\n",
       "              reg_alpha=0, reg_lambda=1, scale_pos_weight=1, seed=None,\n",
       "              silent=None, subsample=1, verbosity=1)"
      ]
     },
     "execution_count": 23,
     "metadata": {},
     "output_type": "execute_result"
    }
   ],
   "source": [
    "from xgboost import XGBClassifier\n",
    "\n",
    "XGBClassifier()"
   ]
  },
  {
   "cell_type": "code",
   "execution_count": 50,
   "metadata": {},
   "outputs": [
    {
     "name": "stdout",
     "output_type": "stream",
     "text": [
      "XGBoost Score training phase :  0.9035073747252397\n",
      "XGBoost Score for testing phase:  0.8516819571865444\n"
     ]
    }
   ],
   "source": [
    "#model = XGBClassifier(max_depth = 9, scale_pos_weight = 4)\n",
    "model = XGBClassifier(max_depth = 9)\n",
    "\n",
    "model.fit(x_train, y_train)\n",
    "\n",
    "print('XGBoost Score training phase : ', model.score(x_train,y_train))\n",
    "\n",
    "print('XGBoost Score for testing phase: ', model.score(x_test,y_test))"
   ]
  },
  {
   "cell_type": "markdown",
   "metadata": {},
   "source": [
    "##### 6. Neural Network"
   ]
  },
  {
   "cell_type": "code",
   "execution_count": 76,
   "metadata": {},
   "outputs": [],
   "source": [
    "from keras.models import Sequential\n",
    "from keras.layers import Dense"
   ]
  },
  {
   "cell_type": "code",
   "execution_count": 81,
   "metadata": {},
   "outputs": [],
   "source": [
    "model = Sequential()\n",
    "model.add(Dense(13,input_dim = 13, activation = 'relu'))\n",
    "model.add(Dense(4, activation = 'relu'))\n",
    "model.add(Dense(1, activation = 'sigmoid'))"
   ]
  },
  {
   "cell_type": "code",
   "execution_count": 82,
   "metadata": {},
   "outputs": [],
   "source": [
    "model.compile(loss = 'binary_crossentropy',optimizer = 'adam', metrics = ['accuracy'])"
   ]
  },
  {
   "cell_type": "code",
   "execution_count": 83,
   "metadata": {},
   "outputs": [
    {
     "name": "stdout",
     "output_type": "stream",
     "text": [
      "Train on 31391 samples, validate on 7848 samples\n",
      "Epoch 1/30\n",
      "31391/31391 [==============================] - 10s 303us/step - loss: 523.2046 - accuracy: 0.5382 - val_loss: 40.6616 - val_accuracy: 0.3579- loss: 692.7320 - ac - ETA: 1s -\n",
      "Epoch 2/30\n",
      "31391/31391 [==============================] - 6s 198us/step - loss: 44.4307 - accuracy: 0.5434 - val_loss: 80.3002 - val_accuracy: 0.1723\n",
      "Epoch 3/30\n",
      "31391/31391 [==============================] - 7s 216us/step - loss: 35.0990 - accuracy: 0.5235 - val_loss: 7.5335 - val_accuracy: 0.8324curacy: 0.524 - ETA: 2s - loss: 36.1333 - accuracy: 0.52 - ETA: 2s - loss: 35.8088 - accuracy: 0.5 - ETA: 2s - loss: 35.9319 - accuracy: 0.523 - ETA: 2s - loss: \n",
      "Epoch 4/30\n",
      "31391/31391 [==============================] - 7s 233us/step - loss: 34.5961 - accuracy: 0.5159 - val_loss: 7.7721 - val_accuracy: 0.8042accuracy: 0.519 - ETA: 0s - loss: 34.746\n",
      "Epoch 5/30\n",
      "31391/31391 [==============================] - 7s 219us/step - loss: 22.1207 - accuracy: 0.5355 - val_loss: 86.8164 - val_accuracy: 0.1600\n",
      "Epoch 6/30\n",
      "31391/31391 [==============================] - 7s 223us/step - loss: 25.5205 - accuracy: 0.5255 - val_loss: 4.7485 - val_accuracy: 0.8431\n",
      "Epoch 7/30\n",
      "31391/31391 [==============================] - 6s 196us/step - loss: 17.3094 - accuracy: 0.5375 - val_loss: 3.2093 - val_accuracy: 0.6910\n",
      "Epoch 8/30\n",
      "31391/31391 [==============================] - 6s 191us/step - loss: 19.1317 - accuracy: 0.5369 - val_loss: 7.9934 - val_accuracy: 0.7780\n",
      "Epoch 9/30\n",
      "31391/31391 [==============================] - 6s 177us/step - loss: 16.3358 - accuracy: 0.5370 - val_loss: 6.3655 - val_accuracy: 0.6585 - accura - ETA: 2s - loss: 1 - ETA: 1s - loss: 16.9736\n",
      "Epoch 10/30\n",
      "31391/31391 [==============================] - 6s 186us/step - loss: 20.0522 - accuracy: 0.5363 - val_loss: 39.6511 - val_accuracy: 0.1464\n",
      "Epoch 11/30\n",
      "31391/31391 [==============================] - 6s 184us/step - loss: 15.4511 - accuracy: 0.5396 - val_loss: 6.9452 - val_accuracy: 0.3866\n",
      "Epoch 12/30\n",
      "31391/31391 [==============================] - 6s 186us/step - loss: 18.3451 - accuracy: 0.5405 - val_loss: 43.2555 - val_accuracy: 0.1484 3s - loss - ETA: 2s - loss: 17.7360 - acc - ETA: 1s - los\n",
      "Epoch 13/30\n",
      "31391/31391 [==============================] - 6s 189us/step - loss: 19.8353 - accuracy: 0.5383 - val_loss: 11.2123 - val_accuracy: 0.5437-\n",
      "Epoch 14/30\n",
      "31391/31391 [==============================] - 6s 183us/step - loss: 23.2717 - accuracy: 0.5313 - val_loss: 6.1520 - val_accuracy: 0.8513 accuracy: 0.\n",
      "Epoch 15/30\n",
      "31391/31391 [==============================] - 6s 201us/step - loss: 13.7338 - accuracy: 0.5441 - val_loss: 3.5354 - val_accuracy: 0.8416s: 13.3722 - accuracy: 0.547 - ETA: 1s - loss: 13.3498\n",
      "Epoch 16/30\n",
      "31391/31391 [==============================] - 6s 199us/step - loss: 18.6332 - accuracy: 0.5345 - val_loss: 5.4097 - val_accuracy: 0.8145ss: 18.4705 - accuracy: 0.5 - ETA: 0s - loss: 18.6764 - \n",
      "Epoch 17/30\n",
      "31391/31391 [==============================] - 6s 201us/step - loss: 14.9055 - accuracy: 0.5468 - val_loss: 12.7081 - val_accuracy: 0.2719 - loss: 15.1940 - accuracy: 0.5\n",
      "Epoch 18/30\n",
      "31391/31391 [==============================] - 7s 234us/step - loss: 15.7700 - accuracy: 0.5432 - val_loss: 42.4060 - val_accuracy: 0.1470ETA: 0s - loss: 15.8867 - a\n",
      "Epoch 19/30\n",
      "31391/31391 [==============================] - 6s 204us/step - loss: 15.7388 - accuracy: 0.5421 - val_loss: 4.2503 - val_accuracy: 0.8364ss: 12.9531 - a - ETA: 1s - loss: 14.1597 - accuracy: 0. - ETA: 1s - loss: 13.\n",
      "Epoch 20/30\n",
      "31391/31391 [==============================] - 6s 206us/step - loss: 17.0426 - accuracy: 0.5383 - val_loss: 13.1935 - val_accuracy: 0.8540s: 20.4484 - accuracy:  - ETA: 2s - loss: 19.5282 - accuracy: 0.53 - ETA: 2s - loss: 18.8584 - accuracy: 0.53 - ETA: 2s - loss: 18.1959 -  - ETA: 1s - l\n",
      "Epoch 21/30\n",
      "31391/31391 [==============================] - 7s 208us/step - loss: 19.7100 - accuracy: 0.5356 - val_loss: 9.5846 - val_accuracy: 0.8531\n",
      "Epoch 22/30\n",
      "31391/31391 [==============================] - 5s 169us/step - loss: 17.7823 - accuracy: 0.5407 - val_loss: 9.0463 - val_accuracy: 0.4316s - loss: - ETA:\n",
      "Epoch 23/30\n",
      "31391/31391 [==============================] - 6s 177us/step - loss: 13.3327 - accuracy: 0.5397 - val_loss: 7.1114 - val_accuracy: 0.8537 13.4821 - accuracy: \n",
      "Epoch 24/30\n",
      "31391/31391 [==============================] - 6s 183us/step - loss: 15.8997 - accuracy: 0.5485 - val_loss: 5.5076 - val_accuracy: 0.8528ccuracy: 0. - ETA: 1s - loss:  - ETA: 0s - loss: 15.6432 - accuracy: 0.5\n",
      "Epoch 25/30\n",
      "31391/31391 [==============================] - 5s 169us/step - loss: 17.4499 - accuracy: 0.5482 - val_loss: 38.8492 - val_accuracy: 0.1491s - loss: 16.6513 - accuracy: 0. - ETA: 0s - loss: 16.6230 - accurac\n",
      "Epoch 26/30\n",
      "31391/31391 [==============================] - 3s 105us/step - loss: 17.5801 - accuracy: 0.5387 - val_loss: 5.9678 - val_accuracy: 0.8304\n",
      "Epoch 27/30\n",
      "31391/31391 [==============================] - 3s 82us/step - loss: 15.2875 - accuracy: 0.5496 - val_loss: 61.4924 - val_accuracy: 0.1459\n",
      "Epoch 28/30\n",
      "31391/31391 [==============================] - 2s 77us/step - loss: 16.0944 - accuracy: 0.5458 - val_loss: 27.0214 - val_accuracy: 0.1525\n",
      "Epoch 29/30\n",
      "31391/31391 [==============================] - 3s 80us/step - loss: 15.6953 - accuracy: 0.5448 - val_loss: 4.2586 - val_accuracy: 0.8522\n",
      "Epoch 30/30\n",
      "31391/31391 [==============================] - 6s 177us/step - loss: 16.5502 - accuracy: 0.5370 - val_loss: 4.3093 - val_accuracy: 0.8375 - loss: 18.0128 - accurac - ETA: 2s - loss: 17.6167 - accuracy: 0.53 - ETA: 1s - lo\n"
     ]
    },
    {
     "data": {
      "text/plain": [
       "<keras.callbacks.callbacks.History at 0x1c2aeccd188>"
      ]
     },
     "execution_count": 83,
     "metadata": {},
     "output_type": "execute_result"
    }
   ],
   "source": [
    "model.fit(x_train,y_train,validation_data=(x_test,y_test),epochs = 30, batch_size = 80, class_weight=class_weight)"
   ]
  },
  {
   "cell_type": "markdown",
   "metadata": {},
   "source": [
    "#### Final accuracy score "
   ]
  },
  {
   "cell_type": "code",
   "execution_count": 84,
   "metadata": {},
   "outputs": [
    {
     "name": "stdout",
     "output_type": "stream",
     "text": [
      "7848/7848 [==============================] - 2s 226us/step\n",
      "\n",
      "accuracy: 83.75%\n"
     ]
    }
   ],
   "source": [
    "scores = model.evaluate(x_test,y_test)\n",
    "print('\\n%s: %.2f%%'% (model.metrics_names[1], scores[1]*100))"
   ]
  },
  {
   "cell_type": "markdown",
   "metadata": {},
   "source": [
    "#### adding Dropout after the hidden layer"
   ]
  },
  {
   "cell_type": "code",
   "execution_count": 106,
   "metadata": {},
   "outputs": [],
   "source": [
    "from keras.layers import Dropout\n",
    "model = Sequential()\n",
    "model.add(Dense(13,input_dim = 13, activation = 'relu'))\n",
    "model.add(Dense(3, activation = 'relu'))\n",
    "model.add(Dropout(0.5))\n",
    "model.add(Dense(1, activation = 'sigmoid'))"
   ]
  },
  {
   "cell_type": "code",
   "execution_count": 107,
   "metadata": {},
   "outputs": [],
   "source": [
    "model.compile(loss = 'binary_crossentropy',optimizer = 'adam', metrics = ['accuracy'])"
   ]
  },
  {
   "cell_type": "code",
   "execution_count": 108,
   "metadata": {},
   "outputs": [
    {
     "name": "stdout",
     "output_type": "stream",
     "text": [
      "Train on 31391 samples, validate on 7848 samples\n",
      "Epoch 1/10\n",
      "31391/31391 [==============================] - 3s 111us/step - loss: 336.8743 - accuracy: 0.2398 - val_loss: 1.0609 - val_accuracy: 0.1505\n",
      "Epoch 2/10\n",
      "31391/31391 [==============================] - 3s 86us/step - loss: 0.9029 - accuracy: 0.1441 - val_loss: 0.9119 - val_accuracy: 0.1458\n",
      "Epoch 3/10\n",
      "31391/31391 [==============================] - 3s 83us/step - loss: 0.8492 - accuracy: 0.1436 - val_loss: 0.8383 - val_accuracy: 0.1458\n",
      "Epoch 4/10\n",
      "31391/31391 [==============================] - 3s 86us/step - loss: 0.8159 - accuracy: 0.2294 - val_loss: 0.7978 - val_accuracy: 0.1458\n",
      "Epoch 5/10\n",
      "31391/31391 [==============================] - 3s 84us/step - loss: 0.8330 - accuracy: 0.6185 - val_loss: 0.7383 - val_accuracy: 0.1458\n",
      "Epoch 6/10\n",
      "31391/31391 [==============================] - 3s 86us/step - loss: 0.7154 - accuracy: 0.4362 - val_loss: 0.6932 - val_accuracy: 0.8541\n",
      "Epoch 7/10\n",
      "31391/31391 [==============================] - 3s 111us/step - loss: 0.7320 - accuracy: 0.5465 - val_loss: 0.6908 - val_accuracy: 0.8542\n",
      "Epoch 8/10\n",
      "31391/31391 [==============================] - 3s 99us/step - loss: 0.7198 - accuracy: 0.7810 - val_loss: 0.6930 - val_accuracy: 0.8542\n",
      "Epoch 9/10\n",
      "31391/31391 [==============================] - 3s 103us/step - loss: 0.6923 - accuracy: 0.5778 - val_loss: 0.6918 - val_accuracy: 0.8542\n",
      "Epoch 10/10\n",
      "31391/31391 [==============================] - 3s 104us/step - loss: 0.7100 - accuracy: 0.7461 - val_loss: 0.6918 - val_accuracy: 0.8542\n"
     ]
    },
    {
     "data": {
      "text/plain": [
       "<keras.callbacks.callbacks.History at 0x1c2b252a348>"
      ]
     },
     "execution_count": 108,
     "metadata": {},
     "output_type": "execute_result"
    }
   ],
   "source": [
    "model.fit(x_train,y_train, validation_data=(x_test,y_test),epochs = 10, batch_size = 80, class_weight = class_weight)"
   ]
  },
  {
   "cell_type": "markdown",
   "metadata": {},
   "source": [
    "Using accuracy scores is a nice way to check the models performance, however to better check how well the models did predicting the target feature confusion matrix is used."
   ]
  },
  {
   "cell_type": "markdown",
   "metadata": {},
   "source": [
    "### Building confusion matrices for each model"
   ]
  },
  {
   "cell_type": "markdown",
   "metadata": {},
   "source": [
    "##### 1. Confusion Matrix for KNN predictions"
   ]
  },
  {
   "cell_type": "code",
   "execution_count": 45,
   "metadata": {},
   "outputs": [
    {
     "data": {
      "text/plain": [
       "Text(69.0, 0.5, 'Truth')"
      ]
     },
     "execution_count": 45,
     "metadata": {},
     "output_type": "execute_result"
    },
    {
     "data": {
      "image/png": "[encoded data removed]",
      "text/plain": [
       "<Figure size 720x504 with 1 Axes>"
      ]
     },
     "metadata": {
      "needs_background": "light"
     },
     "output_type": "display_data"
    }
   ],
   "source": [
    "y_predicted  = knn.predict(x_test)\n",
    "from sklearn.metrics import confusion_matrix\n",
    "cm = confusion_matrix(y_test , y_predicted)\n",
    "%matplotlib inline\n",
    "import matplotlib.pyplot as plt\n",
    "import seaborn as sn\n",
    "plt.figure(figsize = (10,7))\n",
    "sn.heatmap(cm, annot = True, cbar=False, fmt='g')\n",
    "plt.xlabel('Predicted')\n",
    "plt.ylabel('Truth')"
   ]
  },
  {
   "cell_type": "markdown",
   "metadata": {},
   "source": [
    "##### 2. Confusion Matrix for Random Forest predictions"
   ]
  },
  {
   "cell_type": "code",
   "execution_count": 46,
   "metadata": {},
   "outputs": [
    {
     "data": {
      "text/plain": [
       "Text(69.0, 0.5, 'Truth')"
      ]
     },
     "execution_count": 46,
     "metadata": {},
     "output_type": "execute_result"
    },
    {
     "data": {
      "image/png": "[encoded data removed]",
      "text/plain": [
       "<Figure size 720x504 with 1 Axes>"
      ]
     },
     "metadata": {
      "needs_background": "light"
     },
     "output_type": "display_data"
    }
   ],
   "source": [
    "y_predicted  = rf.predict(x_test)\n",
    "cm = confusion_matrix(y_test , y_predicted)\n",
    "%matplotlib inline\n",
    "import matplotlib.pyplot as plt\n",
    "import seaborn as sn\n",
    "plt.figure(figsize = (10,7))\n",
    "sn.heatmap(cm, annot = True, cbar=False, fmt='g')\n",
    "plt.xlabel('Predicted')\n",
    "plt.ylabel('Truth')"
   ]
  },
  {
   "cell_type": "markdown",
   "metadata": {},
   "source": [
    "##### 3. Confusion Matrix for SVM predictions"
   ]
  },
  {
   "cell_type": "code",
   "execution_count": 148,
   "metadata": {},
   "outputs": [
    {
     "data": {
      "text/plain": [
       "Text(69.0, 0.5, 'Truth')"
      ]
     },
     "execution_count": 148,
     "metadata": {},
     "output_type": "execute_result"
    },
    {
     "data": {
      "image/png": "[encoded data removed]",
      "text/plain": [
       "<Figure size 720x504 with 1 Axes>"
      ]
     },
     "metadata": {
      "needs_background": "light"
     },
     "output_type": "display_data"
    }
   ],
   "source": [
    "y_predicted  = clf.predict(x_test)\n",
    "cm = confusion_matrix(y_test , y_predicted)\n",
    "%matplotlib inline\n",
    "import matplotlib.pyplot as plt\n",
    "import seaborn as sn\n",
    "plt.figure(figsize = (10,7))\n",
    "sn.heatmap(cm, annot = True, cbar=False, fmt='g')\n",
    "plt.xlabel('Predicted')\n",
    "plt.ylabel('Truth')"
   ]
  },
  {
   "cell_type": "markdown",
   "metadata": {},
   "source": [
    "##### 4. Confusion Matrix for Decision Tree predictions"
   ]
  },
  {
   "cell_type": "code",
   "execution_count": 47,
   "metadata": {},
   "outputs": [
    {
     "data": {
      "text/plain": [
       "Text(69.0, 0.5, 'Truth')"
      ]
     },
     "execution_count": 47,
     "metadata": {},
     "output_type": "execute_result"
    },
    {
     "data": {
      "image/png": "[encoded data removed]",
      "text/plain": [
       "<Figure size 720x504 with 1 Axes>"
      ]
     },
     "metadata": {
      "needs_background": "light"
     },
     "output_type": "display_data"
    }
   ],
   "source": [
    "y_predicted  = dt.predict(x_test)\n",
    "cm = confusion_matrix(y_test , y_predicted)\n",
    "%matplotlib inline\n",
    "import matplotlib.pyplot as plt\n",
    "import seaborn as sn\n",
    "plt.figure(figsize = (10,7))\n",
    "sn.heatmap(cm, annot = True, cbar=False, fmt='g')\n",
    "plt.xlabel('Predicted')\n",
    "plt.ylabel('Truth')"
   ]
  },
  {
   "cell_type": "markdown",
   "metadata": {},
   "source": [
    "##### 5. Confusion Matrix for XGBoost predictions"
   ]
  },
  {
   "cell_type": "code",
   "execution_count": 51,
   "metadata": {},
   "outputs": [
    {
     "data": {
      "text/plain": [
       "Text(69.0, 0.5, 'Truth')"
      ]
     },
     "execution_count": 51,
     "metadata": {},
     "output_type": "execute_result"
    },
    {
     "data": {
      "image/png": "[encoded data removed]",
      "text/plain": [
       "<Figure size 720x504 with 1 Axes>"
      ]
     },
     "metadata": {
      "needs_background": "light"
     },
     "output_type": "display_data"
    }
   ],
   "source": [
    "y_predicted  = model.predict(x_test)\n",
    "cm = confusion_matrix(y_test , y_predicted)\n",
    "%matplotlib inline\n",
    "import matplotlib.pyplot as plt\n",
    "import seaborn as sn\n",
    "plt.figure(figsize = (10,7))\n",
    "sn.heatmap(cm, annot = True, cbar=False, fmt='g')\n",
    "plt.xlabel('Predicted')\n",
    "plt.ylabel('Truth')"
   ]
  },
  {
   "cell_type": "markdown",
   "metadata": {},
   "source": [
    "##### 6. Confusion Matrix for Neural Network predictions"
   ]
  },
  {
   "cell_type": "code",
   "execution_count": 86,
   "metadata": {},
   "outputs": [
    {
     "data": {
      "text/plain": [
       "0.8375382262996942"
      ]
     },
     "execution_count": 86,
     "metadata": {},
     "output_type": "execute_result"
    }
   ],
   "source": [
    "y_predicted = model.predict_classes(x_test)\n",
    "\n",
    "from sklearn.metrics import accuracy_score\n",
    "accuracy_score(y_test, y_predicted)"
   ]
  },
  {
   "cell_type": "code",
   "execution_count": 87,
   "metadata": {},
   "outputs": [
    {
     "data": {
      "text/plain": [
       "Text(69.0, 0.5, 'Truth')"
      ]
     },
     "execution_count": 87,
     "metadata": {},
     "output_type": "execute_result"
    },
    {
     "data": {
      "image/png": "[encoded data removed]",
      "text/plain": [
       "<Figure size 720x504 with 1 Axes>"
      ]
     },
     "metadata": {
      "needs_background": "light"
     },
     "output_type": "display_data"
    }
   ],
   "source": [
    "cm = confusion_matrix(y_test , y_predicted)\n",
    "%matplotlib inline\n",
    "import matplotlib.pyplot as plt\n",
    "import seaborn as sn\n",
    "plt.figure(figsize = (10,7))\n",
    "sn.heatmap(cm, annot = True, cbar=False, fmt='g')\n",
    "plt.xlabel('Predicted')\n",
    "plt.ylabel('Truth')"
   ]
  },
  {
   "cell_type": "markdown",
   "metadata": {},
   "source": [
    "##### with dropout included"
   ]
  },
  {
   "cell_type": "code",
   "execution_count": 109,
   "metadata": {},
   "outputs": [
    {
     "data": {
      "text/plain": [
       "0.854230377166157"
      ]
     },
     "execution_count": 109,
     "metadata": {},
     "output_type": "execute_result"
    }
   ],
   "source": [
    "y_predicted = model.predict_classes(x_test)\n",
    "\n",
    "from sklearn.metrics import accuracy_score\n",
    "accuracy_score(y_test, y_predicted)"
   ]
  },
  {
   "cell_type": "code",
   "execution_count": 110,
   "metadata": {},
   "outputs": [
    {
     "data": {
      "text/plain": [
       "Text(69.0, 0.5, 'Truth')"
      ]
     },
     "execution_count": 110,
     "metadata": {},
     "output_type": "execute_result"
    },
    {
     "data": {
      "image/png": "[encoded data removed]",
      "text/plain": [
       "<Figure size 720x504 with 1 Axes>"
      ]
     },
     "metadata": {
      "needs_background": "light"
     },
     "output_type": "display_data"
    }
   ],
   "source": [
    "cm = confusion_matrix(y_test , y_predicted)\n",
    "%matplotlib inline\n",
    "import matplotlib.pyplot as plt\n",
    "import seaborn as sn\n",
    "plt.figure(figsize = (10,7))\n",
    "sn.heatmap(cm, annot = True, cbar=False, fmt='g')\n",
    "plt.xlabel('Predicted')\n",
    "plt.ylabel('Truth')"
   ]
  }
 ],
 "metadata": {
  "kernelspec": {
   "display_name": "Python 3 (ipykernel)",
   "language": "python",
   "name": "python3"
  },
  "language_info": {
   "codemirror_mode": {
    "name": "ipython",
    "version": 3
   },
   "file_extension": ".py",
   "mimetype": "text/x-python",
   "name": "python",
   "nbconvert_exporter": "python",
   "pygments_lexer": "ipython3",
   "version": "3.9.7"
  }
 },
 "nbformat": 4,
 "nbformat_minor": 2
}
